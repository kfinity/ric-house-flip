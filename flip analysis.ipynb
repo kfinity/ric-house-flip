{
 "cells": [
  {
   "cell_type": "code",
   "execution_count": 1,
   "id": "46977e19",
   "metadata": {},
   "outputs": [],
   "source": [
    "import pandas as pd"
   ]
  },
  {
   "cell_type": "code",
   "execution_count": 2,
   "id": "bbde368e",
   "metadata": {},
   "outputs": [],
   "source": [
    "df = pd.read_parquet('data/transfers_since_2013.parquet')"
   ]
  },
  {
   "cell_type": "code",
   "execution_count": 3,
   "id": "dcb5b6d0",
   "metadata": {},
   "outputs": [],
   "source": [
    "# new column: Property Class as integer\n",
    "df['PropClass'] = pd.to_numeric(df['Class_desc'].str[:3], errors='coerce')"
   ]
  },
  {
   "cell_type": "code",
   "execution_count": 4,
   "id": "8debe4dc",
   "metadata": {},
   "outputs": [],
   "source": [
    "# filter to SFH only\n",
    "# 43081 out of 55053 transfers were single-family homes\n",
    "df = df.loc[df['PropClass'].isin([101,110,115,120,130,150])]\n",
    "\n",
    "# Remove some specific outliers that are not really SFH\n",
    "df = df.loc[~df['Parcel_ID'].str.strip().isin(['S0002610015','E0000884025','E0000429010','E0000378003'])]"
   ]
  },
  {
   "cell_type": "code",
   "execution_count": 192,
   "id": "90740b50",
   "metadata": {},
   "outputs": [],
   "source": [
    "# Fix Parcel_ID just in case\n",
    "df['Parcel_ID'] = df['Parcel_ID'].str.strip()"
   ]
  },
  {
   "cell_type": "markdown",
   "id": "ec38c17d",
   "metadata": {},
   "source": [
    "We have a couple of markers for identifying flips vs. new housing:\n",
    "\n",
    "If YrBuilt is <2 years before Transfer_date, it's new housing\n",
    "\n",
    "If YrBuilt is NaN, it's probably a vacant lot"
   ]
  },
  {
   "cell_type": "code",
   "execution_count": 53,
   "id": "5cb87dcb",
   "metadata": {},
   "outputs": [
    {
     "data": {
      "text/html": [
       "<div>\n",
       "<style scoped>\n",
       "    .dataframe tbody tr th:only-of-type {\n",
       "        vertical-align: middle;\n",
       "    }\n",
       "\n",
       "    .dataframe tbody tr th {\n",
       "        vertical-align: top;\n",
       "    }\n",
       "\n",
       "    .dataframe thead th {\n",
       "        text-align: right;\n",
       "    }\n",
       "</style>\n",
       "<table border=\"1\" class=\"dataframe\">\n",
       "  <thead>\n",
       "    <tr style=\"text-align: right;\">\n",
       "      <th></th>\n",
       "      <th>Parcel_ID</th>\n",
       "      <th>Card</th>\n",
       "      <th>Class_desc</th>\n",
       "      <th>NBHDno</th>\n",
       "      <th>NBHDname</th>\n",
       "      <th>district_number</th>\n",
       "      <th>Prop_stree</th>\n",
       "      <th>Transfer_date</th>\n",
       "      <th>Consideration</th>\n",
       "      <th>Transfer_comment</th>\n",
       "      <th>...</th>\n",
       "      <th>Deed_page</th>\n",
       "      <th>Grantor</th>\n",
       "      <th>Grantee</th>\n",
       "      <th>Story</th>\n",
       "      <th>YearBlt</th>\n",
       "      <th>FinArea</th>\n",
       "      <th>TransferComment</th>\n",
       "      <th>YrBuilt</th>\n",
       "      <th>FinSize</th>\n",
       "      <th>PropClass</th>\n",
       "    </tr>\n",
       "  </thead>\n",
       "  <tbody>\n",
       "    <tr>\n",
       "      <th>0</th>\n",
       "      <td>C0010124012</td>\n",
       "      <td>nan</td>\n",
       "      <td>101 Single Family Vacant (R1-R6)</td>\n",
       "      <td>140.0</td>\n",
       "      <td>Traylor Estate/Huguenot Farms</td>\n",
       "      <td>4.0</td>\n",
       "      <td>8780 RIVERSIDE DR</td>\n",
       "      <td>2012-07-24</td>\n",
       "      <td>200000</td>\n",
       "      <td>Multi-Parcel Sale</td>\n",
       "      <td>...</td>\n",
       "      <td>14350</td>\n",
       "      <td>WILEY JOANN T</td>\n",
       "      <td>PRINCE J STEPHEN &amp; ELIZABETH N</td>\n",
       "      <td>NaN</td>\n",
       "      <td>NaN</td>\n",
       "      <td>NaN</td>\n",
       "      <td>nan</td>\n",
       "      <td>NaN</td>\n",
       "      <td>NaN</td>\n",
       "      <td>101.0</td>\n",
       "    </tr>\n",
       "    <tr>\n",
       "      <th>1</th>\n",
       "      <td>C0010126020</td>\n",
       "      <td>R01</td>\n",
       "      <td>110 One Story</td>\n",
       "      <td>140.0</td>\n",
       "      <td>Traylor Estate/Huguenot Farms</td>\n",
       "      <td>4.0</td>\n",
       "      <td>8781 RIVERSIDE DR</td>\n",
       "      <td>2012-07-24</td>\n",
       "      <td>700000</td>\n",
       "      <td>Multi-Parcel Sale</td>\n",
       "      <td>...</td>\n",
       "      <td>14351</td>\n",
       "      <td>WILEY JOANN T</td>\n",
       "      <td>PRINCE J STEPHEN &amp; ELIZABETH R</td>\n",
       "      <td>1.0</td>\n",
       "      <td>1930.0</td>\n",
       "      <td>2656.0</td>\n",
       "      <td>nan</td>\n",
       "      <td>NaN</td>\n",
       "      <td>NaN</td>\n",
       "      <td>110.0</td>\n",
       "    </tr>\n",
       "    <tr>\n",
       "      <th>2</th>\n",
       "      <td>C0010126026</td>\n",
       "      <td>R01</td>\n",
       "      <td>110 One Story</td>\n",
       "      <td>148.0</td>\n",
       "      <td>SouthHampton/Oxford</td>\n",
       "      <td>4.0</td>\n",
       "      <td>8646 RIVERCREST ROAD</td>\n",
       "      <td>2012-10-19</td>\n",
       "      <td>0</td>\n",
       "      <td>Related Parties</td>\n",
       "      <td>...</td>\n",
       "      <td>20843</td>\n",
       "      <td>CORKRAN LAVERN H</td>\n",
       "      <td>CORKRAN LAVERN H &amp; DOUGLAS E</td>\n",
       "      <td>1.0</td>\n",
       "      <td>1956.0</td>\n",
       "      <td>2808.0</td>\n",
       "      <td>nan</td>\n",
       "      <td>NaN</td>\n",
       "      <td>NaN</td>\n",
       "      <td>110.0</td>\n",
       "    </tr>\n",
       "    <tr>\n",
       "      <th>3</th>\n",
       "      <td>C0010126028</td>\n",
       "      <td>R01</td>\n",
       "      <td>110 One Story</td>\n",
       "      <td>140.0</td>\n",
       "      <td>Traylor Estate/Huguenot Farms</td>\n",
       "      <td>4.0</td>\n",
       "      <td>8724 RIVERCREST ROAD</td>\n",
       "      <td>2012-07-24</td>\n",
       "      <td>200000</td>\n",
       "      <td>Multi-Parcel Sale</td>\n",
       "      <td>...</td>\n",
       "      <td>14350</td>\n",
       "      <td>WILEY JOANN T</td>\n",
       "      <td>PRINCE J STEPHEN &amp; ELIZABETH R</td>\n",
       "      <td>1.0</td>\n",
       "      <td>1960.0</td>\n",
       "      <td>560.0</td>\n",
       "      <td>nan</td>\n",
       "      <td>NaN</td>\n",
       "      <td>NaN</td>\n",
       "      <td>110.0</td>\n",
       "    </tr>\n",
       "    <tr>\n",
       "      <th>4</th>\n",
       "      <td>C0010210022</td>\n",
       "      <td>R01</td>\n",
       "      <td>115 One Story+ (1.25, 1.5, 1.75)</td>\n",
       "      <td>140.0</td>\n",
       "      <td>Traylor Estate/Huguenot Farms</td>\n",
       "      <td>4.0</td>\n",
       "      <td>8819 RIVERSIDE DR</td>\n",
       "      <td>2012-09-26</td>\n",
       "      <td>365333</td>\n",
       "      <td>Related Parties</td>\n",
       "      <td>...</td>\n",
       "      <td>19063</td>\n",
       "      <td>HORWITZ LOUIS H</td>\n",
       "      <td>HORWITZ TRACEY</td>\n",
       "      <td>1.5</td>\n",
       "      <td>1948.0</td>\n",
       "      <td>3685.0</td>\n",
       "      <td>nan</td>\n",
       "      <td>NaN</td>\n",
       "      <td>NaN</td>\n",
       "      <td>115.0</td>\n",
       "    </tr>\n",
       "    <tr>\n",
       "      <th>...</th>\n",
       "      <td>...</td>\n",
       "      <td>...</td>\n",
       "      <td>...</td>\n",
       "      <td>...</td>\n",
       "      <td>...</td>\n",
       "      <td>...</td>\n",
       "      <td>...</td>\n",
       "      <td>...</td>\n",
       "      <td>...</td>\n",
       "      <td>...</td>\n",
       "      <td>...</td>\n",
       "      <td>...</td>\n",
       "      <td>...</td>\n",
       "      <td>...</td>\n",
       "      <td>...</td>\n",
       "      <td>...</td>\n",
       "      <td>...</td>\n",
       "      <td>...</td>\n",
       "      <td>...</td>\n",
       "      <td>...</td>\n",
       "      <td>...</td>\n",
       "    </tr>\n",
       "    <tr>\n",
       "      <th>55043</th>\n",
       "      <td>W0220162004</td>\n",
       "      <td>R01</td>\n",
       "      <td>120 Two Story</td>\n",
       "      <td>132.0</td>\n",
       "      <td>Ampthill/Hmptn Hlls/Hillcrest</td>\n",
       "      <td>106.0</td>\n",
       "      <td>7 River Road</td>\n",
       "      <td>2022-02-18</td>\n",
       "      <td>950000</td>\n",
       "      <td>nan</td>\n",
       "      <td>...</td>\n",
       "      <td>4215</td>\n",
       "      <td>BILLETT BETH</td>\n",
       "      <td>EBERHARDT WILLIAM</td>\n",
       "      <td>2.0</td>\n",
       "      <td>NaN</td>\n",
       "      <td>NaN</td>\n",
       "      <td>nan</td>\n",
       "      <td>1925.0</td>\n",
       "      <td>2934.0</td>\n",
       "      <td>120.0</td>\n",
       "    </tr>\n",
       "    <tr>\n",
       "      <th>55044</th>\n",
       "      <td>W0220162005</td>\n",
       "      <td>R01</td>\n",
       "      <td>120 Two Story</td>\n",
       "      <td>132.0</td>\n",
       "      <td>Ampthill/Hmptn Hlls/Hillcrest</td>\n",
       "      <td>106.0</td>\n",
       "      <td>9 River Road</td>\n",
       "      <td>2022-01-20</td>\n",
       "      <td>1725000</td>\n",
       "      <td>nan</td>\n",
       "      <td>...</td>\n",
       "      <td>1658</td>\n",
       "      <td>GIBSON PEARSON G</td>\n",
       "      <td>GATES RICHARD WILLIAMS AND</td>\n",
       "      <td>2.0</td>\n",
       "      <td>NaN</td>\n",
       "      <td>NaN</td>\n",
       "      <td>Asmnt/Sale Desc Doesn't Match</td>\n",
       "      <td>1937.0</td>\n",
       "      <td>3336.0</td>\n",
       "      <td>120.0</td>\n",
       "    </tr>\n",
       "    <tr>\n",
       "      <th>55050</th>\n",
       "      <td>W0220191007</td>\n",
       "      <td>R01</td>\n",
       "      <td>120 Two Story</td>\n",
       "      <td>136.0</td>\n",
       "      <td>Windsor Farms/Rothesay</td>\n",
       "      <td>106.0</td>\n",
       "      <td>206 Gun Club Road</td>\n",
       "      <td>2022-01-28</td>\n",
       "      <td>940000</td>\n",
       "      <td>nan</td>\n",
       "      <td>...</td>\n",
       "      <td>2425</td>\n",
       "      <td>KENNY ANNE W TRUSTEE</td>\n",
       "      <td>BROCK LESTER C III AND</td>\n",
       "      <td>2.0</td>\n",
       "      <td>NaN</td>\n",
       "      <td>NaN</td>\n",
       "      <td>Asmnt/Sale Desc Doesn't Match</td>\n",
       "      <td>1967.0</td>\n",
       "      <td>3341.0</td>\n",
       "      <td>120.0</td>\n",
       "    </tr>\n",
       "    <tr>\n",
       "      <th>55051</th>\n",
       "      <td>W0220222011</td>\n",
       "      <td>R01</td>\n",
       "      <td>120 Two Story</td>\n",
       "      <td>136.0</td>\n",
       "      <td>Windsor Farms/Rothesay</td>\n",
       "      <td>106.0</td>\n",
       "      <td>211 Berkshire Road</td>\n",
       "      <td>2022-01-04</td>\n",
       "      <td>1300000</td>\n",
       "      <td>nan</td>\n",
       "      <td>...</td>\n",
       "      <td>43</td>\n",
       "      <td>GLOSSOP SIMON G AND ELLA CARSON</td>\n",
       "      <td>ALAS KEVIN AND KELSEY B</td>\n",
       "      <td>1.0</td>\n",
       "      <td>NaN</td>\n",
       "      <td>NaN</td>\n",
       "      <td>nan</td>\n",
       "      <td>1951.0</td>\n",
       "      <td>3410.0</td>\n",
       "      <td>120.0</td>\n",
       "    </tr>\n",
       "    <tr>\n",
       "      <th>55052</th>\n",
       "      <td>W0220253017</td>\n",
       "      <td>nan</td>\n",
       "      <td>101 Single Family Vacant (R1-R7)</td>\n",
       "      <td>132.0</td>\n",
       "      <td>Ampthill/Hmptn Hlls/Hillcrest</td>\n",
       "      <td>106.0</td>\n",
       "      <td>335 Charmian Road</td>\n",
       "      <td>2022-03-18</td>\n",
       "      <td>335000</td>\n",
       "      <td>nan</td>\n",
       "      <td>...</td>\n",
       "      <td>6790</td>\n",
       "      <td>PARIS JEFFREY C AND CARRIE</td>\n",
       "      <td>ONE PARKWOOD LLC</td>\n",
       "      <td>NaN</td>\n",
       "      <td>NaN</td>\n",
       "      <td>NaN</td>\n",
       "      <td>nan</td>\n",
       "      <td>NaN</td>\n",
       "      <td>NaN</td>\n",
       "      <td>101.0</td>\n",
       "    </tr>\n",
       "  </tbody>\n",
       "</table>\n",
       "<p>43081 rows × 21 columns</p>\n",
       "</div>"
      ],
      "text/plain": [
       "                        Parcel_ID Card                        Class_desc  \\\n",
       "0      C0010124012                 nan  101 Single Family Vacant (R1-R6)   \n",
       "1      C0010126020                 R01                     110 One Story   \n",
       "2      C0010126026                 R01                     110 One Story   \n",
       "3      C0010126028                 R01                     110 One Story   \n",
       "4      C0010210022                 R01  115 One Story+ (1.25, 1.5, 1.75)   \n",
       "...                           ...  ...                               ...   \n",
       "55043                 W0220162004  R01                     120 Two Story   \n",
       "55044                 W0220162005  R01                     120 Two Story   \n",
       "55050                 W0220191007  R01                     120 Two Story   \n",
       "55051                 W0220222011  R01                     120 Two Story   \n",
       "55052                 W0220253017  nan  101 Single Family Vacant (R1-R7)   \n",
       "\n",
       "       NBHDno                       NBHDname  district_number  \\\n",
       "0       140.0  Traylor Estate/Huguenot Farms              4.0   \n",
       "1       140.0  Traylor Estate/Huguenot Farms              4.0   \n",
       "2       148.0            SouthHampton/Oxford              4.0   \n",
       "3       140.0  Traylor Estate/Huguenot Farms              4.0   \n",
       "4       140.0  Traylor Estate/Huguenot Farms              4.0   \n",
       "...       ...                            ...              ...   \n",
       "55043   132.0  Ampthill/Hmptn Hlls/Hillcrest            106.0   \n",
       "55044   132.0  Ampthill/Hmptn Hlls/Hillcrest            106.0   \n",
       "55050   136.0         Windsor Farms/Rothesay            106.0   \n",
       "55051   136.0         Windsor Farms/Rothesay            106.0   \n",
       "55052   132.0  Ampthill/Hmptn Hlls/Hillcrest            106.0   \n",
       "\n",
       "                                     Prop_stree Transfer_date  Consideration  \\\n",
       "0      8780 RIVERSIDE DR                           2012-07-24         200000   \n",
       "1      8781 RIVERSIDE DR                           2012-07-24         700000   \n",
       "2      8646 RIVERCREST ROAD                        2012-10-19              0   \n",
       "3      8724 RIVERCREST ROAD                        2012-07-24         200000   \n",
       "4      8819 RIVERSIDE DR                           2012-09-26         365333   \n",
       "...                                         ...           ...            ...   \n",
       "55043                              7 River Road    2022-02-18         950000   \n",
       "55044                              9 River Road    2022-01-20        1725000   \n",
       "55050                         206 Gun Club Road    2022-01-28         940000   \n",
       "55051                        211 Berkshire Road    2022-01-04        1300000   \n",
       "55052                         335 Charmian Road    2022-03-18         335000   \n",
       "\n",
       "        Transfer_comment  ... Deed_page                               Grantor  \\\n",
       "0      Multi-Parcel Sale  ...     14350  WILEY JOANN T                          \n",
       "1      Multi-Parcel Sale  ...     14351  WILEY JOANN T                          \n",
       "2        Related Parties  ...     20843  CORKRAN LAVERN H                       \n",
       "3      Multi-Parcel Sale  ...     14350  WILEY JOANN T                          \n",
       "4        Related Parties  ...     19063  HORWITZ LOUIS H                        \n",
       "...                  ...  ...       ...                                   ...   \n",
       "55043                nan  ...      4215                          BILLETT BETH   \n",
       "55044                nan  ...      1658                      GIBSON PEARSON G   \n",
       "55050                nan  ...      2425                  KENNY ANNE W TRUSTEE   \n",
       "55051                nan  ...        43       GLOSSOP SIMON G AND ELLA CARSON   \n",
       "55052                nan  ...      6790            PARIS JEFFREY C AND CARRIE   \n",
       "\n",
       "                              Grantee Story  YearBlt  FinArea  \\\n",
       "0      PRINCE J STEPHEN & ELIZABETH N   NaN      NaN      NaN   \n",
       "1      PRINCE J STEPHEN & ELIZABETH R   1.0   1930.0   2656.0   \n",
       "2        CORKRAN LAVERN H & DOUGLAS E   1.0   1956.0   2808.0   \n",
       "3      PRINCE J STEPHEN & ELIZABETH R   1.0   1960.0    560.0   \n",
       "4                      HORWITZ TRACEY   1.5   1948.0   3685.0   \n",
       "...                               ...   ...      ...      ...   \n",
       "55043               EBERHARDT WILLIAM   2.0      NaN      NaN   \n",
       "55044      GATES RICHARD WILLIAMS AND   2.0      NaN      NaN   \n",
       "55050          BROCK LESTER C III AND   2.0      NaN      NaN   \n",
       "55051         ALAS KEVIN AND KELSEY B   1.0      NaN      NaN   \n",
       "55052                ONE PARKWOOD LLC   NaN      NaN      NaN   \n",
       "\n",
       "                     TransferComment YrBuilt  FinSize  PropClass  \n",
       "0                                nan     NaN      NaN      101.0  \n",
       "1                                nan     NaN      NaN      110.0  \n",
       "2                                nan     NaN      NaN      110.0  \n",
       "3                                nan     NaN      NaN      110.0  \n",
       "4                                nan     NaN      NaN      115.0  \n",
       "...                              ...     ...      ...        ...  \n",
       "55043                            nan  1925.0   2934.0      120.0  \n",
       "55044  Asmnt/Sale Desc Doesn't Match  1937.0   3336.0      120.0  \n",
       "55050  Asmnt/Sale Desc Doesn't Match  1967.0   3341.0      120.0  \n",
       "55051                            nan  1951.0   3410.0      120.0  \n",
       "55052                            nan     NaN      NaN      101.0  \n",
       "\n",
       "[43081 rows x 21 columns]"
      ]
     },
     "execution_count": 53,
     "metadata": {},
     "output_type": "execute_result"
    }
   ],
   "source": [
    "df"
   ]
  },
  {
   "cell_type": "code",
   "execution_count": 97,
   "id": "cc23cf26",
   "metadata": {},
   "outputs": [],
   "source": [
    "df['sale'] = df['Deed_book'] + '.' + df['Deed_page']\n",
    "#pre-work: group by parcel_id (and sale) and only keep columns we need\n",
    "preflips = df.groupby(['Parcel_ID','Grantor','Grantee','sale']).agg({'NBHDno':'min','district_number':'min',\n",
    "                                      'Transfer_date':'min',\n",
    "                                      'Consideration':'min',\n",
    "                                      'TransferComment': ';'.join,\n",
    "                                      'YrBuilt':'min',\n",
    "                                      'FinSize':'sum'})"
   ]
  },
  {
   "cell_type": "code",
   "execution_count": 98,
   "id": "0f2cff31",
   "metadata": {},
   "outputs": [],
   "source": [
    "preflips.reset_index(inplace=True)"
   ]
  },
  {
   "cell_type": "code",
   "execution_count": 99,
   "id": "69f0d952",
   "metadata": {},
   "outputs": [
    {
     "data": {
      "text/plain": [
       "(9706, 21)"
      ]
     },
     "execution_count": 99,
     "metadata": {},
     "output_type": "execute_result"
    }
   ],
   "source": [
    "# identify parcels resold \n",
    "# I think a self-join makes the most sense\n",
    "flips = preflips.merge\\\n",
    "    (preflips,left_on = ['Parcel_ID', 'Grantee'], right_on = ['Parcel_ID', 'Grantor'], how='inner')\n",
    "flips.shape"
   ]
  },
  {
   "cell_type": "code",
   "execution_count": 100,
   "id": "7c24c0c5",
   "metadata": {},
   "outputs": [],
   "source": [
    "# Add timedelta column for how long the property was held for\n",
    "flips['hold_time'] = flips['Transfer_date_y'] - flips['Transfer_date_x']"
   ]
  },
  {
   "cell_type": "code",
   "execution_count": 101,
   "id": "df6ab8b3",
   "metadata": {},
   "outputs": [
    {
     "data": {
      "text/plain": [
       "<AxesSubplot:>"
      ]
     },
     "execution_count": 101,
     "metadata": {},
     "output_type": "execute_result"
    },
    {
     "data": {
      "image/png": "[encoded data removed]",
      "text/plain": [
       "<Figure size 432x288 with 1 Axes>"
      ]
     },
     "metadata": {
      "needs_background": "light"
     },
     "output_type": "display_data"
    }
   ],
   "source": [
    "flips['hold_time'].dt.days.hist(bins=20)"
   ]
  },
  {
   "cell_type": "code",
   "execution_count": 102,
   "id": "64baf431",
   "metadata": {},
   "outputs": [
    {
     "data": {
      "text/plain": [
       "(6026, 22)"
      ]
     },
     "execution_count": 102,
     "metadata": {},
     "output_type": "execute_result"
    }
   ],
   "source": [
    "# filter out:\n",
    "# hold times < 0 - these are probably cycles (30 rows)\n",
    "flips = flips.loc[flips['hold_time'].dt.days >= 0]\n",
    "# hold times > 2 years - probably somebody just lived there and then moved (3719 rows)\n",
    "flips = flips.loc[flips['hold_time'] < pd.Timedelta(365*2, \"d\")]\n",
    "flips.shape"
   ]
  },
  {
   "cell_type": "code",
   "execution_count": 103,
   "id": "08f533a3",
   "metadata": {},
   "outputs": [],
   "source": [
    "# add a column for price difference\n",
    "flips['price_diff'] = flips['Consideration_y'] - flips['Consideration_x']"
   ]
  },
  {
   "cell_type": "code",
   "execution_count": 104,
   "id": "14e03df4",
   "metadata": {},
   "outputs": [
    {
     "data": {
      "text/plain": [
       "(4677, 23)"
      ]
     },
     "execution_count": 104,
     "metadata": {},
     "output_type": "execute_result"
    }
   ],
   "source": [
    "flips = flips.loc[flips['price_diff']>0] # exclude 1361 rows\n",
    "# warning: some of the large negative price differences are due to the first sale being \"multiple parcels\"\n",
    "# for our purposes, I don't think that's immediately relevant, since most flippers seem to buy houses individually.\n",
    "flips.shape"
   ]
  },
  {
   "cell_type": "code",
   "execution_count": 105,
   "id": "3749d65a",
   "metadata": {},
   "outputs": [
    {
     "data": {
      "text/plain": [
       "(4407, 23)"
      ]
     },
     "execution_count": 105,
     "metadata": {},
     "output_type": "execute_result"
    }
   ],
   "source": [
    "# drop invalid sales\n",
    "# how many are 'invalid sales'? about a quarter of the remaining rows - 1151 / 4742\n",
    "# many of them are \n",
    "#flips.loc[flips['TransferComment_y'] != 'nan']\n",
    "# exclude certain invalid sales - keep the rest for now\n",
    "flips = flips.loc[~flips['TransferComment_y'].isin(['Foreclosure Related/Short Sale','Sale Includes Multiple Parcels','Special Financing/Terms, etc.'])]\n",
    "flips.shape"
   ]
  },
  {
   "cell_type": "code",
   "execution_count": 145,
   "id": "46377c1f",
   "metadata": {},
   "outputs": [
    {
     "data": {
      "text/plain": [
       "(3669, 26)"
      ]
     },
     "execution_count": 145,
     "metadata": {},
     "output_type": "execute_result"
    }
   ],
   "source": [
    "# drop flips where the first sale was 0 sq ft - probably a vacant lot\n",
    "flips = flips.loc[flips['FinSize_x']>0]\n",
    "# also drop flips where a house was razed and a new one built (9 rows)\n",
    "flips = flips.loc[flips['YrBuilt_x']<=flips['YrBuilt_y']]\n",
    "# drop flips where the house is newly built (~400 rows)\n",
    "flips['age'] = flips['year'] - flips['YrBuilt_y']\n",
    "flips = flips.loc[flips['age']>=2]\n",
    "flips.shape"
   ]
  },
  {
   "cell_type": "code",
   "execution_count": 183,
   "id": "564adf7d",
   "metadata": {},
   "outputs": [],
   "source": [
    "# let's add the difference in sq.footage - a good sign of a serious renovation\n",
    "flips['size_diff'] = flips['FinSize_y'] - flips['FinSize_x']\n",
    "# also ROI\n",
    "flips['roi'] = (flips['price_diff'] / flips['Consideration_x']) *100"
   ]
  },
  {
   "cell_type": "code",
   "execution_count": 146,
   "id": "15b528c3",
   "metadata": {},
   "outputs": [
    {
     "data": {
      "text/html": [
       "<div>\n",
       "<style scoped>\n",
       "    .dataframe tbody tr th:only-of-type {\n",
       "        vertical-align: middle;\n",
       "    }\n",
       "\n",
       "    .dataframe tbody tr th {\n",
       "        vertical-align: top;\n",
       "    }\n",
       "\n",
       "    .dataframe thead th {\n",
       "        text-align: right;\n",
       "    }\n",
       "</style>\n",
       "<table border=\"1\" class=\"dataframe\">\n",
       "  <thead>\n",
       "    <tr style=\"text-align: right;\">\n",
       "      <th></th>\n",
       "      <th>Parcel_ID</th>\n",
       "      <th>Grantor_x</th>\n",
       "      <th>Grantee_x</th>\n",
       "      <th>sale_x</th>\n",
       "      <th>NBHDno_x</th>\n",
       "      <th>district_number_x</th>\n",
       "      <th>Transfer_date_x</th>\n",
       "      <th>Consideration_x</th>\n",
       "      <th>TransferComment_x</th>\n",
       "      <th>YrBuilt_x</th>\n",
       "      <th>...</th>\n",
       "      <th>Transfer_date_y</th>\n",
       "      <th>Consideration_y</th>\n",
       "      <th>TransferComment_y</th>\n",
       "      <th>YrBuilt_y</th>\n",
       "      <th>FinSize_y</th>\n",
       "      <th>hold_time</th>\n",
       "      <th>price_diff</th>\n",
       "      <th>size_diff</th>\n",
       "      <th>year</th>\n",
       "      <th>age</th>\n",
       "    </tr>\n",
       "  </thead>\n",
       "  <tbody>\n",
       "    <tr>\n",
       "      <th>5659</th>\n",
       "      <td>N0001249025</td>\n",
       "      <td>MEADOWS PATRICIA A AND</td>\n",
       "      <td>KC ENTERPRISES OF VA LLC</td>\n",
       "      <td>ID2016.11192</td>\n",
       "      <td>209.0</td>\n",
       "      <td>303.0</td>\n",
       "      <td>2016-06-15</td>\n",
       "      <td>70000</td>\n",
       "      <td>Foreclosure, Forced Sale etc.</td>\n",
       "      <td>1923.0</td>\n",
       "      <td>...</td>\n",
       "      <td>2017-12-18</td>\n",
       "      <td>429950</td>\n",
       "      <td>nan</td>\n",
       "      <td>1928.0</td>\n",
       "      <td>2278.0</td>\n",
       "      <td>551 days</td>\n",
       "      <td>359950</td>\n",
       "      <td>92.0</td>\n",
       "      <td>2017</td>\n",
       "      <td>89.0</td>\n",
       "    </tr>\n",
       "    <tr>\n",
       "      <th>6135</th>\n",
       "      <td>N0160133003</td>\n",
       "      <td>MCLEOD MARION JR</td>\n",
       "      <td>JORDAN ALPHONSO R</td>\n",
       "      <td>ID2017.16011.0</td>\n",
       "      <td>209.0</td>\n",
       "      <td>303.0</td>\n",
       "      <td>2017-08-02</td>\n",
       "      <td>12500</td>\n",
       "      <td>Foreclosure, Forced Sale etc.</td>\n",
       "      <td>1950.0</td>\n",
       "      <td>...</td>\n",
       "      <td>2019-04-26</td>\n",
       "      <td>374950</td>\n",
       "      <td>nan</td>\n",
       "      <td>1950.0</td>\n",
       "      <td>2663.0</td>\n",
       "      <td>632 days</td>\n",
       "      <td>362450</td>\n",
       "      <td>1647.0</td>\n",
       "      <td>2019</td>\n",
       "      <td>69.0</td>\n",
       "    </tr>\n",
       "    <tr>\n",
       "      <th>2554</th>\n",
       "      <td>E0000431009</td>\n",
       "      <td>JOHNSON WILLIAM P &amp; CARRIE H</td>\n",
       "      <td>MATTHEWS COREY</td>\n",
       "      <td>ID2020.2979</td>\n",
       "      <td>338.0</td>\n",
       "      <td>707.0</td>\n",
       "      <td>2020-02-10</td>\n",
       "      <td>35764</td>\n",
       "      <td>Asmnt/Sale Desc Doesn't Match</td>\n",
       "      <td>1910.0</td>\n",
       "      <td>...</td>\n",
       "      <td>2021-05-19</td>\n",
       "      <td>405000</td>\n",
       "      <td>nan</td>\n",
       "      <td>1910.0</td>\n",
       "      <td>2056.0</td>\n",
       "      <td>464 days</td>\n",
       "      <td>369236</td>\n",
       "      <td>0.0</td>\n",
       "      <td>2021</td>\n",
       "      <td>111.0</td>\n",
       "    </tr>\n",
       "    <tr>\n",
       "      <th>2408</th>\n",
       "      <td>E0000290004</td>\n",
       "      <td>GREEN CORLOUS AND LORIE</td>\n",
       "      <td>SOJO ENTERPRISES LLC</td>\n",
       "      <td>ID2018.2664</td>\n",
       "      <td>338.0</td>\n",
       "      <td>707.0</td>\n",
       "      <td>2018-02-09</td>\n",
       "      <td>80000</td>\n",
       "      <td>nan</td>\n",
       "      <td>1900.0</td>\n",
       "      <td>...</td>\n",
       "      <td>2019-06-26</td>\n",
       "      <td>450000</td>\n",
       "      <td>nan</td>\n",
       "      <td>1900.0</td>\n",
       "      <td>2456.0</td>\n",
       "      <td>502 days</td>\n",
       "      <td>370000</td>\n",
       "      <td>928.0</td>\n",
       "      <td>2019</td>\n",
       "      <td>119.0</td>\n",
       "    </tr>\n",
       "    <tr>\n",
       "      <th>5681</th>\n",
       "      <td>N0001264010</td>\n",
       "      <td>SCOTT LINWOOD &amp; DEBORAH A</td>\n",
       "      <td>WATCHTOWER HOMES AND</td>\n",
       "      <td>ID2021.2309</td>\n",
       "      <td>308.0</td>\n",
       "      <td>606.0</td>\n",
       "      <td>2021-01-25</td>\n",
       "      <td>40000</td>\n",
       "      <td>Special Financing/Terms, etc.</td>\n",
       "      <td>1946.0</td>\n",
       "      <td>...</td>\n",
       "      <td>2021-08-05</td>\n",
       "      <td>410000</td>\n",
       "      <td>nan</td>\n",
       "      <td>1946.0</td>\n",
       "      <td>1783.0</td>\n",
       "      <td>192 days</td>\n",
       "      <td>370000</td>\n",
       "      <td>0.0</td>\n",
       "      <td>2021</td>\n",
       "      <td>75.0</td>\n",
       "    </tr>\n",
       "    <tr>\n",
       "      <th>4906</th>\n",
       "      <td>N0000870012</td>\n",
       "      <td>CORPREW VERNETTA J</td>\n",
       "      <td>XTREME HOMES LLC</td>\n",
       "      <td>ID2016.9944</td>\n",
       "      <td>316.0</td>\n",
       "      <td>305.0</td>\n",
       "      <td>2016-05-27</td>\n",
       "      <td>70000</td>\n",
       "      <td>nan</td>\n",
       "      <td>1922.0</td>\n",
       "      <td>...</td>\n",
       "      <td>2017-06-13</td>\n",
       "      <td>445000</td>\n",
       "      <td>nan</td>\n",
       "      <td>1922.0</td>\n",
       "      <td>2095.0</td>\n",
       "      <td>382 days</td>\n",
       "      <td>375000</td>\n",
       "      <td>0.0</td>\n",
       "      <td>2017</td>\n",
       "      <td>95.0</td>\n",
       "    </tr>\n",
       "    <tr>\n",
       "      <th>4911</th>\n",
       "      <td>N0000870018</td>\n",
       "      <td>BATTLE ROMAN</td>\n",
       "      <td>K C ENTERPRISES OF VA LLC</td>\n",
       "      <td>ID2016.14159</td>\n",
       "      <td>316.0</td>\n",
       "      <td>305.0</td>\n",
       "      <td>2016-07-26</td>\n",
       "      <td>108000</td>\n",
       "      <td>Sale Outside Market Range</td>\n",
       "      <td>1919.0</td>\n",
       "      <td>...</td>\n",
       "      <td>2017-10-11</td>\n",
       "      <td>490000</td>\n",
       "      <td>nan</td>\n",
       "      <td>1919.0</td>\n",
       "      <td>2893.0</td>\n",
       "      <td>442 days</td>\n",
       "      <td>382000</td>\n",
       "      <td>1003.0</td>\n",
       "      <td>2017</td>\n",
       "      <td>98.0</td>\n",
       "    </tr>\n",
       "    <tr>\n",
       "      <th>4917</th>\n",
       "      <td>N0000873021</td>\n",
       "      <td>EVANS CAROLYN AND</td>\n",
       "      <td>XTREME HOMES LLC</td>\n",
       "      <td>ID2018.1428</td>\n",
       "      <td>316.0</td>\n",
       "      <td>305.0</td>\n",
       "      <td>2018-01-23</td>\n",
       "      <td>115000</td>\n",
       "      <td>nan</td>\n",
       "      <td>1929.0</td>\n",
       "      <td>...</td>\n",
       "      <td>2019-02-28</td>\n",
       "      <td>499950</td>\n",
       "      <td>nan</td>\n",
       "      <td>1929.0</td>\n",
       "      <td>2158.0</td>\n",
       "      <td>401 days</td>\n",
       "      <td>384950</td>\n",
       "      <td>0.0</td>\n",
       "      <td>2019</td>\n",
       "      <td>90.0</td>\n",
       "    </tr>\n",
       "    <tr>\n",
       "      <th>4349</th>\n",
       "      <td>N0000404012</td>\n",
       "      <td>BANKS BARBARA J &amp; LEE ANTHONY &amp;</td>\n",
       "      <td>ES PROPERTIES 2 LLC</td>\n",
       "      <td>ID2021.593</td>\n",
       "      <td>320.0</td>\n",
       "      <td>603.0</td>\n",
       "      <td>2021-01-07</td>\n",
       "      <td>65000</td>\n",
       "      <td>Foreclosure, Forced Sale etc.</td>\n",
       "      <td>1900.0</td>\n",
       "      <td>...</td>\n",
       "      <td>2021-07-08</td>\n",
       "      <td>455000</td>\n",
       "      <td>nan</td>\n",
       "      <td>1900.0</td>\n",
       "      <td>2279.0</td>\n",
       "      <td>182 days</td>\n",
       "      <td>390000</td>\n",
       "      <td>0.0</td>\n",
       "      <td>2021</td>\n",
       "      <td>121.0</td>\n",
       "    </tr>\n",
       "    <tr>\n",
       "      <th>2548</th>\n",
       "      <td>E0000429010</td>\n",
       "      <td>CITY OF RICHMOND</td>\n",
       "      <td>RICHMOND METROPOLITIAN HABITAT</td>\n",
       "      <td>ID2016.21343</td>\n",
       "      <td>338.0</td>\n",
       "      <td>707.0</td>\n",
       "      <td>2016-10-31</td>\n",
       "      <td>1750</td>\n",
       "      <td>nan</td>\n",
       "      <td>1850.0</td>\n",
       "      <td>...</td>\n",
       "      <td>2018-08-06</td>\n",
       "      <td>396000</td>\n",
       "      <td>nan</td>\n",
       "      <td>1850.0</td>\n",
       "      <td>2046.0</td>\n",
       "      <td>644 days</td>\n",
       "      <td>394250</td>\n",
       "      <td>452.0</td>\n",
       "      <td>2018</td>\n",
       "      <td>168.0</td>\n",
       "    </tr>\n",
       "  </tbody>\n",
       "</table>\n",
       "<p>10 rows × 26 columns</p>\n",
       "</div>"
      ],
      "text/plain": [
       "        Parcel_ID                        Grantor_x  \\\n",
       "5659  N0001249025           MEADOWS PATRICIA A AND   \n",
       "6135  N0160133003                 MCLEOD MARION JR   \n",
       "2554  E0000431009     JOHNSON WILLIAM P & CARRIE H   \n",
       "2408  E0000290004          GREEN CORLOUS AND LORIE   \n",
       "5681  N0001264010        SCOTT LINWOOD & DEBORAH A   \n",
       "4906  N0000870012               CORPREW VERNETTA J   \n",
       "4911  N0000870018                     BATTLE ROMAN   \n",
       "4917  N0000873021                EVANS CAROLYN AND   \n",
       "4349  N0000404012  BANKS BARBARA J & LEE ANTHONY &   \n",
       "2548  E0000429010                 CITY OF RICHMOND   \n",
       "\n",
       "                           Grantee_x          sale_x  NBHDno_x  \\\n",
       "5659        KC ENTERPRISES OF VA LLC    ID2016.11192     209.0   \n",
       "6135               JORDAN ALPHONSO R  ID2017.16011.0     209.0   \n",
       "2554                  MATTHEWS COREY     ID2020.2979     338.0   \n",
       "2408            SOJO ENTERPRISES LLC     ID2018.2664     338.0   \n",
       "5681            WATCHTOWER HOMES AND     ID2021.2309     308.0   \n",
       "4906                XTREME HOMES LLC     ID2016.9944     316.0   \n",
       "4911       K C ENTERPRISES OF VA LLC    ID2016.14159     316.0   \n",
       "4917                XTREME HOMES LLC     ID2018.1428     316.0   \n",
       "4349             ES PROPERTIES 2 LLC      ID2021.593     320.0   \n",
       "2548  RICHMOND METROPOLITIAN HABITAT    ID2016.21343     338.0   \n",
       "\n",
       "      district_number_x Transfer_date_x  Consideration_x  \\\n",
       "5659              303.0      2016-06-15            70000   \n",
       "6135              303.0      2017-08-02            12500   \n",
       "2554              707.0      2020-02-10            35764   \n",
       "2408              707.0      2018-02-09            80000   \n",
       "5681              606.0      2021-01-25            40000   \n",
       "4906              305.0      2016-05-27            70000   \n",
       "4911              305.0      2016-07-26           108000   \n",
       "4917              305.0      2018-01-23           115000   \n",
       "4349              603.0      2021-01-07            65000   \n",
       "2548              707.0      2016-10-31             1750   \n",
       "\n",
       "                  TransferComment_x  YrBuilt_x  ...  Transfer_date_y  \\\n",
       "5659  Foreclosure, Forced Sale etc.     1923.0  ...       2017-12-18   \n",
       "6135  Foreclosure, Forced Sale etc.     1950.0  ...       2019-04-26   \n",
       "2554  Asmnt/Sale Desc Doesn't Match     1910.0  ...       2021-05-19   \n",
       "2408                            nan     1900.0  ...       2019-06-26   \n",
       "5681  Special Financing/Terms, etc.     1946.0  ...       2021-08-05   \n",
       "4906                            nan     1922.0  ...       2017-06-13   \n",
       "4911      Sale Outside Market Range     1919.0  ...       2017-10-11   \n",
       "4917                            nan     1929.0  ...       2019-02-28   \n",
       "4349  Foreclosure, Forced Sale etc.     1900.0  ...       2021-07-08   \n",
       "2548                            nan     1850.0  ...       2018-08-06   \n",
       "\n",
       "     Consideration_y TransferComment_y YrBuilt_y  FinSize_y  hold_time  \\\n",
       "5659          429950               nan    1928.0     2278.0   551 days   \n",
       "6135          374950               nan    1950.0     2663.0   632 days   \n",
       "2554          405000               nan    1910.0     2056.0   464 days   \n",
       "2408          450000               nan    1900.0     2456.0   502 days   \n",
       "5681          410000               nan    1946.0     1783.0   192 days   \n",
       "4906          445000               nan    1922.0     2095.0   382 days   \n",
       "4911          490000               nan    1919.0     2893.0   442 days   \n",
       "4917          499950               nan    1929.0     2158.0   401 days   \n",
       "4349          455000               nan    1900.0     2279.0   182 days   \n",
       "2548          396000               nan    1850.0     2046.0   644 days   \n",
       "\n",
       "     price_diff  size_diff  year    age  \n",
       "5659     359950       92.0  2017   89.0  \n",
       "6135     362450     1647.0  2019   69.0  \n",
       "2554     369236        0.0  2021  111.0  \n",
       "2408     370000      928.0  2019  119.0  \n",
       "5681     370000        0.0  2021   75.0  \n",
       "4906     375000        0.0  2017   95.0  \n",
       "4911     382000     1003.0  2017   98.0  \n",
       "4917     384950        0.0  2019   90.0  \n",
       "4349     390000        0.0  2021  121.0  \n",
       "2548     394250      452.0  2018  168.0  \n",
       "\n",
       "[10 rows x 26 columns]"
      ]
     },
     "execution_count": 146,
     "metadata": {},
     "output_type": "execute_result"
    }
   ],
   "source": [
    "#flips.shape\n",
    "#flips.sort_values(['price_diff']).tail(20)\n",
    "\n",
    "#\n",
    "flips.loc[flips['Consideration_y']<500000].sort_values(['price_diff']).tail(10)"
   ]
  },
  {
   "cell_type": "code",
   "execution_count": 96,
   "id": "5afc9ab0",
   "metadata": {},
   "outputs": [
    {
     "data": {
      "text/html": [
       "<div>\n",
       "<style scoped>\n",
       "    .dataframe tbody tr th:only-of-type {\n",
       "        vertical-align: middle;\n",
       "    }\n",
       "\n",
       "    .dataframe tbody tr th {\n",
       "        vertical-align: top;\n",
       "    }\n",
       "\n",
       "    .dataframe thead th {\n",
       "        text-align: right;\n",
       "    }\n",
       "</style>\n",
       "<table border=\"1\" class=\"dataframe\">\n",
       "  <thead>\n",
       "    <tr style=\"text-align: right;\">\n",
       "      <th></th>\n",
       "      <th>Parcel_ID</th>\n",
       "      <th>Card</th>\n",
       "      <th>Class_desc</th>\n",
       "      <th>NBHDno</th>\n",
       "      <th>NBHDname</th>\n",
       "      <th>district_number</th>\n",
       "      <th>Prop_stree</th>\n",
       "      <th>Transfer_date</th>\n",
       "      <th>Consideration</th>\n",
       "      <th>Transfer_comment</th>\n",
       "      <th>...</th>\n",
       "      <th>Grantor</th>\n",
       "      <th>Grantee</th>\n",
       "      <th>Story</th>\n",
       "      <th>YearBlt</th>\n",
       "      <th>FinArea</th>\n",
       "      <th>TransferComment</th>\n",
       "      <th>YrBuilt</th>\n",
       "      <th>FinSize</th>\n",
       "      <th>PropClass</th>\n",
       "      <th>sale</th>\n",
       "    </tr>\n",
       "  </thead>\n",
       "  <tbody>\n",
       "    <tr>\n",
       "      <th>52136</th>\n",
       "      <td>W0000442020</td>\n",
       "      <td>R01</td>\n",
       "      <td>120 Two Story</td>\n",
       "      <td>224.0</td>\n",
       "      <td>Fan South to RMA</td>\n",
       "      <td>504.0</td>\n",
       "      <td>15 1/2 Randolph St</td>\n",
       "      <td>2021-09-09</td>\n",
       "      <td>1326200</td>\n",
       "      <td>nan</td>\n",
       "      <td>...</td>\n",
       "      <td>ECK ENTERPRISES INC</td>\n",
       "      <td>METRO PROPERTIES INC</td>\n",
       "      <td>2.0</td>\n",
       "      <td>NaN</td>\n",
       "      <td>NaN</td>\n",
       "      <td>Sale Includes Multiple Parcels</td>\n",
       "      <td>1900.0</td>\n",
       "      <td>1540.0</td>\n",
       "      <td>120.0</td>\n",
       "      <td>ID2021.25994</td>\n",
       "    </tr>\n",
       "    <tr>\n",
       "      <th>52137</th>\n",
       "      <td>W0000442020</td>\n",
       "      <td>R02</td>\n",
       "      <td>120 Two Story</td>\n",
       "      <td>224.0</td>\n",
       "      <td>Fan South to RMA</td>\n",
       "      <td>504.0</td>\n",
       "      <td>15 1/2 Randolph St</td>\n",
       "      <td>2021-09-09</td>\n",
       "      <td>1326200</td>\n",
       "      <td>nan</td>\n",
       "      <td>...</td>\n",
       "      <td>ECK ENTERPRISES INC</td>\n",
       "      <td>METRO PROPERTIES INC</td>\n",
       "      <td>2.0</td>\n",
       "      <td>NaN</td>\n",
       "      <td>NaN</td>\n",
       "      <td>Sale Includes Multiple Parcels</td>\n",
       "      <td>1900.0</td>\n",
       "      <td>990.0</td>\n",
       "      <td>120.0</td>\n",
       "      <td>ID2021.25994</td>\n",
       "    </tr>\n",
       "    <tr>\n",
       "      <th>52138</th>\n",
       "      <td>W0000442020</td>\n",
       "      <td>R03</td>\n",
       "      <td>120 Two Story</td>\n",
       "      <td>224.0</td>\n",
       "      <td>Fan South to RMA</td>\n",
       "      <td>504.0</td>\n",
       "      <td>15 1/2 Randolph St</td>\n",
       "      <td>2021-09-09</td>\n",
       "      <td>1326200</td>\n",
       "      <td>nan</td>\n",
       "      <td>...</td>\n",
       "      <td>ECK ENTERPRISES INC</td>\n",
       "      <td>METRO PROPERTIES INC</td>\n",
       "      <td>2.0</td>\n",
       "      <td>NaN</td>\n",
       "      <td>NaN</td>\n",
       "      <td>Sale Includes Multiple Parcels</td>\n",
       "      <td>1900.0</td>\n",
       "      <td>1540.0</td>\n",
       "      <td>120.0</td>\n",
       "      <td>ID2021.25994</td>\n",
       "    </tr>\n",
       "    <tr>\n",
       "      <th>52139</th>\n",
       "      <td>W0000442020</td>\n",
       "      <td>R04</td>\n",
       "      <td>120 Two Story</td>\n",
       "      <td>224.0</td>\n",
       "      <td>Fan South to RMA</td>\n",
       "      <td>504.0</td>\n",
       "      <td>15 1/2 Randolph St</td>\n",
       "      <td>2021-09-09</td>\n",
       "      <td>1326200</td>\n",
       "      <td>nan</td>\n",
       "      <td>...</td>\n",
       "      <td>ECK ENTERPRISES INC</td>\n",
       "      <td>METRO PROPERTIES INC</td>\n",
       "      <td>2.0</td>\n",
       "      <td>NaN</td>\n",
       "      <td>NaN</td>\n",
       "      <td>Sale Includes Multiple Parcels</td>\n",
       "      <td>1900.0</td>\n",
       "      <td>960.0</td>\n",
       "      <td>120.0</td>\n",
       "      <td>ID2021.25994</td>\n",
       "    </tr>\n",
       "    <tr>\n",
       "      <th>52140</th>\n",
       "      <td>W0000442020</td>\n",
       "      <td>R05</td>\n",
       "      <td>120 Two Story</td>\n",
       "      <td>224.0</td>\n",
       "      <td>Fan South to RMA</td>\n",
       "      <td>504.0</td>\n",
       "      <td>15 1/2 Randolph St</td>\n",
       "      <td>2021-09-09</td>\n",
       "      <td>1326200</td>\n",
       "      <td>nan</td>\n",
       "      <td>...</td>\n",
       "      <td>ECK ENTERPRISES INC</td>\n",
       "      <td>METRO PROPERTIES INC</td>\n",
       "      <td>2.0</td>\n",
       "      <td>NaN</td>\n",
       "      <td>NaN</td>\n",
       "      <td>Sale Includes Multiple Parcels</td>\n",
       "      <td>1900.0</td>\n",
       "      <td>990.0</td>\n",
       "      <td>120.0</td>\n",
       "      <td>ID2021.25994</td>\n",
       "    </tr>\n",
       "  </tbody>\n",
       "</table>\n",
       "<p>5 rows × 22 columns</p>\n",
       "</div>"
      ],
      "text/plain": [
       "         Parcel_ID Card     Class_desc  NBHDno          NBHDname  \\\n",
       "52136  W0000442020  R01  120 Two Story   224.0  Fan South to RMA   \n",
       "52137  W0000442020  R02  120 Two Story   224.0  Fan South to RMA   \n",
       "52138  W0000442020  R03  120 Two Story   224.0  Fan South to RMA   \n",
       "52139  W0000442020  R04  120 Two Story   224.0  Fan South to RMA   \n",
       "52140  W0000442020  R05  120 Two Story   224.0  Fan South to RMA   \n",
       "\n",
       "       district_number          Prop_stree Transfer_date  Consideration  \\\n",
       "52136            504.0  15 1/2 Randolph St    2021-09-09        1326200   \n",
       "52137            504.0  15 1/2 Randolph St    2021-09-09        1326200   \n",
       "52138            504.0  15 1/2 Randolph St    2021-09-09        1326200   \n",
       "52139            504.0  15 1/2 Randolph St    2021-09-09        1326200   \n",
       "52140            504.0  15 1/2 Randolph St    2021-09-09        1326200   \n",
       "\n",
       "      Transfer_comment  ...              Grantor               Grantee Story  \\\n",
       "52136              nan  ...  ECK ENTERPRISES INC  METRO PROPERTIES INC   2.0   \n",
       "52137              nan  ...  ECK ENTERPRISES INC  METRO PROPERTIES INC   2.0   \n",
       "52138              nan  ...  ECK ENTERPRISES INC  METRO PROPERTIES INC   2.0   \n",
       "52139              nan  ...  ECK ENTERPRISES INC  METRO PROPERTIES INC   2.0   \n",
       "52140              nan  ...  ECK ENTERPRISES INC  METRO PROPERTIES INC   2.0   \n",
       "\n",
       "      YearBlt  FinArea                 TransferComment  YrBuilt FinSize  \\\n",
       "52136     NaN      NaN  Sale Includes Multiple Parcels   1900.0  1540.0   \n",
       "52137     NaN      NaN  Sale Includes Multiple Parcels   1900.0   990.0   \n",
       "52138     NaN      NaN  Sale Includes Multiple Parcels   1900.0  1540.0   \n",
       "52139     NaN      NaN  Sale Includes Multiple Parcels   1900.0   960.0   \n",
       "52140     NaN      NaN  Sale Includes Multiple Parcels   1900.0   990.0   \n",
       "\n",
       "       PropClass          sale  \n",
       "52136      120.0  ID2021.25994  \n",
       "52137      120.0  ID2021.25994  \n",
       "52138      120.0  ID2021.25994  \n",
       "52139      120.0  ID2021.25994  \n",
       "52140      120.0  ID2021.25994  \n",
       "\n",
       "[5 rows x 22 columns]"
      ]
     },
     "execution_count": 96,
     "metadata": {},
     "output_type": "execute_result"
    }
   ],
   "source": [
    "# Ugh. So some parcels are sub-divided into \"Cards\" which indicate detached \"Extensions\" separate from the main house.\n",
    "# need to go back up and merge these records with a groupby + agg/sum\n",
    "# note that some parcels (e.g. W0001166041) only have R02, no R01 extension.\n",
    "# The most ridiculous are probably W0000523031 and W0000442020, \n",
    "# townhouses near Postbellum which are 1 parcel with 5-8 houses built on it\n",
    "df.loc[df['Parcel_ID'].str.strip() == 'W0000442020']"
   ]
  },
  {
   "cell_type": "code",
   "execution_count": 189,
   "id": "0848d462",
   "metadata": {},
   "outputs": [],
   "source": [
    "# Hmm. How do the margins on resale vary over time?\n",
    "flips['year'] = flips['Transfer_date_y'].dt.year\n",
    "flip_yrs = flips.groupby('year').agg({'price_diff':['mean','median','std','count']}).reset_index()\n",
    "flip_yrs.columns = ['year','mean','median','std','count']"
   ]
  },
  {
   "cell_type": "code",
   "execution_count": 148,
   "id": "c67355fe",
   "metadata": {},
   "outputs": [
    {
     "data": {
      "image/png": "[encoded data removed]",
      "text/plain": [
       "<Figure size 432x288 with 1 Axes>"
      ]
     },
     "metadata": {
      "needs_background": "light"
     },
     "output_type": "display_data"
    }
   ],
   "source": [
    "import matplotlib.pyplot as plt\n",
    "import plotly_express as px\n",
    "\n",
    "plt.plot('year', 'median', data=flip_yrs)\n",
    "plt.fill_between(flip_yrs['year'],flip_yrs['median']-flip_yrs['std'],flip_yrs['median']+flip_yrs['std'],alpha=.1)\n",
    "\n",
    "plt.title('Median house flipping gross profit by year')\n",
    "plt.show()"
   ]
  },
  {
   "cell_type": "code",
   "execution_count": 151,
   "id": "dd485fc0",
   "metadata": {},
   "outputs": [
    {
     "data": {
      "image/png": "[encoded data removed]",
      "text/plain": [
       "<Figure size 432x288 with 1 Axes>"
      ]
     },
     "metadata": {
      "needs_background": "light"
     },
     "output_type": "display_data"
    }
   ],
   "source": [
    "import matplotlib.pyplot as plt\n",
    "import plotly_express as px\n",
    "\n",
    "plt.plot('year', 'mean', data=flip_yrs)\n",
    "plt.fill_between(flip_yrs['year'],flip_yrs['mean']-flip_yrs['std'],flip_yrs['mean']+flip_yrs['std'],alpha=.1)\n",
    "\n",
    "plt.title('Mean house flipping resell margins by year')\n",
    "plt.show()"
   ]
  },
  {
   "cell_type": "code",
   "execution_count": 150,
   "id": "b3251f17",
   "metadata": {},
   "outputs": [
    {
     "data": {
      "text/plain": [
       "<AxesSubplot:>"
      ]
     },
     "execution_count": 150,
     "metadata": {},
     "output_type": "execute_result"
    },
    {
     "data": {
      "image/png": "[encoded data removed]",
      "text/plain": [
       "<Figure size 432x288 with 1 Axes>"
      ]
     },
     "metadata": {
      "needs_background": "light"
     },
     "output_type": "display_data"
    }
   ],
   "source": [
    "flips['age'].hist()"
   ]
  },
  {
   "cell_type": "code",
   "execution_count": 166,
   "id": "451884bb",
   "metadata": {},
   "outputs": [
    {
     "data": {
      "text/plain": [
       "Index(['Parcel_ID', 'Grantor_x', 'Grantee_x', 'sale_x', 'NBHDno_x',\n",
       "       'district_number_x', 'Transfer_date_x', 'Consideration_x',\n",
       "       'TransferComment_x', 'YrBuilt_x', 'FinSize_x', 'Grantor_y', 'Grantee_y',\n",
       "       'sale_y', 'NBHDno_y', 'district_number_y', 'Transfer_date_y',\n",
       "       'Consideration_y', 'TransferComment_y', 'YrBuilt_y', 'FinSize_y',\n",
       "       'hold_time', 'price_diff', 'size_diff', 'year', 'age'],\n",
       "      dtype='object')"
      ]
     },
     "execution_count": 166,
     "metadata": {},
     "output_type": "execute_result"
    }
   ],
   "source": [
    "flips.columns"
   ]
  },
  {
   "cell_type": "code",
   "execution_count": 219,
   "id": "816d2b4e",
   "metadata": {},
   "outputs": [
    {
     "name": "stderr",
     "output_type": "stream",
     "text": [
      "<ipython-input-219-8951044c4afc>:2: SettingWithCopyWarning:\n",
      "\n",
      "\n",
      "A value is trying to be set on a copy of a slice from a DataFrame.\n",
      "Try using .loc[row_indexer,col_indexer] = value instead\n",
      "\n",
      "See the caveats in the documentation: https://pandas.pydata.org/pandas-docs/stable/user_guide/indexing.html#returning-a-view-versus-a-copy\n",
      "\n"
     ]
    }
   ],
   "source": [
    "# plus neighborhood? district probably better\n",
    "flips['council'] = flips['district_number_x'].astype('str').str[:1]\n",
    "fyn = flips.groupby(['year','council']).agg({'price_diff':['mean','median','std']}).reset_index()\n",
    "fyn.columns = ['year','dist','mean','median','std']"
   ]
  },
  {
   "cell_type": "code",
   "execution_count": 220,
   "id": "06ef1c89",
   "metadata": {},
   "outputs": [
    {
     "data": {
      "application/vnd.plotly.v1+json": {
       "config": {
        "plotlyServerURL": "https://plot.ly"
       },
       "data": [
        {
         "hovertemplate": "Council district=1<br>Year=%{x}<br>Median gross profit=%{y}<extra></extra>",
         "legendgroup": "1",
         "line": {
          "color": "#636efa",
          "dash": "solid"
         },
         "mode": "lines",
         "name": "1",
         "orientation": "v",
         "showlegend": true,
         "type": "scatter",
         "x": [
          2014,
          2015,
          2016,
          2017,
          2018,
          2019,
          2020,
          2021,
          2022
         ],
         "xaxis": "x",
         "y": [
          112500,
          89400,
          90000,
          129000,
          70000,
          130750,
          102000,
          120000,
          69500
         ],
         "yaxis": "y"
        },
        {
         "hovertemplate": "Council district=2<br>Year=%{x}<br>Median gross profit=%{y}<extra></extra>",
         "legendgroup": "2",
         "line": {
          "color": "#EF553B",
          "dash": "solid"
         },
         "mode": "lines",
         "name": "2",
         "orientation": "v",
         "showlegend": true,
         "type": "scatter",
         "x": [
          2014,
          2015,
          2016,
          2017,
          2018,
          2019,
          2020,
          2021,
          2022
         ],
         "xaxis": "x",
         "y": [
          126162.5,
          51250,
          91600,
          118000,
          125000,
          72550,
          85000,
          103250,
          162500
         ],
         "yaxis": "y"
        },
        {
         "hovertemplate": "Council district=3<br>Year=%{x}<br>Median gross profit=%{y}<extra></extra>",
         "legendgroup": "3",
         "line": {
          "color": "#00cc96",
          "dash": "solid"
         },
         "mode": "lines",
         "name": "3",
         "orientation": "v",
         "showlegend": true,
         "type": "scatter",
         "x": [
          2014,
          2015,
          2016,
          2017,
          2018,
          2019,
          2020,
          2021,
          2022
         ],
         "xaxis": "x",
         "y": [
          113350,
          109703.5,
          98900,
          98500,
          129950,
          124629.5,
          148875,
          139950,
          170500
         ],
         "yaxis": "y"
        },
        {
         "hovertemplate": "Council district=4<br>Year=%{x}<br>Median gross profit=%{y}<extra></extra>",
         "legendgroup": "4",
         "line": {
          "color": "#ab63fa",
          "dash": "solid"
         },
         "mode": "lines",
         "name": "4",
         "orientation": "v",
         "showlegend": true,
         "type": "scatter",
         "x": [
          2014,
          2015,
          2016,
          2017,
          2018,
          2019,
          2020,
          2021,
          2022
         ],
         "xaxis": "x",
         "y": [
          138900,
          96000,
          79750,
          79750,
          82000,
          89975,
          95001.5,
          127000,
          76948
         ],
         "yaxis": "y"
        },
        {
         "hovertemplate": "Council district=5<br>Year=%{x}<br>Median gross profit=%{y}<extra></extra>",
         "legendgroup": "5",
         "line": {
          "color": "#FFA15A",
          "dash": "solid"
         },
         "mode": "lines",
         "name": "5",
         "orientation": "v",
         "showlegend": true,
         "type": "scatter",
         "x": [
          2014,
          2015,
          2016,
          2017,
          2018,
          2019,
          2020,
          2021,
          2022
         ],
         "xaxis": "x",
         "y": [
          83200,
          66562.5,
          93500,
          91500,
          72975,
          114400,
          99000,
          117500,
          116500
         ],
         "yaxis": "y"
        },
        {
         "hovertemplate": "Council district=6<br>Year=%{x}<br>Median gross profit=%{y}<extra></extra>",
         "legendgroup": "6",
         "line": {
          "color": "#19d3f3",
          "dash": "solid"
         },
         "mode": "lines",
         "name": "6",
         "orientation": "v",
         "showlegend": true,
         "type": "scatter",
         "x": [
          2014,
          2015,
          2016,
          2017,
          2018,
          2019,
          2020,
          2021,
          2022
         ],
         "xaxis": "x",
         "y": [
          25850,
          31550,
          33500,
          63750,
          83500,
          82750,
          106000,
          129000,
          126500
         ],
         "yaxis": "y"
        },
        {
         "hovertemplate": "Council district=7<br>Year=%{x}<br>Median gross profit=%{y}<extra></extra>",
         "legendgroup": "7",
         "line": {
          "color": "#FF6692",
          "dash": "solid"
         },
         "mode": "lines",
         "name": "7",
         "orientation": "v",
         "showlegend": true,
         "type": "scatter",
         "x": [
          2014,
          2015,
          2016,
          2017,
          2018,
          2019,
          2020,
          2021,
          2022
         ],
         "xaxis": "x",
         "y": [
          53800,
          85425,
          58000,
          84000,
          102000,
          97975,
          101000,
          131100,
          113950
         ],
         "yaxis": "y"
        },
        {
         "hovertemplate": "Council district=8<br>Year=%{x}<br>Median gross profit=%{y}<extra></extra>",
         "legendgroup": "8",
         "line": {
          "color": "#B6E880",
          "dash": "solid"
         },
         "mode": "lines",
         "name": "8",
         "orientation": "v",
         "showlegend": true,
         "type": "scatter",
         "x": [
          2014,
          2015,
          2016,
          2017,
          2018,
          2019,
          2020,
          2021,
          2022
         ],
         "xaxis": "x",
         "y": [
          49000,
          21762.5,
          33355,
          63820,
          64500,
          51000,
          80850,
          105000,
          90000
         ],
         "yaxis": "y"
        },
        {
         "hovertemplate": "Council district=9<br>Year=%{x}<br>Median gross profit=%{y}<extra></extra>",
         "legendgroup": "9",
         "line": {
          "color": "#FF97FF",
          "dash": "solid"
         },
         "mode": "lines",
         "name": "9",
         "orientation": "v",
         "showlegend": true,
         "type": "scatter",
         "x": [
          2014,
          2015,
          2016,
          2017,
          2018,
          2019,
          2020,
          2021,
          2022
         ],
         "xaxis": "x",
         "y": [
          64675,
          57000,
          25000,
          68000,
          77900,
          71500,
          74500,
          94250,
          135100
         ],
         "yaxis": "y"
        }
       ],
       "layout": {
        "legend": {
         "title": {
          "text": "Council district"
         },
         "tracegroupgap": 0
        },
        "template": {
         "data": {
          "bar": [
           {
            "error_x": {
             "color": "#2a3f5f"
            },
            "error_y": {
             "color": "#2a3f5f"
            },
            "marker": {
             "line": {
              "color": "#E5ECF6",
              "width": 0.5
             }
            },
            "type": "bar"
           }
          ],
          "barpolar": [
           {
            "marker": {
             "line": {
              "color": "#E5ECF6",
              "width": 0.5
             }
            },
            "type": "barpolar"
           }
          ],
          "carpet": [
           {
            "aaxis": {
             "endlinecolor": "#2a3f5f",
             "gridcolor": "white",
             "linecolor": "white",
             "minorgridcolor": "white",
             "startlinecolor": "#2a3f5f"
            },
            "baxis": {
             "endlinecolor": "#2a3f5f",
             "gridcolor": "white",
             "linecolor": "white",
             "minorgridcolor": "white",
             "startlinecolor": "#2a3f5f"
            },
            "type": "carpet"
           }
          ],
          "choropleth": [
           {
            "colorbar": {
             "outlinewidth": 0,
             "ticks": ""
            },
            "type": "choropleth"
           }
          ],
          "contour": [
           {
            "colorbar": {
             "outlinewidth": 0,
             "ticks": ""
            },
            "colorscale": [
             [
              0,
              "#0d0887"
             ],
             [
              0.1111111111111111,
              "#46039f"
             ],
             [
              0.2222222222222222,
              "#7201a8"
             ],
             [
              0.3333333333333333,
              "#9c179e"
             ],
             [
              0.4444444444444444,
              "#bd3786"
             ],
             [
              0.5555555555555556,
              "#d8576b"
             ],
             [
              0.6666666666666666,
              "#ed7953"
             ],
             [
              0.7777777777777778,
              "#fb9f3a"
             ],
             [
              0.8888888888888888,
              "#fdca26"
             ],
             [
              1,
              "#f0f921"
             ]
            ],
            "type": "contour"
           }
          ],
          "contourcarpet": [
           {
            "colorbar": {
             "outlinewidth": 0,
             "ticks": ""
            },
            "type": "contourcarpet"
           }
          ],
          "heatmap": [
           {
            "colorbar": {
             "outlinewidth": 0,
             "ticks": ""
            },
            "colorscale": [
             [
              0,
              "#0d0887"
             ],
             [
              0.1111111111111111,
              "#46039f"
             ],
             [
              0.2222222222222222,
              "#7201a8"
             ],
             [
              0.3333333333333333,
              "#9c179e"
             ],
             [
              0.4444444444444444,
              "#bd3786"
             ],
             [
              0.5555555555555556,
              "#d8576b"
             ],
             [
              0.6666666666666666,
              "#ed7953"
             ],
             [
              0.7777777777777778,
              "#fb9f3a"
             ],
             [
              0.8888888888888888,
              "#fdca26"
             ],
             [
              1,
              "#f0f921"
             ]
            ],
            "type": "heatmap"
           }
          ],
          "heatmapgl": [
           {
            "colorbar": {
             "outlinewidth": 0,
             "ticks": ""
            },
            "colorscale": [
             [
              0,
              "#0d0887"
             ],
             [
              0.1111111111111111,
              "#46039f"
             ],
             [
              0.2222222222222222,
              "#7201a8"
             ],
             [
              0.3333333333333333,
              "#9c179e"
             ],
             [
              0.4444444444444444,
              "#bd3786"
             ],
             [
              0.5555555555555556,
              "#d8576b"
             ],
             [
              0.6666666666666666,
              "#ed7953"
             ],
             [
              0.7777777777777778,
              "#fb9f3a"
             ],
             [
              0.8888888888888888,
              "#fdca26"
             ],
             [
              1,
              "#f0f921"
             ]
            ],
            "type": "heatmapgl"
           }
          ],
          "histogram": [
           {
            "marker": {
             "colorbar": {
              "outlinewidth": 0,
              "ticks": ""
             }
            },
            "type": "histogram"
           }
          ],
          "histogram2d": [
           {
            "colorbar": {
             "outlinewidth": 0,
             "ticks": ""
            },
            "colorscale": [
             [
              0,
              "#0d0887"
             ],
             [
              0.1111111111111111,
              "#46039f"
             ],
             [
              0.2222222222222222,
              "#7201a8"
             ],
             [
              0.3333333333333333,
              "#9c179e"
             ],
             [
              0.4444444444444444,
              "#bd3786"
             ],
             [
              0.5555555555555556,
              "#d8576b"
             ],
             [
              0.6666666666666666,
              "#ed7953"
             ],
             [
              0.7777777777777778,
              "#fb9f3a"
             ],
             [
              0.8888888888888888,
              "#fdca26"
             ],
             [
              1,
              "#f0f921"
             ]
            ],
            "type": "histogram2d"
           }
          ],
          "histogram2dcontour": [
           {
            "colorbar": {
             "outlinewidth": 0,
             "ticks": ""
            },
            "colorscale": [
             [
              0,
              "#0d0887"
             ],
             [
              0.1111111111111111,
              "#46039f"
             ],
             [
              0.2222222222222222,
              "#7201a8"
             ],
             [
              0.3333333333333333,
              "#9c179e"
             ],
             [
              0.4444444444444444,
              "#bd3786"
             ],
             [
              0.5555555555555556,
              "#d8576b"
             ],
             [
              0.6666666666666666,
              "#ed7953"
             ],
             [
              0.7777777777777778,
              "#fb9f3a"
             ],
             [
              0.8888888888888888,
              "#fdca26"
             ],
             [
              1,
              "#f0f921"
             ]
            ],
            "type": "histogram2dcontour"
           }
          ],
          "mesh3d": [
           {
            "colorbar": {
             "outlinewidth": 0,
             "ticks": ""
            },
            "type": "mesh3d"
           }
          ],
          "parcoords": [
           {
            "line": {
             "colorbar": {
              "outlinewidth": 0,
              "ticks": ""
             }
            },
            "type": "parcoords"
           }
          ],
          "pie": [
           {
            "automargin": true,
            "type": "pie"
           }
          ],
          "scatter": [
           {
            "marker": {
             "colorbar": {
              "outlinewidth": 0,
              "ticks": ""
             }
            },
            "type": "scatter"
           }
          ],
          "scatter3d": [
           {
            "line": {
             "colorbar": {
              "outlinewidth": 0,
              "ticks": ""
             }
            },
            "marker": {
             "colorbar": {
              "outlinewidth": 0,
              "ticks": ""
             }
            },
            "type": "scatter3d"
           }
          ],
          "scattercarpet": [
           {
            "marker": {
             "colorbar": {
              "outlinewidth": 0,
              "ticks": ""
             }
            },
            "type": "scattercarpet"
           }
          ],
          "scattergeo": [
           {
            "marker": {
             "colorbar": {
              "outlinewidth": 0,
              "ticks": ""
             }
            },
            "type": "scattergeo"
           }
          ],
          "scattergl": [
           {
            "marker": {
             "colorbar": {
              "outlinewidth": 0,
              "ticks": ""
             }
            },
            "type": "scattergl"
           }
          ],
          "scattermapbox": [
           {
            "marker": {
             "colorbar": {
              "outlinewidth": 0,
              "ticks": ""
             }
            },
            "type": "scattermapbox"
           }
          ],
          "scatterpolar": [
           {
            "marker": {
             "colorbar": {
              "outlinewidth": 0,
              "ticks": ""
             }
            },
            "type": "scatterpolar"
           }
          ],
          "scatterpolargl": [
           {
            "marker": {
             "colorbar": {
              "outlinewidth": 0,
              "ticks": ""
             }
            },
            "type": "scatterpolargl"
           }
          ],
          "scatterternary": [
           {
            "marker": {
             "colorbar": {
              "outlinewidth": 0,
              "ticks": ""
             }
            },
            "type": "scatterternary"
           }
          ],
          "surface": [
           {
            "colorbar": {
             "outlinewidth": 0,
             "ticks": ""
            },
            "colorscale": [
             [
              0,
              "#0d0887"
             ],
             [
              0.1111111111111111,
              "#46039f"
             ],
             [
              0.2222222222222222,
              "#7201a8"
             ],
             [
              0.3333333333333333,
              "#9c179e"
             ],
             [
              0.4444444444444444,
              "#bd3786"
             ],
             [
              0.5555555555555556,
              "#d8576b"
             ],
             [
              0.6666666666666666,
              "#ed7953"
             ],
             [
              0.7777777777777778,
              "#fb9f3a"
             ],
             [
              0.8888888888888888,
              "#fdca26"
             ],
             [
              1,
              "#f0f921"
             ]
            ],
            "type": "surface"
           }
          ],
          "table": [
           {
            "cells": {
             "fill": {
              "color": "#EBF0F8"
             },
             "line": {
              "color": "white"
             }
            },
            "header": {
             "fill": {
              "color": "#C8D4E3"
             },
             "line": {
              "color": "white"
             }
            },
            "type": "table"
           }
          ]
         },
         "layout": {
          "annotationdefaults": {
           "arrowcolor": "#2a3f5f",
           "arrowhead": 0,
           "arrowwidth": 1
          },
          "coloraxis": {
           "colorbar": {
            "outlinewidth": 0,
            "ticks": ""
           }
          },
          "colorscale": {
           "diverging": [
            [
             0,
             "#8e0152"
            ],
            [
             0.1,
             "#c51b7d"
            ],
            [
             0.2,
             "#de77ae"
            ],
            [
             0.3,
             "#f1b6da"
            ],
            [
             0.4,
             "#fde0ef"
            ],
            [
             0.5,
             "#f7f7f7"
            ],
            [
             0.6,
             "#e6f5d0"
            ],
            [
             0.7,
             "#b8e186"
            ],
            [
             0.8,
             "#7fbc41"
            ],
            [
             0.9,
             "#4d9221"
            ],
            [
             1,
             "#276419"
            ]
           ],
           "sequential": [
            [
             0,
             "#0d0887"
            ],
            [
             0.1111111111111111,
             "#46039f"
            ],
            [
             0.2222222222222222,
             "#7201a8"
            ],
            [
             0.3333333333333333,
             "#9c179e"
            ],
            [
             0.4444444444444444,
             "#bd3786"
            ],
            [
             0.5555555555555556,
             "#d8576b"
            ],
            [
             0.6666666666666666,
             "#ed7953"
            ],
            [
             0.7777777777777778,
             "#fb9f3a"
            ],
            [
             0.8888888888888888,
             "#fdca26"
            ],
            [
             1,
             "#f0f921"
            ]
           ],
           "sequentialminus": [
            [
             0,
             "#0d0887"
            ],
            [
             0.1111111111111111,
             "#46039f"
            ],
            [
             0.2222222222222222,
             "#7201a8"
            ],
            [
             0.3333333333333333,
             "#9c179e"
            ],
            [
             0.4444444444444444,
             "#bd3786"
            ],
            [
             0.5555555555555556,
             "#d8576b"
            ],
            [
             0.6666666666666666,
             "#ed7953"
            ],
            [
             0.7777777777777778,
             "#fb9f3a"
            ],
            [
             0.8888888888888888,
             "#fdca26"
            ],
            [
             1,
             "#f0f921"
            ]
           ]
          },
          "colorway": [
           "#636efa",
           "#EF553B",
           "#00cc96",
           "#ab63fa",
           "#FFA15A",
           "#19d3f3",
           "#FF6692",
           "#B6E880",
           "#FF97FF",
           "#FECB52"
          ],
          "font": {
           "color": "#2a3f5f"
          },
          "geo": {
           "bgcolor": "white",
           "lakecolor": "white",
           "landcolor": "#E5ECF6",
           "showlakes": true,
           "showland": true,
           "subunitcolor": "white"
          },
          "hoverlabel": {
           "align": "left"
          },
          "hovermode": "closest",
          "mapbox": {
           "style": "light"
          },
          "paper_bgcolor": "white",
          "plot_bgcolor": "#E5ECF6",
          "polar": {
           "angularaxis": {
            "gridcolor": "white",
            "linecolor": "white",
            "ticks": ""
           },
           "bgcolor": "#E5ECF6",
           "radialaxis": {
            "gridcolor": "white",
            "linecolor": "white",
            "ticks": ""
           }
          },
          "scene": {
           "xaxis": {
            "backgroundcolor": "#E5ECF6",
            "gridcolor": "white",
            "gridwidth": 2,
            "linecolor": "white",
            "showbackground": true,
            "ticks": "",
            "zerolinecolor": "white"
           },
           "yaxis": {
            "backgroundcolor": "#E5ECF6",
            "gridcolor": "white",
            "gridwidth": 2,
            "linecolor": "white",
            "showbackground": true,
            "ticks": "",
            "zerolinecolor": "white"
           },
           "zaxis": {
            "backgroundcolor": "#E5ECF6",
            "gridcolor": "white",
            "gridwidth": 2,
            "linecolor": "white",
            "showbackground": true,
            "ticks": "",
            "zerolinecolor": "white"
           }
          },
          "shapedefaults": {
           "line": {
            "color": "#2a3f5f"
           }
          },
          "ternary": {
           "aaxis": {
            "gridcolor": "white",
            "linecolor": "white",
            "ticks": ""
           },
           "baxis": {
            "gridcolor": "white",
            "linecolor": "white",
            "ticks": ""
           },
           "bgcolor": "#E5ECF6",
           "caxis": {
            "gridcolor": "white",
            "linecolor": "white",
            "ticks": ""
           }
          },
          "title": {
           "x": 0.05
          },
          "xaxis": {
           "automargin": true,
           "gridcolor": "white",
           "linecolor": "white",
           "ticks": "",
           "title": {
            "standoff": 15
           },
           "zerolinecolor": "white",
           "zerolinewidth": 2
          },
          "yaxis": {
           "automargin": true,
           "gridcolor": "white",
           "linecolor": "white",
           "ticks": "",
           "title": {
            "standoff": 15
           },
           "zerolinecolor": "white",
           "zerolinewidth": 2
          }
         }
        },
        "title": {
         "text": "Richmond VA - house flipping profit"
        },
        "xaxis": {
         "anchor": "y",
         "domain": [
          0,
          1
         ],
         "title": {
          "text": "Year"
         }
        },
        "yaxis": {
         "anchor": "x",
         "domain": [
          0,
          1
         ],
         "title": {
          "text": "Median gross profit"
         }
        }
       }
      },
      "text/html": [
       "<div>\n",
       "        \n",
       "        \n",
       "            <div id=\"97095513-361b-4b63-a6b2-f8545255653d\" class=\"plotly-graph-div\" style=\"height:525px; width:100%;\"></div>\n",
       "            <script type=\"text/javascript\">\n",
       "                require([\"plotly\"], function(Plotly) {\n",
       "                    window.PLOTLYENV=window.PLOTLYENV || {};\n",
       "                    \n",
       "                if (document.getElementById(\"97095513-361b-4b63-a6b2-f8545255653d\")) {\n",
       "                    Plotly.newPlot(\n",
       "                        '97095513-361b-4b63-a6b2-f8545255653d',\n",
       "                        [{\"hovertemplate\": \"Council district=1<br>Year=%{x}<br>Median gross profit=%{y}<extra></extra>\", \"legendgroup\": \"1\", \"line\": {\"color\": \"#636efa\", \"dash\": \"solid\"}, \"mode\": \"lines\", \"name\": \"1\", \"orientation\": \"v\", \"showlegend\": true, \"type\": \"scatter\", \"x\": [2014, 2015, 2016, 2017, 2018, 2019, 2020, 2021, 2022], \"xaxis\": \"x\", \"y\": [112500.0, 89400.0, 90000.0, 129000.0, 70000.0, 130750.0, 102000.0, 120000.0, 69500.0], \"yaxis\": \"y\"}, {\"hovertemplate\": \"Council district=2<br>Year=%{x}<br>Median gross profit=%{y}<extra></extra>\", \"legendgroup\": \"2\", \"line\": {\"color\": \"#EF553B\", \"dash\": \"solid\"}, \"mode\": \"lines\", \"name\": \"2\", \"orientation\": \"v\", \"showlegend\": true, \"type\": \"scatter\", \"x\": [2014, 2015, 2016, 2017, 2018, 2019, 2020, 2021, 2022], \"xaxis\": \"x\", \"y\": [126162.5, 51250.0, 91600.0, 118000.0, 125000.0, 72550.0, 85000.0, 103250.0, 162500.0], \"yaxis\": \"y\"}, {\"hovertemplate\": \"Council district=3<br>Year=%{x}<br>Median gross profit=%{y}<extra></extra>\", \"legendgroup\": \"3\", \"line\": {\"color\": \"#00cc96\", \"dash\": \"solid\"}, \"mode\": \"lines\", \"name\": \"3\", \"orientation\": \"v\", \"showlegend\": true, \"type\": \"scatter\", \"x\": [2014, 2015, 2016, 2017, 2018, 2019, 2020, 2021, 2022], \"xaxis\": \"x\", \"y\": [113350.0, 109703.5, 98900.0, 98500.0, 129950.0, 124629.5, 148875.0, 139950.0, 170500.0], \"yaxis\": \"y\"}, {\"hovertemplate\": \"Council district=4<br>Year=%{x}<br>Median gross profit=%{y}<extra></extra>\", \"legendgroup\": \"4\", \"line\": {\"color\": \"#ab63fa\", \"dash\": \"solid\"}, \"mode\": \"lines\", \"name\": \"4\", \"orientation\": \"v\", \"showlegend\": true, \"type\": \"scatter\", \"x\": [2014, 2015, 2016, 2017, 2018, 2019, 2020, 2021, 2022], \"xaxis\": \"x\", \"y\": [138900.0, 96000.0, 79750.0, 79750.0, 82000.0, 89975.0, 95001.5, 127000.0, 76948.0], \"yaxis\": \"y\"}, {\"hovertemplate\": \"Council district=5<br>Year=%{x}<br>Median gross profit=%{y}<extra></extra>\", \"legendgroup\": \"5\", \"line\": {\"color\": \"#FFA15A\", \"dash\": \"solid\"}, \"mode\": \"lines\", \"name\": \"5\", \"orientation\": \"v\", \"showlegend\": true, \"type\": \"scatter\", \"x\": [2014, 2015, 2016, 2017, 2018, 2019, 2020, 2021, 2022], \"xaxis\": \"x\", \"y\": [83200.0, 66562.5, 93500.0, 91500.0, 72975.0, 114400.0, 99000.0, 117500.0, 116500.0], \"yaxis\": \"y\"}, {\"hovertemplate\": \"Council district=6<br>Year=%{x}<br>Median gross profit=%{y}<extra></extra>\", \"legendgroup\": \"6\", \"line\": {\"color\": \"#19d3f3\", \"dash\": \"solid\"}, \"mode\": \"lines\", \"name\": \"6\", \"orientation\": \"v\", \"showlegend\": true, \"type\": \"scatter\", \"x\": [2014, 2015, 2016, 2017, 2018, 2019, 2020, 2021, 2022], \"xaxis\": \"x\", \"y\": [25850.0, 31550.0, 33500.0, 63750.0, 83500.0, 82750.0, 106000.0, 129000.0, 126500.0], \"yaxis\": \"y\"}, {\"hovertemplate\": \"Council district=7<br>Year=%{x}<br>Median gross profit=%{y}<extra></extra>\", \"legendgroup\": \"7\", \"line\": {\"color\": \"#FF6692\", \"dash\": \"solid\"}, \"mode\": \"lines\", \"name\": \"7\", \"orientation\": \"v\", \"showlegend\": true, \"type\": \"scatter\", \"x\": [2014, 2015, 2016, 2017, 2018, 2019, 2020, 2021, 2022], \"xaxis\": \"x\", \"y\": [53800.0, 85425.0, 58000.0, 84000.0, 102000.0, 97975.0, 101000.0, 131100.0, 113950.0], \"yaxis\": \"y\"}, {\"hovertemplate\": \"Council district=8<br>Year=%{x}<br>Median gross profit=%{y}<extra></extra>\", \"legendgroup\": \"8\", \"line\": {\"color\": \"#B6E880\", \"dash\": \"solid\"}, \"mode\": \"lines\", \"name\": \"8\", \"orientation\": \"v\", \"showlegend\": true, \"type\": \"scatter\", \"x\": [2014, 2015, 2016, 2017, 2018, 2019, 2020, 2021, 2022], \"xaxis\": \"x\", \"y\": [49000.0, 21762.5, 33355.0, 63820.0, 64500.0, 51000.0, 80850.0, 105000.0, 90000.0], \"yaxis\": \"y\"}, {\"hovertemplate\": \"Council district=9<br>Year=%{x}<br>Median gross profit=%{y}<extra></extra>\", \"legendgroup\": \"9\", \"line\": {\"color\": \"#FF97FF\", \"dash\": \"solid\"}, \"mode\": \"lines\", \"name\": \"9\", \"orientation\": \"v\", \"showlegend\": true, \"type\": \"scatter\", \"x\": [2014, 2015, 2016, 2017, 2018, 2019, 2020, 2021, 2022], \"xaxis\": \"x\", \"y\": [64675.0, 57000.0, 25000.0, 68000.0, 77900.0, 71500.0, 74500.0, 94250.0, 135100.0], \"yaxis\": \"y\"}],\n",
       "                        {\"legend\": {\"title\": {\"text\": \"Council district\"}, \"tracegroupgap\": 0}, \"template\": {\"data\": {\"bar\": [{\"error_x\": {\"color\": \"#2a3f5f\"}, \"error_y\": {\"color\": \"#2a3f5f\"}, \"marker\": {\"line\": {\"color\": \"#E5ECF6\", \"width\": 0.5}}, \"type\": \"bar\"}], \"barpolar\": [{\"marker\": {\"line\": {\"color\": \"#E5ECF6\", \"width\": 0.5}}, \"type\": \"barpolar\"}], \"carpet\": [{\"aaxis\": {\"endlinecolor\": \"#2a3f5f\", \"gridcolor\": \"white\", \"linecolor\": \"white\", \"minorgridcolor\": \"white\", \"startlinecolor\": \"#2a3f5f\"}, \"baxis\": {\"endlinecolor\": \"#2a3f5f\", \"gridcolor\": \"white\", \"linecolor\": \"white\", \"minorgridcolor\": \"white\", \"startlinecolor\": \"#2a3f5f\"}, \"type\": \"carpet\"}], \"choropleth\": [{\"colorbar\": {\"outlinewidth\": 0, \"ticks\": \"\"}, \"type\": \"choropleth\"}], \"contour\": [{\"colorbar\": {\"outlinewidth\": 0, \"ticks\": \"\"}, \"colorscale\": [[0.0, \"#0d0887\"], [0.1111111111111111, \"#46039f\"], [0.2222222222222222, \"#7201a8\"], [0.3333333333333333, \"#9c179e\"], [0.4444444444444444, \"#bd3786\"], [0.5555555555555556, \"#d8576b\"], [0.6666666666666666, \"#ed7953\"], [0.7777777777777778, \"#fb9f3a\"], [0.8888888888888888, \"#fdca26\"], [1.0, \"#f0f921\"]], \"type\": \"contour\"}], \"contourcarpet\": [{\"colorbar\": {\"outlinewidth\": 0, \"ticks\": \"\"}, \"type\": \"contourcarpet\"}], \"heatmap\": [{\"colorbar\": {\"outlinewidth\": 0, \"ticks\": \"\"}, \"colorscale\": [[0.0, \"#0d0887\"], [0.1111111111111111, \"#46039f\"], [0.2222222222222222, \"#7201a8\"], [0.3333333333333333, \"#9c179e\"], [0.4444444444444444, \"#bd3786\"], [0.5555555555555556, \"#d8576b\"], [0.6666666666666666, \"#ed7953\"], [0.7777777777777778, \"#fb9f3a\"], [0.8888888888888888, \"#fdca26\"], [1.0, \"#f0f921\"]], \"type\": \"heatmap\"}], \"heatmapgl\": [{\"colorbar\": {\"outlinewidth\": 0, \"ticks\": \"\"}, \"colorscale\": [[0.0, \"#0d0887\"], [0.1111111111111111, \"#46039f\"], [0.2222222222222222, \"#7201a8\"], [0.3333333333333333, \"#9c179e\"], [0.4444444444444444, \"#bd3786\"], [0.5555555555555556, \"#d8576b\"], [0.6666666666666666, \"#ed7953\"], [0.7777777777777778, \"#fb9f3a\"], [0.8888888888888888, \"#fdca26\"], [1.0, \"#f0f921\"]], \"type\": \"heatmapgl\"}], \"histogram\": [{\"marker\": {\"colorbar\": {\"outlinewidth\": 0, \"ticks\": \"\"}}, \"type\": \"histogram\"}], \"histogram2d\": [{\"colorbar\": {\"outlinewidth\": 0, \"ticks\": \"\"}, \"colorscale\": [[0.0, \"#0d0887\"], [0.1111111111111111, \"#46039f\"], [0.2222222222222222, \"#7201a8\"], [0.3333333333333333, \"#9c179e\"], [0.4444444444444444, \"#bd3786\"], [0.5555555555555556, \"#d8576b\"], [0.6666666666666666, \"#ed7953\"], [0.7777777777777778, \"#fb9f3a\"], [0.8888888888888888, \"#fdca26\"], [1.0, \"#f0f921\"]], \"type\": \"histogram2d\"}], \"histogram2dcontour\": [{\"colorbar\": {\"outlinewidth\": 0, \"ticks\": \"\"}, \"colorscale\": [[0.0, \"#0d0887\"], [0.1111111111111111, \"#46039f\"], [0.2222222222222222, \"#7201a8\"], [0.3333333333333333, \"#9c179e\"], [0.4444444444444444, \"#bd3786\"], [0.5555555555555556, \"#d8576b\"], [0.6666666666666666, \"#ed7953\"], [0.7777777777777778, \"#fb9f3a\"], [0.8888888888888888, \"#fdca26\"], [1.0, \"#f0f921\"]], \"type\": \"histogram2dcontour\"}], \"mesh3d\": [{\"colorbar\": {\"outlinewidth\": 0, \"ticks\": \"\"}, \"type\": \"mesh3d\"}], \"parcoords\": [{\"line\": {\"colorbar\": {\"outlinewidth\": 0, \"ticks\": \"\"}}, \"type\": \"parcoords\"}], \"pie\": [{\"automargin\": true, \"type\": \"pie\"}], \"scatter\": [{\"marker\": {\"colorbar\": {\"outlinewidth\": 0, \"ticks\": \"\"}}, \"type\": \"scatter\"}], \"scatter3d\": [{\"line\": {\"colorbar\": {\"outlinewidth\": 0, \"ticks\": \"\"}}, \"marker\": {\"colorbar\": {\"outlinewidth\": 0, \"ticks\": \"\"}}, \"type\": \"scatter3d\"}], \"scattercarpet\": [{\"marker\": {\"colorbar\": {\"outlinewidth\": 0, \"ticks\": \"\"}}, \"type\": \"scattercarpet\"}], \"scattergeo\": [{\"marker\": {\"colorbar\": {\"outlinewidth\": 0, \"ticks\": \"\"}}, \"type\": \"scattergeo\"}], \"scattergl\": [{\"marker\": {\"colorbar\": {\"outlinewidth\": 0, \"ticks\": \"\"}}, \"type\": \"scattergl\"}], \"scattermapbox\": [{\"marker\": {\"colorbar\": {\"outlinewidth\": 0, \"ticks\": \"\"}}, \"type\": \"scattermapbox\"}], \"scatterpolar\": [{\"marker\": {\"colorbar\": {\"outlinewidth\": 0, \"ticks\": \"\"}}, \"type\": \"scatterpolar\"}], \"scatterpolargl\": [{\"marker\": {\"colorbar\": {\"outlinewidth\": 0, \"ticks\": \"\"}}, \"type\": \"scatterpolargl\"}], \"scatterternary\": [{\"marker\": {\"colorbar\": {\"outlinewidth\": 0, \"ticks\": \"\"}}, \"type\": \"scatterternary\"}], \"surface\": [{\"colorbar\": {\"outlinewidth\": 0, \"ticks\": \"\"}, \"colorscale\": [[0.0, \"#0d0887\"], [0.1111111111111111, \"#46039f\"], [0.2222222222222222, \"#7201a8\"], [0.3333333333333333, \"#9c179e\"], [0.4444444444444444, \"#bd3786\"], [0.5555555555555556, \"#d8576b\"], [0.6666666666666666, \"#ed7953\"], [0.7777777777777778, \"#fb9f3a\"], [0.8888888888888888, \"#fdca26\"], [1.0, \"#f0f921\"]], \"type\": \"surface\"}], \"table\": [{\"cells\": {\"fill\": {\"color\": \"#EBF0F8\"}, \"line\": {\"color\": \"white\"}}, \"header\": {\"fill\": {\"color\": \"#C8D4E3\"}, \"line\": {\"color\": \"white\"}}, \"type\": \"table\"}]}, \"layout\": {\"annotationdefaults\": {\"arrowcolor\": \"#2a3f5f\", \"arrowhead\": 0, \"arrowwidth\": 1}, \"coloraxis\": {\"colorbar\": {\"outlinewidth\": 0, \"ticks\": \"\"}}, \"colorscale\": {\"diverging\": [[0, \"#8e0152\"], [0.1, \"#c51b7d\"], [0.2, \"#de77ae\"], [0.3, \"#f1b6da\"], [0.4, \"#fde0ef\"], [0.5, \"#f7f7f7\"], [0.6, \"#e6f5d0\"], [0.7, \"#b8e186\"], [0.8, \"#7fbc41\"], [0.9, \"#4d9221\"], [1, \"#276419\"]], \"sequential\": [[0.0, \"#0d0887\"], [0.1111111111111111, \"#46039f\"], [0.2222222222222222, \"#7201a8\"], [0.3333333333333333, \"#9c179e\"], [0.4444444444444444, \"#bd3786\"], [0.5555555555555556, \"#d8576b\"], [0.6666666666666666, \"#ed7953\"], [0.7777777777777778, \"#fb9f3a\"], [0.8888888888888888, \"#fdca26\"], [1.0, \"#f0f921\"]], \"sequentialminus\": [[0.0, \"#0d0887\"], [0.1111111111111111, \"#46039f\"], [0.2222222222222222, \"#7201a8\"], [0.3333333333333333, \"#9c179e\"], [0.4444444444444444, \"#bd3786\"], [0.5555555555555556, \"#d8576b\"], [0.6666666666666666, \"#ed7953\"], [0.7777777777777778, \"#fb9f3a\"], [0.8888888888888888, \"#fdca26\"], [1.0, \"#f0f921\"]]}, \"colorway\": [\"#636efa\", \"#EF553B\", \"#00cc96\", \"#ab63fa\", \"#FFA15A\", \"#19d3f3\", \"#FF6692\", \"#B6E880\", \"#FF97FF\", \"#FECB52\"], \"font\": {\"color\": \"#2a3f5f\"}, \"geo\": {\"bgcolor\": \"white\", \"lakecolor\": \"white\", \"landcolor\": \"#E5ECF6\", \"showlakes\": true, \"showland\": true, \"subunitcolor\": \"white\"}, \"hoverlabel\": {\"align\": \"left\"}, \"hovermode\": \"closest\", \"mapbox\": {\"style\": \"light\"}, \"paper_bgcolor\": \"white\", \"plot_bgcolor\": \"#E5ECF6\", \"polar\": {\"angularaxis\": {\"gridcolor\": \"white\", \"linecolor\": \"white\", \"ticks\": \"\"}, \"bgcolor\": \"#E5ECF6\", \"radialaxis\": {\"gridcolor\": \"white\", \"linecolor\": \"white\", \"ticks\": \"\"}}, \"scene\": {\"xaxis\": {\"backgroundcolor\": \"#E5ECF6\", \"gridcolor\": \"white\", \"gridwidth\": 2, \"linecolor\": \"white\", \"showbackground\": true, \"ticks\": \"\", \"zerolinecolor\": \"white\"}, \"yaxis\": {\"backgroundcolor\": \"#E5ECF6\", \"gridcolor\": \"white\", \"gridwidth\": 2, \"linecolor\": \"white\", \"showbackground\": true, \"ticks\": \"\", \"zerolinecolor\": \"white\"}, \"zaxis\": {\"backgroundcolor\": \"#E5ECF6\", \"gridcolor\": \"white\", \"gridwidth\": 2, \"linecolor\": \"white\", \"showbackground\": true, \"ticks\": \"\", \"zerolinecolor\": \"white\"}}, \"shapedefaults\": {\"line\": {\"color\": \"#2a3f5f\"}}, \"ternary\": {\"aaxis\": {\"gridcolor\": \"white\", \"linecolor\": \"white\", \"ticks\": \"\"}, \"baxis\": {\"gridcolor\": \"white\", \"linecolor\": \"white\", \"ticks\": \"\"}, \"bgcolor\": \"#E5ECF6\", \"caxis\": {\"gridcolor\": \"white\", \"linecolor\": \"white\", \"ticks\": \"\"}}, \"title\": {\"x\": 0.05}, \"xaxis\": {\"automargin\": true, \"gridcolor\": \"white\", \"linecolor\": \"white\", \"ticks\": \"\", \"title\": {\"standoff\": 15}, \"zerolinecolor\": \"white\", \"zerolinewidth\": 2}, \"yaxis\": {\"automargin\": true, \"gridcolor\": \"white\", \"linecolor\": \"white\", \"ticks\": \"\", \"title\": {\"standoff\": 15}, \"zerolinecolor\": \"white\", \"zerolinewidth\": 2}}}, \"title\": {\"text\": \"Richmond VA - house flipping profit\"}, \"xaxis\": {\"anchor\": \"y\", \"domain\": [0.0, 1.0], \"title\": {\"text\": \"Year\"}}, \"yaxis\": {\"anchor\": \"x\", \"domain\": [0.0, 1.0], \"title\": {\"text\": \"Median gross profit\"}}},\n",
       "                        {\"responsive\": true}\n",
       "                    ).then(function(){\n",
       "                            \n",
       "var gd = document.getElementById('97095513-361b-4b63-a6b2-f8545255653d');\n",
       "var x = new MutationObserver(function (mutations, observer) {{\n",
       "        var display = window.getComputedStyle(gd).display;\n",
       "        if (!display || display === 'none') {{\n",
       "            console.log([gd, 'removed!']);\n",
       "            Plotly.purge(gd);\n",
       "            observer.disconnect();\n",
       "        }}\n",
       "}});\n",
       "\n",
       "// Listen for the removal of the full notebook cells\n",
       "var notebookContainer = gd.closest('#notebook-container');\n",
       "if (notebookContainer) {{\n",
       "    x.observe(notebookContainer, {childList: true});\n",
       "}}\n",
       "\n",
       "// Listen for the clearing of the current output cell\n",
       "var outputEl = gd.closest('.output');\n",
       "if (outputEl) {{\n",
       "    x.observe(outputEl, {childList: true});\n",
       "}}\n",
       "\n",
       "                        })\n",
       "                };\n",
       "                });\n",
       "            </script>\n",
       "        </div>"
      ]
     },
     "metadata": {},
     "output_type": "display_data"
    }
   ],
   "source": [
    "px.line(fyn, x='year', y='median', color='dist',\n",
    "       title='Richmond VA - house flipping profit',\n",
    "       labels={\n",
    "                     \"year\": \"Year\",\n",
    "                     \"median\": \"Median gross profit\",\n",
    "                     \"dist\": \"Council district\"\n",
    "                 })\n"
   ]
  },
  {
   "cell_type": "code",
   "execution_count": 225,
   "id": "acb4ac62",
   "metadata": {},
   "outputs": [
    {
     "name": "stderr",
     "output_type": "stream",
     "text": [
      "<ipython-input-225-fa3993cdd9ce>:2: SettingWithCopyWarning:\n",
      "\n",
      "\n",
      "A value is trying to be set on a copy of a slice from a DataFrame.\n",
      "Try using .loc[row_indexer,col_indexer] = value instead\n",
      "\n",
      "See the caveats in the documentation: https://pandas.pydata.org/pandas-docs/stable/user_guide/indexing.html#returning-a-view-versus-a-copy\n",
      "\n"
     ]
    },
    {
     "data": {
      "application/vnd.plotly.v1+json": {
       "config": {
        "plotlyServerURL": "https://plot.ly"
       },
       "data": [
        {
         "hovertemplate": "Council district=1<br>Year=%{x}<br>Median gross ROI=%{y}<extra></extra>",
         "legendgroup": "1",
         "line": {
          "color": "#636efa",
          "dash": "solid"
         },
         "mode": "lines",
         "name": "1",
         "orientation": "v",
         "showlegend": true,
         "type": "scatter",
         "x": [
          2014,
          2015,
          2016,
          2017,
          2018,
          2019,
          2020,
          2021,
          2022
         ],
         "xaxis": "x",
         "y": [
          66.17647058823529,
          37.5,
          33.55263157894737,
          38.27893175074184,
          18.666666666666668,
          46.67379989960635,
          29.71194879089616,
          27.77777777777778,
          14.8359133126935
         ],
         "yaxis": "y"
        },
        {
         "hovertemplate": "Council district=2<br>Year=%{x}<br>Median gross ROI=%{y}<extra></extra>",
         "legendgroup": "2",
         "line": {
          "color": "#EF553B",
          "dash": "solid"
         },
         "mode": "lines",
         "name": "2",
         "orientation": "v",
         "showlegend": true,
         "type": "scatter",
         "x": [
          2014,
          2015,
          2016,
          2017,
          2018,
          2019,
          2020,
          2021,
          2022
         ],
         "xaxis": "x",
         "y": [
          97.59740259740259,
          21.478203387037908,
          29.72804001250391,
          33.724722765818655,
          78.49740932642487,
          29.40983606557377,
          38.720112751707646,
          52.89351851851852,
          65.52631578947368
         ],
         "yaxis": "y"
        },
        {
         "hovertemplate": "Council district=3<br>Year=%{x}<br>Median gross ROI=%{y}<extra></extra>",
         "legendgroup": "3",
         "line": {
          "color": "#00cc96",
          "dash": "solid"
         },
         "mode": "lines",
         "name": "3",
         "orientation": "v",
         "showlegend": true,
         "type": "scatter",
         "x": [
          2014,
          2015,
          2016,
          2017,
          2018,
          2019,
          2020,
          2021,
          2022
         ],
         "xaxis": "x",
         "y": [
          136.9042470374535,
          160.21829252493848,
          127.89783889980353,
          133.22916666666666,
          111.92052980132449,
          99.49172576832152,
          117.2809172809173,
          100,
          136.15160349854227
         ],
         "yaxis": "y"
        },
        {
         "hovertemplate": "Council district=4<br>Year=%{x}<br>Median gross ROI=%{y}<extra></extra>",
         "legendgroup": "4",
         "line": {
          "color": "#ab63fa",
          "dash": "solid"
         },
         "mode": "lines",
         "name": "4",
         "orientation": "v",
         "showlegend": true,
         "type": "scatter",
         "x": [
          2014,
          2015,
          2016,
          2017,
          2018,
          2019,
          2020,
          2021,
          2022
         ],
         "xaxis": "x",
         "y": [
          112.64367816091954,
          77.29729729729729,
          56.18374558303887,
          53.2513028372901,
          55.88235294117647,
          55.911991652916626,
          50.294117647058826,
          68.78612716763006,
          40.60606060606061
         ],
         "yaxis": "y"
        },
        {
         "hovertemplate": "Council district=5<br>Year=%{x}<br>Median gross ROI=%{y}<extra></extra>",
         "legendgroup": "5",
         "line": {
          "color": "#FFA15A",
          "dash": "solid"
         },
         "mode": "lines",
         "name": "5",
         "orientation": "v",
         "showlegend": true,
         "type": "scatter",
         "x": [
          2014,
          2015,
          2016,
          2017,
          2018,
          2019,
          2020,
          2021,
          2022
         ],
         "xaxis": "x",
         "y": [
          89.79500891265597,
          72.95532610601668,
          92.40121287962651,
          114.375,
          58.875,
          92.65591231861686,
          68.96551724137932,
          68.18181818181817,
          96.95652173913044
         ],
         "yaxis": "y"
        },
        {
         "hovertemplate": "Council district=6<br>Year=%{x}<br>Median gross ROI=%{y}<extra></extra>",
         "legendgroup": "6",
         "line": {
          "color": "#19d3f3",
          "dash": "solid"
         },
         "mode": "lines",
         "name": "6",
         "orientation": "v",
         "showlegend": true,
         "type": "scatter",
         "x": [
          2014,
          2015,
          2016,
          2017,
          2018,
          2019,
          2020,
          2021,
          2022
         ],
         "xaxis": "x",
         "y": [
          78.84017595307918,
          99.33333333333334,
          108.65942028985506,
          147.03747072599532,
          125,
          110.47826086956522,
          125.66037735849056,
          132.17391304347825,
          105.64102564102565
         ],
         "yaxis": "y"
        },
        {
         "hovertemplate": "Council district=7<br>Year=%{x}<br>Median gross ROI=%{y}<extra></extra>",
         "legendgroup": "7",
         "line": {
          "color": "#FF6692",
          "dash": "solid"
         },
         "mode": "lines",
         "name": "7",
         "orientation": "v",
         "showlegend": true,
         "type": "scatter",
         "x": [
          2014,
          2015,
          2016,
          2017,
          2018,
          2019,
          2020,
          2021,
          2022
         ],
         "xaxis": "x",
         "y": [
          133.5,
          123.74609802587676,
          80.65235572902147,
          123.47876004592422,
          106.01411845730027,
          137.12809917355372,
          106.80000000000001,
          122.07792207792207,
          95.21739130434783
         ],
         "yaxis": "y"
        },
        {
         "hovertemplate": "Council district=8<br>Year=%{x}<br>Median gross ROI=%{y}<extra></extra>",
         "legendgroup": "8",
         "line": {
          "color": "#B6E880",
          "dash": "solid"
         },
         "mode": "lines",
         "name": "8",
         "orientation": "v",
         "showlegend": true,
         "type": "scatter",
         "x": [
          2014,
          2015,
          2016,
          2017,
          2018,
          2019,
          2020,
          2021,
          2022
         ],
         "xaxis": "x",
         "y": [
          136.11111111111111,
          38.97789205344585,
          83.7831045207502,
          110.85475993626694,
          104.10958904109589,
          94.11764705882352,
          142.18910256410254,
          107.89473684210526,
          84.91295938104449
         ],
         "yaxis": "y"
        },
        {
         "hovertemplate": "Council district=9<br>Year=%{x}<br>Median gross ROI=%{y}<extra></extra>",
         "legendgroup": "9",
         "line": {
          "color": "#FF97FF",
          "dash": "solid"
         },
         "mode": "lines",
         "name": "9",
         "orientation": "v",
         "showlegend": true,
         "type": "scatter",
         "x": [
          2014,
          2015,
          2016,
          2017,
          2018,
          2019,
          2020,
          2021,
          2022
         ],
         "xaxis": "x",
         "y": [
          96.69907823741008,
          86.2858617131063,
          50,
          106.85608729003272,
          105.26761071275017,
          72.98076923076923,
          81.60475043320233,
          72.20588235294117,
          81.92844147968465
         ],
         "yaxis": "y"
        }
       ],
       "layout": {
        "legend": {
         "title": {
          "text": "Council district"
         },
         "tracegroupgap": 0
        },
        "template": {
         "data": {
          "bar": [
           {
            "error_x": {
             "color": "#2a3f5f"
            },
            "error_y": {
             "color": "#2a3f5f"
            },
            "marker": {
             "line": {
              "color": "#E5ECF6",
              "width": 0.5
             }
            },
            "type": "bar"
           }
          ],
          "barpolar": [
           {
            "marker": {
             "line": {
              "color": "#E5ECF6",
              "width": 0.5
             }
            },
            "type": "barpolar"
           }
          ],
          "carpet": [
           {
            "aaxis": {
             "endlinecolor": "#2a3f5f",
             "gridcolor": "white",
             "linecolor": "white",
             "minorgridcolor": "white",
             "startlinecolor": "#2a3f5f"
            },
            "baxis": {
             "endlinecolor": "#2a3f5f",
             "gridcolor": "white",
             "linecolor": "white",
             "minorgridcolor": "white",
             "startlinecolor": "#2a3f5f"
            },
            "type": "carpet"
           }
          ],
          "choropleth": [
           {
            "colorbar": {
             "outlinewidth": 0,
             "ticks": ""
            },
            "type": "choropleth"
           }
          ],
          "contour": [
           {
            "colorbar": {
             "outlinewidth": 0,
             "ticks": ""
            },
            "colorscale": [
             [
              0,
              "#0d0887"
             ],
             [
              0.1111111111111111,
              "#46039f"
             ],
             [
              0.2222222222222222,
              "#7201a8"
             ],
             [
              0.3333333333333333,
              "#9c179e"
             ],
             [
              0.4444444444444444,
              "#bd3786"
             ],
             [
              0.5555555555555556,
              "#d8576b"
             ],
             [
              0.6666666666666666,
              "#ed7953"
             ],
             [
              0.7777777777777778,
              "#fb9f3a"
             ],
             [
              0.8888888888888888,
              "#fdca26"
             ],
             [
              1,
              "#f0f921"
             ]
            ],
            "type": "contour"
           }
          ],
          "contourcarpet": [
           {
            "colorbar": {
             "outlinewidth": 0,
             "ticks": ""
            },
            "type": "contourcarpet"
           }
          ],
          "heatmap": [
           {
            "colorbar": {
             "outlinewidth": 0,
             "ticks": ""
            },
            "colorscale": [
             [
              0,
              "#0d0887"
             ],
             [
              0.1111111111111111,
              "#46039f"
             ],
             [
              0.2222222222222222,
              "#7201a8"
             ],
             [
              0.3333333333333333,
              "#9c179e"
             ],
             [
              0.4444444444444444,
              "#bd3786"
             ],
             [
              0.5555555555555556,
              "#d8576b"
             ],
             [
              0.6666666666666666,
              "#ed7953"
             ],
             [
              0.7777777777777778,
              "#fb9f3a"
             ],
             [
              0.8888888888888888,
              "#fdca26"
             ],
             [
              1,
              "#f0f921"
             ]
            ],
            "type": "heatmap"
           }
          ],
          "heatmapgl": [
           {
            "colorbar": {
             "outlinewidth": 0,
             "ticks": ""
            },
            "colorscale": [
             [
              0,
              "#0d0887"
             ],
             [
              0.1111111111111111,
              "#46039f"
             ],
             [
              0.2222222222222222,
              "#7201a8"
             ],
             [
              0.3333333333333333,
              "#9c179e"
             ],
             [
              0.4444444444444444,
              "#bd3786"
             ],
             [
              0.5555555555555556,
              "#d8576b"
             ],
             [
              0.6666666666666666,
              "#ed7953"
             ],
             [
              0.7777777777777778,
              "#fb9f3a"
             ],
             [
              0.8888888888888888,
              "#fdca26"
             ],
             [
              1,
              "#f0f921"
             ]
            ],
            "type": "heatmapgl"
           }
          ],
          "histogram": [
           {
            "marker": {
             "colorbar": {
              "outlinewidth": 0,
              "ticks": ""
             }
            },
            "type": "histogram"
           }
          ],
          "histogram2d": [
           {
            "colorbar": {
             "outlinewidth": 0,
             "ticks": ""
            },
            "colorscale": [
             [
              0,
              "#0d0887"
             ],
             [
              0.1111111111111111,
              "#46039f"
             ],
             [
              0.2222222222222222,
              "#7201a8"
             ],
             [
              0.3333333333333333,
              "#9c179e"
             ],
             [
              0.4444444444444444,
              "#bd3786"
             ],
             [
              0.5555555555555556,
              "#d8576b"
             ],
             [
              0.6666666666666666,
              "#ed7953"
             ],
             [
              0.7777777777777778,
              "#fb9f3a"
             ],
             [
              0.8888888888888888,
              "#fdca26"
             ],
             [
              1,
              "#f0f921"
             ]
            ],
            "type": "histogram2d"
           }
          ],
          "histogram2dcontour": [
           {
            "colorbar": {
             "outlinewidth": 0,
             "ticks": ""
            },
            "colorscale": [
             [
              0,
              "#0d0887"
             ],
             [
              0.1111111111111111,
              "#46039f"
             ],
             [
              0.2222222222222222,
              "#7201a8"
             ],
             [
              0.3333333333333333,
              "#9c179e"
             ],
             [
              0.4444444444444444,
              "#bd3786"
             ],
             [
              0.5555555555555556,
              "#d8576b"
             ],
             [
              0.6666666666666666,
              "#ed7953"
             ],
             [
              0.7777777777777778,
              "#fb9f3a"
             ],
             [
              0.8888888888888888,
              "#fdca26"
             ],
             [
              1,
              "#f0f921"
             ]
            ],
            "type": "histogram2dcontour"
           }
          ],
          "mesh3d": [
           {
            "colorbar": {
             "outlinewidth": 0,
             "ticks": ""
            },
            "type": "mesh3d"
           }
          ],
          "parcoords": [
           {
            "line": {
             "colorbar": {
              "outlinewidth": 0,
              "ticks": ""
             }
            },
            "type": "parcoords"
           }
          ],
          "pie": [
           {
            "automargin": true,
            "type": "pie"
           }
          ],
          "scatter": [
           {
            "marker": {
             "colorbar": {
              "outlinewidth": 0,
              "ticks": ""
             }
            },
            "type": "scatter"
           }
          ],
          "scatter3d": [
           {
            "line": {
             "colorbar": {
              "outlinewidth": 0,
              "ticks": ""
             }
            },
            "marker": {
             "colorbar": {
              "outlinewidth": 0,
              "ticks": ""
             }
            },
            "type": "scatter3d"
           }
          ],
          "scattercarpet": [
           {
            "marker": {
             "colorbar": {
              "outlinewidth": 0,
              "ticks": ""
             }
            },
            "type": "scattercarpet"
           }
          ],
          "scattergeo": [
           {
            "marker": {
             "colorbar": {
              "outlinewidth": 0,
              "ticks": ""
             }
            },
            "type": "scattergeo"
           }
          ],
          "scattergl": [
           {
            "marker": {
             "colorbar": {
              "outlinewidth": 0,
              "ticks": ""
             }
            },
            "type": "scattergl"
           }
          ],
          "scattermapbox": [
           {
            "marker": {
             "colorbar": {
              "outlinewidth": 0,
              "ticks": ""
             }
            },
            "type": "scattermapbox"
           }
          ],
          "scatterpolar": [
           {
            "marker": {
             "colorbar": {
              "outlinewidth": 0,
              "ticks": ""
             }
            },
            "type": "scatterpolar"
           }
          ],
          "scatterpolargl": [
           {
            "marker": {
             "colorbar": {
              "outlinewidth": 0,
              "ticks": ""
             }
            },
            "type": "scatterpolargl"
           }
          ],
          "scatterternary": [
           {
            "marker": {
             "colorbar": {
              "outlinewidth": 0,
              "ticks": ""
             }
            },
            "type": "scatterternary"
           }
          ],
          "surface": [
           {
            "colorbar": {
             "outlinewidth": 0,
             "ticks": ""
            },
            "colorscale": [
             [
              0,
              "#0d0887"
             ],
             [
              0.1111111111111111,
              "#46039f"
             ],
             [
              0.2222222222222222,
              "#7201a8"
             ],
             [
              0.3333333333333333,
              "#9c179e"
             ],
             [
              0.4444444444444444,
              "#bd3786"
             ],
             [
              0.5555555555555556,
              "#d8576b"
             ],
             [
              0.6666666666666666,
              "#ed7953"
             ],
             [
              0.7777777777777778,
              "#fb9f3a"
             ],
             [
              0.8888888888888888,
              "#fdca26"
             ],
             [
              1,
              "#f0f921"
             ]
            ],
            "type": "surface"
           }
          ],
          "table": [
           {
            "cells": {
             "fill": {
              "color": "#EBF0F8"
             },
             "line": {
              "color": "white"
             }
            },
            "header": {
             "fill": {
              "color": "#C8D4E3"
             },
             "line": {
              "color": "white"
             }
            },
            "type": "table"
           }
          ]
         },
         "layout": {
          "annotationdefaults": {
           "arrowcolor": "#2a3f5f",
           "arrowhead": 0,
           "arrowwidth": 1
          },
          "coloraxis": {
           "colorbar": {
            "outlinewidth": 0,
            "ticks": ""
           }
          },
          "colorscale": {
           "diverging": [
            [
             0,
             "#8e0152"
            ],
            [
             0.1,
             "#c51b7d"
            ],
            [
             0.2,
             "#de77ae"
            ],
            [
             0.3,
             "#f1b6da"
            ],
            [
             0.4,
             "#fde0ef"
            ],
            [
             0.5,
             "#f7f7f7"
            ],
            [
             0.6,
             "#e6f5d0"
            ],
            [
             0.7,
             "#b8e186"
            ],
            [
             0.8,
             "#7fbc41"
            ],
            [
             0.9,
             "#4d9221"
            ],
            [
             1,
             "#276419"
            ]
           ],
           "sequential": [
            [
             0,
             "#0d0887"
            ],
            [
             0.1111111111111111,
             "#46039f"
            ],
            [
             0.2222222222222222,
             "#7201a8"
            ],
            [
             0.3333333333333333,
             "#9c179e"
            ],
            [
             0.4444444444444444,
             "#bd3786"
            ],
            [
             0.5555555555555556,
             "#d8576b"
            ],
            [
             0.6666666666666666,
             "#ed7953"
            ],
            [
             0.7777777777777778,
             "#fb9f3a"
            ],
            [
             0.8888888888888888,
             "#fdca26"
            ],
            [
             1,
             "#f0f921"
            ]
           ],
           "sequentialminus": [
            [
             0,
             "#0d0887"
            ],
            [
             0.1111111111111111,
             "#46039f"
            ],
            [
             0.2222222222222222,
             "#7201a8"
            ],
            [
             0.3333333333333333,
             "#9c179e"
            ],
            [
             0.4444444444444444,
             "#bd3786"
            ],
            [
             0.5555555555555556,
             "#d8576b"
            ],
            [
             0.6666666666666666,
             "#ed7953"
            ],
            [
             0.7777777777777778,
             "#fb9f3a"
            ],
            [
             0.8888888888888888,
             "#fdca26"
            ],
            [
             1,
             "#f0f921"
            ]
           ]
          },
          "colorway": [
           "#636efa",
           "#EF553B",
           "#00cc96",
           "#ab63fa",
           "#FFA15A",
           "#19d3f3",
           "#FF6692",
           "#B6E880",
           "#FF97FF",
           "#FECB52"
          ],
          "font": {
           "color": "#2a3f5f"
          },
          "geo": {
           "bgcolor": "white",
           "lakecolor": "white",
           "landcolor": "#E5ECF6",
           "showlakes": true,
           "showland": true,
           "subunitcolor": "white"
          },
          "hoverlabel": {
           "align": "left"
          },
          "hovermode": "closest",
          "mapbox": {
           "style": "light"
          },
          "paper_bgcolor": "white",
          "plot_bgcolor": "#E5ECF6",
          "polar": {
           "angularaxis": {
            "gridcolor": "white",
            "linecolor": "white",
            "ticks": ""
           },
           "bgcolor": "#E5ECF6",
           "radialaxis": {
            "gridcolor": "white",
            "linecolor": "white",
            "ticks": ""
           }
          },
          "scene": {
           "xaxis": {
            "backgroundcolor": "#E5ECF6",
            "gridcolor": "white",
            "gridwidth": 2,
            "linecolor": "white",
            "showbackground": true,
            "ticks": "",
            "zerolinecolor": "white"
           },
           "yaxis": {
            "backgroundcolor": "#E5ECF6",
            "gridcolor": "white",
            "gridwidth": 2,
            "linecolor": "white",
            "showbackground": true,
            "ticks": "",
            "zerolinecolor": "white"
           },
           "zaxis": {
            "backgroundcolor": "#E5ECF6",
            "gridcolor": "white",
            "gridwidth": 2,
            "linecolor": "white",
            "showbackground": true,
            "ticks": "",
            "zerolinecolor": "white"
           }
          },
          "shapedefaults": {
           "line": {
            "color": "#2a3f5f"
           }
          },
          "ternary": {
           "aaxis": {
            "gridcolor": "white",
            "linecolor": "white",
            "ticks": ""
           },
           "baxis": {
            "gridcolor": "white",
            "linecolor": "white",
            "ticks": ""
           },
           "bgcolor": "#E5ECF6",
           "caxis": {
            "gridcolor": "white",
            "linecolor": "white",
            "ticks": ""
           }
          },
          "title": {
           "x": 0.05
          },
          "xaxis": {
           "automargin": true,
           "gridcolor": "white",
           "linecolor": "white",
           "ticks": "",
           "title": {
            "standoff": 15
           },
           "zerolinecolor": "white",
           "zerolinewidth": 2
          },
          "yaxis": {
           "automargin": true,
           "gridcolor": "white",
           "linecolor": "white",
           "ticks": "",
           "title": {
            "standoff": 15
           },
           "zerolinecolor": "white",
           "zerolinewidth": 2
          }
         }
        },
        "title": {
         "text": "Richmond VA - house flipping ROI"
        },
        "xaxis": {
         "anchor": "y",
         "domain": [
          0,
          1
         ],
         "title": {
          "text": "Year"
         }
        },
        "yaxis": {
         "anchor": "x",
         "domain": [
          0,
          1
         ],
         "title": {
          "text": "Median gross ROI"
         }
        }
       }
      },
      "text/html": [
       "<div>\n",
       "        \n",
       "        \n",
       "            <div id=\"65a5f5f0-58ea-47e0-a57f-52d6b470bd40\" class=\"plotly-graph-div\" style=\"height:525px; width:100%;\"></div>\n",
       "            <script type=\"text/javascript\">\n",
       "                require([\"plotly\"], function(Plotly) {\n",
       "                    window.PLOTLYENV=window.PLOTLYENV || {};\n",
       "                    \n",
       "                if (document.getElementById(\"65a5f5f0-58ea-47e0-a57f-52d6b470bd40\")) {\n",
       "                    Plotly.newPlot(\n",
       "                        '65a5f5f0-58ea-47e0-a57f-52d6b470bd40',\n",
       "                        [{\"hovertemplate\": \"Council district=1<br>Year=%{x}<br>Median gross ROI=%{y}<extra></extra>\", \"legendgroup\": \"1\", \"line\": {\"color\": \"#636efa\", \"dash\": \"solid\"}, \"mode\": \"lines\", \"name\": \"1\", \"orientation\": \"v\", \"showlegend\": true, \"type\": \"scatter\", \"x\": [2014, 2015, 2016, 2017, 2018, 2019, 2020, 2021, 2022], \"xaxis\": \"x\", \"y\": [66.17647058823529, 37.5, 33.55263157894737, 38.27893175074184, 18.666666666666668, 46.67379989960635, 29.71194879089616, 27.77777777777778, 14.8359133126935], \"yaxis\": \"y\"}, {\"hovertemplate\": \"Council district=2<br>Year=%{x}<br>Median gross ROI=%{y}<extra></extra>\", \"legendgroup\": \"2\", \"line\": {\"color\": \"#EF553B\", \"dash\": \"solid\"}, \"mode\": \"lines\", \"name\": \"2\", \"orientation\": \"v\", \"showlegend\": true, \"type\": \"scatter\", \"x\": [2014, 2015, 2016, 2017, 2018, 2019, 2020, 2021, 2022], \"xaxis\": \"x\", \"y\": [97.59740259740259, 21.478203387037908, 29.72804001250391, 33.724722765818655, 78.49740932642487, 29.40983606557377, 38.720112751707646, 52.89351851851852, 65.52631578947368], \"yaxis\": \"y\"}, {\"hovertemplate\": \"Council district=3<br>Year=%{x}<br>Median gross ROI=%{y}<extra></extra>\", \"legendgroup\": \"3\", \"line\": {\"color\": \"#00cc96\", \"dash\": \"solid\"}, \"mode\": \"lines\", \"name\": \"3\", \"orientation\": \"v\", \"showlegend\": true, \"type\": \"scatter\", \"x\": [2014, 2015, 2016, 2017, 2018, 2019, 2020, 2021, 2022], \"xaxis\": \"x\", \"y\": [136.9042470374535, 160.21829252493848, 127.89783889980353, 133.22916666666666, 111.92052980132449, 99.49172576832152, 117.2809172809173, 100.0, 136.15160349854227], \"yaxis\": \"y\"}, {\"hovertemplate\": \"Council district=4<br>Year=%{x}<br>Median gross ROI=%{y}<extra></extra>\", \"legendgroup\": \"4\", \"line\": {\"color\": \"#ab63fa\", \"dash\": \"solid\"}, \"mode\": \"lines\", \"name\": \"4\", \"orientation\": \"v\", \"showlegend\": true, \"type\": \"scatter\", \"x\": [2014, 2015, 2016, 2017, 2018, 2019, 2020, 2021, 2022], \"xaxis\": \"x\", \"y\": [112.64367816091954, 77.29729729729729, 56.18374558303887, 53.2513028372901, 55.88235294117647, 55.911991652916626, 50.294117647058826, 68.78612716763006, 40.60606060606061], \"yaxis\": \"y\"}, {\"hovertemplate\": \"Council district=5<br>Year=%{x}<br>Median gross ROI=%{y}<extra></extra>\", \"legendgroup\": \"5\", \"line\": {\"color\": \"#FFA15A\", \"dash\": \"solid\"}, \"mode\": \"lines\", \"name\": \"5\", \"orientation\": \"v\", \"showlegend\": true, \"type\": \"scatter\", \"x\": [2014, 2015, 2016, 2017, 2018, 2019, 2020, 2021, 2022], \"xaxis\": \"x\", \"y\": [89.79500891265597, 72.95532610601668, 92.40121287962651, 114.375, 58.875, 92.65591231861686, 68.96551724137932, 68.18181818181817, 96.95652173913044], \"yaxis\": \"y\"}, {\"hovertemplate\": \"Council district=6<br>Year=%{x}<br>Median gross ROI=%{y}<extra></extra>\", \"legendgroup\": \"6\", \"line\": {\"color\": \"#19d3f3\", \"dash\": \"solid\"}, \"mode\": \"lines\", \"name\": \"6\", \"orientation\": \"v\", \"showlegend\": true, \"type\": \"scatter\", \"x\": [2014, 2015, 2016, 2017, 2018, 2019, 2020, 2021, 2022], \"xaxis\": \"x\", \"y\": [78.84017595307918, 99.33333333333334, 108.65942028985506, 147.03747072599532, 125.0, 110.47826086956522, 125.66037735849056, 132.17391304347825, 105.64102564102565], \"yaxis\": \"y\"}, {\"hovertemplate\": \"Council district=7<br>Year=%{x}<br>Median gross ROI=%{y}<extra></extra>\", \"legendgroup\": \"7\", \"line\": {\"color\": \"#FF6692\", \"dash\": \"solid\"}, \"mode\": \"lines\", \"name\": \"7\", \"orientation\": \"v\", \"showlegend\": true, \"type\": \"scatter\", \"x\": [2014, 2015, 2016, 2017, 2018, 2019, 2020, 2021, 2022], \"xaxis\": \"x\", \"y\": [133.5, 123.74609802587676, 80.65235572902147, 123.47876004592422, 106.01411845730027, 137.12809917355372, 106.80000000000001, 122.07792207792207, 95.21739130434783], \"yaxis\": \"y\"}, {\"hovertemplate\": \"Council district=8<br>Year=%{x}<br>Median gross ROI=%{y}<extra></extra>\", \"legendgroup\": \"8\", \"line\": {\"color\": \"#B6E880\", \"dash\": \"solid\"}, \"mode\": \"lines\", \"name\": \"8\", \"orientation\": \"v\", \"showlegend\": true, \"type\": \"scatter\", \"x\": [2014, 2015, 2016, 2017, 2018, 2019, 2020, 2021, 2022], \"xaxis\": \"x\", \"y\": [136.11111111111111, 38.97789205344585, 83.7831045207502, 110.85475993626694, 104.10958904109589, 94.11764705882352, 142.18910256410254, 107.89473684210526, 84.91295938104449], \"yaxis\": \"y\"}, {\"hovertemplate\": \"Council district=9<br>Year=%{x}<br>Median gross ROI=%{y}<extra></extra>\", \"legendgroup\": \"9\", \"line\": {\"color\": \"#FF97FF\", \"dash\": \"solid\"}, \"mode\": \"lines\", \"name\": \"9\", \"orientation\": \"v\", \"showlegend\": true, \"type\": \"scatter\", \"x\": [2014, 2015, 2016, 2017, 2018, 2019, 2020, 2021, 2022], \"xaxis\": \"x\", \"y\": [96.69907823741008, 86.2858617131063, 50.0, 106.85608729003272, 105.26761071275017, 72.98076923076923, 81.60475043320233, 72.20588235294117, 81.92844147968465], \"yaxis\": \"y\"}],\n",
       "                        {\"legend\": {\"title\": {\"text\": \"Council district\"}, \"tracegroupgap\": 0}, \"template\": {\"data\": {\"bar\": [{\"error_x\": {\"color\": \"#2a3f5f\"}, \"error_y\": {\"color\": \"#2a3f5f\"}, \"marker\": {\"line\": {\"color\": \"#E5ECF6\", \"width\": 0.5}}, \"type\": \"bar\"}], \"barpolar\": [{\"marker\": {\"line\": {\"color\": \"#E5ECF6\", \"width\": 0.5}}, \"type\": \"barpolar\"}], \"carpet\": [{\"aaxis\": {\"endlinecolor\": \"#2a3f5f\", \"gridcolor\": \"white\", \"linecolor\": \"white\", \"minorgridcolor\": \"white\", \"startlinecolor\": \"#2a3f5f\"}, \"baxis\": {\"endlinecolor\": \"#2a3f5f\", \"gridcolor\": \"white\", \"linecolor\": \"white\", \"minorgridcolor\": \"white\", \"startlinecolor\": \"#2a3f5f\"}, \"type\": \"carpet\"}], \"choropleth\": [{\"colorbar\": {\"outlinewidth\": 0, \"ticks\": \"\"}, \"type\": \"choropleth\"}], \"contour\": [{\"colorbar\": {\"outlinewidth\": 0, \"ticks\": \"\"}, \"colorscale\": [[0.0, \"#0d0887\"], [0.1111111111111111, \"#46039f\"], [0.2222222222222222, \"#7201a8\"], [0.3333333333333333, \"#9c179e\"], [0.4444444444444444, \"#bd3786\"], [0.5555555555555556, \"#d8576b\"], [0.6666666666666666, \"#ed7953\"], [0.7777777777777778, \"#fb9f3a\"], [0.8888888888888888, \"#fdca26\"], [1.0, \"#f0f921\"]], \"type\": \"contour\"}], \"contourcarpet\": [{\"colorbar\": {\"outlinewidth\": 0, \"ticks\": \"\"}, \"type\": \"contourcarpet\"}], \"heatmap\": [{\"colorbar\": {\"outlinewidth\": 0, \"ticks\": \"\"}, \"colorscale\": [[0.0, \"#0d0887\"], [0.1111111111111111, \"#46039f\"], [0.2222222222222222, \"#7201a8\"], [0.3333333333333333, \"#9c179e\"], [0.4444444444444444, \"#bd3786\"], [0.5555555555555556, \"#d8576b\"], [0.6666666666666666, \"#ed7953\"], [0.7777777777777778, \"#fb9f3a\"], [0.8888888888888888, \"#fdca26\"], [1.0, \"#f0f921\"]], \"type\": \"heatmap\"}], \"heatmapgl\": [{\"colorbar\": {\"outlinewidth\": 0, \"ticks\": \"\"}, \"colorscale\": [[0.0, \"#0d0887\"], [0.1111111111111111, \"#46039f\"], [0.2222222222222222, \"#7201a8\"], [0.3333333333333333, \"#9c179e\"], [0.4444444444444444, \"#bd3786\"], [0.5555555555555556, \"#d8576b\"], [0.6666666666666666, \"#ed7953\"], [0.7777777777777778, \"#fb9f3a\"], [0.8888888888888888, \"#fdca26\"], [1.0, \"#f0f921\"]], \"type\": \"heatmapgl\"}], \"histogram\": [{\"marker\": {\"colorbar\": {\"outlinewidth\": 0, \"ticks\": \"\"}}, \"type\": \"histogram\"}], \"histogram2d\": [{\"colorbar\": {\"outlinewidth\": 0, \"ticks\": \"\"}, \"colorscale\": [[0.0, \"#0d0887\"], [0.1111111111111111, \"#46039f\"], [0.2222222222222222, \"#7201a8\"], [0.3333333333333333, \"#9c179e\"], [0.4444444444444444, \"#bd3786\"], [0.5555555555555556, \"#d8576b\"], [0.6666666666666666, \"#ed7953\"], [0.7777777777777778, \"#fb9f3a\"], [0.8888888888888888, \"#fdca26\"], [1.0, \"#f0f921\"]], \"type\": \"histogram2d\"}], \"histogram2dcontour\": [{\"colorbar\": {\"outlinewidth\": 0, \"ticks\": \"\"}, \"colorscale\": [[0.0, \"#0d0887\"], [0.1111111111111111, \"#46039f\"], [0.2222222222222222, \"#7201a8\"], [0.3333333333333333, \"#9c179e\"], [0.4444444444444444, \"#bd3786\"], [0.5555555555555556, \"#d8576b\"], [0.6666666666666666, \"#ed7953\"], [0.7777777777777778, \"#fb9f3a\"], [0.8888888888888888, \"#fdca26\"], [1.0, \"#f0f921\"]], \"type\": \"histogram2dcontour\"}], \"mesh3d\": [{\"colorbar\": {\"outlinewidth\": 0, \"ticks\": \"\"}, \"type\": \"mesh3d\"}], \"parcoords\": [{\"line\": {\"colorbar\": {\"outlinewidth\": 0, \"ticks\": \"\"}}, \"type\": \"parcoords\"}], \"pie\": [{\"automargin\": true, \"type\": \"pie\"}], \"scatter\": [{\"marker\": {\"colorbar\": {\"outlinewidth\": 0, \"ticks\": \"\"}}, \"type\": \"scatter\"}], \"scatter3d\": [{\"line\": {\"colorbar\": {\"outlinewidth\": 0, \"ticks\": \"\"}}, \"marker\": {\"colorbar\": {\"outlinewidth\": 0, \"ticks\": \"\"}}, \"type\": \"scatter3d\"}], \"scattercarpet\": [{\"marker\": {\"colorbar\": {\"outlinewidth\": 0, \"ticks\": \"\"}}, \"type\": \"scattercarpet\"}], \"scattergeo\": [{\"marker\": {\"colorbar\": {\"outlinewidth\": 0, \"ticks\": \"\"}}, \"type\": \"scattergeo\"}], \"scattergl\": [{\"marker\": {\"colorbar\": {\"outlinewidth\": 0, \"ticks\": \"\"}}, \"type\": \"scattergl\"}], \"scattermapbox\": [{\"marker\": {\"colorbar\": {\"outlinewidth\": 0, \"ticks\": \"\"}}, \"type\": \"scattermapbox\"}], \"scatterpolar\": [{\"marker\": {\"colorbar\": {\"outlinewidth\": 0, \"ticks\": \"\"}}, \"type\": \"scatterpolar\"}], \"scatterpolargl\": [{\"marker\": {\"colorbar\": {\"outlinewidth\": 0, \"ticks\": \"\"}}, \"type\": \"scatterpolargl\"}], \"scatterternary\": [{\"marker\": {\"colorbar\": {\"outlinewidth\": 0, \"ticks\": \"\"}}, \"type\": \"scatterternary\"}], \"surface\": [{\"colorbar\": {\"outlinewidth\": 0, \"ticks\": \"\"}, \"colorscale\": [[0.0, \"#0d0887\"], [0.1111111111111111, \"#46039f\"], [0.2222222222222222, \"#7201a8\"], [0.3333333333333333, \"#9c179e\"], [0.4444444444444444, \"#bd3786\"], [0.5555555555555556, \"#d8576b\"], [0.6666666666666666, \"#ed7953\"], [0.7777777777777778, \"#fb9f3a\"], [0.8888888888888888, \"#fdca26\"], [1.0, \"#f0f921\"]], \"type\": \"surface\"}], \"table\": [{\"cells\": {\"fill\": {\"color\": \"#EBF0F8\"}, \"line\": {\"color\": \"white\"}}, \"header\": {\"fill\": {\"color\": \"#C8D4E3\"}, \"line\": {\"color\": \"white\"}}, \"type\": \"table\"}]}, \"layout\": {\"annotationdefaults\": {\"arrowcolor\": \"#2a3f5f\", \"arrowhead\": 0, \"arrowwidth\": 1}, \"coloraxis\": {\"colorbar\": {\"outlinewidth\": 0, \"ticks\": \"\"}}, \"colorscale\": {\"diverging\": [[0, \"#8e0152\"], [0.1, \"#c51b7d\"], [0.2, \"#de77ae\"], [0.3, \"#f1b6da\"], [0.4, \"#fde0ef\"], [0.5, \"#f7f7f7\"], [0.6, \"#e6f5d0\"], [0.7, \"#b8e186\"], [0.8, \"#7fbc41\"], [0.9, \"#4d9221\"], [1, \"#276419\"]], \"sequential\": [[0.0, \"#0d0887\"], [0.1111111111111111, \"#46039f\"], [0.2222222222222222, \"#7201a8\"], [0.3333333333333333, \"#9c179e\"], [0.4444444444444444, \"#bd3786\"], [0.5555555555555556, \"#d8576b\"], [0.6666666666666666, \"#ed7953\"], [0.7777777777777778, \"#fb9f3a\"], [0.8888888888888888, \"#fdca26\"], [1.0, \"#f0f921\"]], \"sequentialminus\": [[0.0, \"#0d0887\"], [0.1111111111111111, \"#46039f\"], [0.2222222222222222, \"#7201a8\"], [0.3333333333333333, \"#9c179e\"], [0.4444444444444444, \"#bd3786\"], [0.5555555555555556, \"#d8576b\"], [0.6666666666666666, \"#ed7953\"], [0.7777777777777778, \"#fb9f3a\"], [0.8888888888888888, \"#fdca26\"], [1.0, \"#f0f921\"]]}, \"colorway\": [\"#636efa\", \"#EF553B\", \"#00cc96\", \"#ab63fa\", \"#FFA15A\", \"#19d3f3\", \"#FF6692\", \"#B6E880\", \"#FF97FF\", \"#FECB52\"], \"font\": {\"color\": \"#2a3f5f\"}, \"geo\": {\"bgcolor\": \"white\", \"lakecolor\": \"white\", \"landcolor\": \"#E5ECF6\", \"showlakes\": true, \"showland\": true, \"subunitcolor\": \"white\"}, \"hoverlabel\": {\"align\": \"left\"}, \"hovermode\": \"closest\", \"mapbox\": {\"style\": \"light\"}, \"paper_bgcolor\": \"white\", \"plot_bgcolor\": \"#E5ECF6\", \"polar\": {\"angularaxis\": {\"gridcolor\": \"white\", \"linecolor\": \"white\", \"ticks\": \"\"}, \"bgcolor\": \"#E5ECF6\", \"radialaxis\": {\"gridcolor\": \"white\", \"linecolor\": \"white\", \"ticks\": \"\"}}, \"scene\": {\"xaxis\": {\"backgroundcolor\": \"#E5ECF6\", \"gridcolor\": \"white\", \"gridwidth\": 2, \"linecolor\": \"white\", \"showbackground\": true, \"ticks\": \"\", \"zerolinecolor\": \"white\"}, \"yaxis\": {\"backgroundcolor\": \"#E5ECF6\", \"gridcolor\": \"white\", \"gridwidth\": 2, \"linecolor\": \"white\", \"showbackground\": true, \"ticks\": \"\", \"zerolinecolor\": \"white\"}, \"zaxis\": {\"backgroundcolor\": \"#E5ECF6\", \"gridcolor\": \"white\", \"gridwidth\": 2, \"linecolor\": \"white\", \"showbackground\": true, \"ticks\": \"\", \"zerolinecolor\": \"white\"}}, \"shapedefaults\": {\"line\": {\"color\": \"#2a3f5f\"}}, \"ternary\": {\"aaxis\": {\"gridcolor\": \"white\", \"linecolor\": \"white\", \"ticks\": \"\"}, \"baxis\": {\"gridcolor\": \"white\", \"linecolor\": \"white\", \"ticks\": \"\"}, \"bgcolor\": \"#E5ECF6\", \"caxis\": {\"gridcolor\": \"white\", \"linecolor\": \"white\", \"ticks\": \"\"}}, \"title\": {\"x\": 0.05}, \"xaxis\": {\"automargin\": true, \"gridcolor\": \"white\", \"linecolor\": \"white\", \"ticks\": \"\", \"title\": {\"standoff\": 15}, \"zerolinecolor\": \"white\", \"zerolinewidth\": 2}, \"yaxis\": {\"automargin\": true, \"gridcolor\": \"white\", \"linecolor\": \"white\", \"ticks\": \"\", \"title\": {\"standoff\": 15}, \"zerolinecolor\": \"white\", \"zerolinewidth\": 2}}}, \"title\": {\"text\": \"Richmond VA - house flipping ROI\"}, \"xaxis\": {\"anchor\": \"y\", \"domain\": [0.0, 1.0], \"title\": {\"text\": \"Year\"}}, \"yaxis\": {\"anchor\": \"x\", \"domain\": [0.0, 1.0], \"title\": {\"text\": \"Median gross ROI\"}}},\n",
       "                        {\"responsive\": true}\n",
       "                    ).then(function(){\n",
       "                            \n",
       "var gd = document.getElementById('65a5f5f0-58ea-47e0-a57f-52d6b470bd40');\n",
       "var x = new MutationObserver(function (mutations, observer) {{\n",
       "        var display = window.getComputedStyle(gd).display;\n",
       "        if (!display || display === 'none') {{\n",
       "            console.log([gd, 'removed!']);\n",
       "            Plotly.purge(gd);\n",
       "            observer.disconnect();\n",
       "        }}\n",
       "}});\n",
       "\n",
       "// Listen for the removal of the full notebook cells\n",
       "var notebookContainer = gd.closest('#notebook-container');\n",
       "if (notebookContainer) {{\n",
       "    x.observe(notebookContainer, {childList: true});\n",
       "}}\n",
       "\n",
       "// Listen for the clearing of the current output cell\n",
       "var outputEl = gd.closest('.output');\n",
       "if (outputEl) {{\n",
       "    x.observe(outputEl, {childList: true});\n",
       "}}\n",
       "\n",
       "                        })\n",
       "                };\n",
       "                });\n",
       "            </script>\n",
       "        </div>"
      ]
     },
     "metadata": {},
     "output_type": "display_data"
    }
   ],
   "source": [
    "# try with roi\n",
    "flips['council'] = flips['district_number_x'].astype('str').str[:1]\n",
    "fynr = flips.groupby(['year','council']).agg({'roi':['mean','median','std']}).reset_index()\n",
    "fynr.columns = ['year','dist','mean','median','std']\n",
    "px.line(fynr, x='year', y='median', color='dist',\n",
    "       title='Richmond VA - house flipping ROI',\n",
    "       labels={\n",
    "                     \"year\": \"Year\",\n",
    "                     \"median\": \"Median gross ROI\",\n",
    "                     \"dist\": \"Council district\"\n",
    "                 })"
   ]
  },
  {
   "cell_type": "code",
   "execution_count": 226,
   "id": "3468e140",
   "metadata": {},
   "outputs": [
    {
     "data": {
      "application/vnd.plotly.v1+json": {
       "config": {
        "plotlyServerURL": "https://plot.ly"
       },
       "data": [
        {
         "hovertemplate": "Council district=1<br>Year=%{x}<br>mean=%{y}<extra></extra>",
         "legendgroup": "1",
         "line": {
          "color": "#636efa",
          "dash": "solid"
         },
         "mode": "lines",
         "name": "1",
         "orientation": "v",
         "showlegend": true,
         "type": "scatter",
         "x": [
          2014,
          2015,
          2016,
          2017,
          2018,
          2019,
          2020,
          2021,
          2022
         ],
         "xaxis": "x",
         "y": [
          68.42154348811385,
          56.13830139536067,
          58.1262050123899,
          60.35646188082571,
          42.382580390966545,
          94.21082059539157,
          46.00609018726846,
          57.17557631012452,
          18.77482782769623
         ],
         "yaxis": "y"
        },
        {
         "hovertemplate": "Council district=2<br>Year=%{x}<br>mean=%{y}<extra></extra>",
         "legendgroup": "2",
         "line": {
          "color": "#EF553B",
          "dash": "solid"
         },
         "mode": "lines",
         "name": "2",
         "orientation": "v",
         "showlegend": true,
         "type": "scatter",
         "x": [
          2014,
          2015,
          2016,
          2017,
          2018,
          2019,
          2020,
          2021,
          2022
         ],
         "xaxis": "x",
         "y": [
          109.86066776995501,
          36.708068277365484,
          51.54128353590941,
          58.69813302070403,
          87.09543061002245,
          125.4908617538119,
          50.232625181642796,
          117.1324080581647,
          53.936277421076376
         ],
         "yaxis": "y"
        },
        {
         "hovertemplate": "Council district=3<br>Year=%{x}<br>mean=%{y}<extra></extra>",
         "legendgroup": "3",
         "line": {
          "color": "#00cc96",
          "dash": "solid"
         },
         "mode": "lines",
         "name": "3",
         "orientation": "v",
         "showlegend": true,
         "type": "scatter",
         "x": [
          2014,
          2015,
          2016,
          2017,
          2018,
          2019,
          2020,
          2021,
          2022
         ],
         "xaxis": "x",
         "y": [
          166.42243572808323,
          188.55269566795323,
          163.31957858652603,
          149.55566279743286,
          333.84341380985614,
          168.9834811581716,
          120.84619587205069,
          120.78776386435567,
          138.4258276357924
         ],
         "yaxis": "y"
        },
        {
         "hovertemplate": "Council district=4<br>Year=%{x}<br>mean=%{y}<extra></extra>",
         "legendgroup": "4",
         "line": {
          "color": "#ab63fa",
          "dash": "solid"
         },
         "mode": "lines",
         "name": "4",
         "orientation": "v",
         "showlegend": true,
         "type": "scatter",
         "x": [
          2014,
          2015,
          2016,
          2017,
          2018,
          2019,
          2020,
          2021,
          2022
         ],
         "xaxis": "x",
         "y": [
          122.97623101672677,
          108.6934124954022,
          63.66821952903322,
          68.04132662248531,
          73.77699329703474,
          62.61339458274729,
          60.565199732570846,
          80.65003859398485,
          80.94295764267922
         ],
         "yaxis": "y"
        },
        {
         "hovertemplate": "Council district=5<br>Year=%{x}<br>mean=%{y}<extra></extra>",
         "legendgroup": "5",
         "line": {
          "color": "#FFA15A",
          "dash": "solid"
         },
         "mode": "lines",
         "name": "5",
         "orientation": "v",
         "showlegend": true,
         "type": "scatter",
         "x": [
          2014,
          2015,
          2016,
          2017,
          2018,
          2019,
          2020,
          2021,
          2022
         ],
         "xaxis": "x",
         "y": [
          135.48411125838237,
          99.20228772844699,
          108.99521937870799,
          185.30786881939807,
          96.85993264552788,
          124.23836165214213,
          88.67286832313397,
          128.0947678800813,
          103.18264782519805
         ],
         "yaxis": "y"
        },
        {
         "hovertemplate": "Council district=6<br>Year=%{x}<br>mean=%{y}<extra></extra>",
         "legendgroup": "6",
         "line": {
          "color": "#19d3f3",
          "dash": "solid"
         },
         "mode": "lines",
         "name": "6",
         "orientation": "v",
         "showlegend": true,
         "type": "scatter",
         "x": [
          2014,
          2015,
          2016,
          2017,
          2018,
          2019,
          2020,
          2021,
          2022
         ],
         "xaxis": "x",
         "y": [
          151.30013246611935,
          130.09567468290987,
          196.43353963325544,
          185.75921274511802,
          185.54457647094307,
          120.9306519556268,
          173.36622572900575,
          149.00201082711476,
          105.4968419473883
         ],
         "yaxis": "y"
        },
        {
         "hovertemplate": "Council district=7<br>Year=%{x}<br>mean=%{y}<extra></extra>",
         "legendgroup": "7",
         "line": {
          "color": "#FF6692",
          "dash": "solid"
         },
         "mode": "lines",
         "name": "7",
         "orientation": "v",
         "showlegend": true,
         "type": "scatter",
         "x": [
          2014,
          2015,
          2016,
          2017,
          2018,
          2019,
          2020,
          2021,
          2022
         ],
         "xaxis": "x",
         "y": [
          268.2991693772807,
          217.4130454060091,
          173.29039266485572,
          180.47851581723725,
          173.47185632722415,
          185.55052553995077,
          156.22968789590703,
          143.72112226675117,
          106.6715075035815
         ],
         "yaxis": "y"
        },
        {
         "hovertemplate": "Council district=8<br>Year=%{x}<br>mean=%{y}<extra></extra>",
         "legendgroup": "8",
         "line": {
          "color": "#B6E880",
          "dash": "solid"
         },
         "mode": "lines",
         "name": "8",
         "orientation": "v",
         "showlegend": true,
         "type": "scatter",
         "x": [
          2014,
          2015,
          2016,
          2017,
          2018,
          2019,
          2020,
          2021,
          2022
         ],
         "xaxis": "x",
         "y": [
          323.63762563321137,
          81.8212192612445,
          108.07090363711391,
          130.03743785575887,
          263.3863414080652,
          121.27574337796366,
          193.87372862617025,
          153.0752047916716,
          100.82669179292152
         ],
         "yaxis": "y"
        },
        {
         "hovertemplate": "Council district=9<br>Year=%{x}<br>mean=%{y}<extra></extra>",
         "legendgroup": "9",
         "line": {
          "color": "#FF97FF",
          "dash": "solid"
         },
         "mode": "lines",
         "name": "9",
         "orientation": "v",
         "showlegend": true,
         "type": "scatter",
         "x": [
          2014,
          2015,
          2016,
          2017,
          2018,
          2019,
          2020,
          2021,
          2022
         ],
         "xaxis": "x",
         "y": [
          115.61389716496619,
          108.2346448724015,
          90.89381038984828,
          115.81820402092933,
          232.6534134053222,
          92.96084652013816,
          96.86382222713,
          80.67852825047886,
          211.13884557259328
         ],
         "yaxis": "y"
        }
       ],
       "layout": {
        "legend": {
         "title": {
          "text": "Council district"
         },
         "tracegroupgap": 0
        },
        "template": {
         "data": {
          "bar": [
           {
            "error_x": {
             "color": "#2a3f5f"
            },
            "error_y": {
             "color": "#2a3f5f"
            },
            "marker": {
             "line": {
              "color": "#E5ECF6",
              "width": 0.5
             }
            },
            "type": "bar"
           }
          ],
          "barpolar": [
           {
            "marker": {
             "line": {
              "color": "#E5ECF6",
              "width": 0.5
             }
            },
            "type": "barpolar"
           }
          ],
          "carpet": [
           {
            "aaxis": {
             "endlinecolor": "#2a3f5f",
             "gridcolor": "white",
             "linecolor": "white",
             "minorgridcolor": "white",
             "startlinecolor": "#2a3f5f"
            },
            "baxis": {
             "endlinecolor": "#2a3f5f",
             "gridcolor": "white",
             "linecolor": "white",
             "minorgridcolor": "white",
             "startlinecolor": "#2a3f5f"
            },
            "type": "carpet"
           }
          ],
          "choropleth": [
           {
            "colorbar": {
             "outlinewidth": 0,
             "ticks": ""
            },
            "type": "choropleth"
           }
          ],
          "contour": [
           {
            "colorbar": {
             "outlinewidth": 0,
             "ticks": ""
            },
            "colorscale": [
             [
              0,
              "#0d0887"
             ],
             [
              0.1111111111111111,
              "#46039f"
             ],
             [
              0.2222222222222222,
              "#7201a8"
             ],
             [
              0.3333333333333333,
              "#9c179e"
             ],
             [
              0.4444444444444444,
              "#bd3786"
             ],
             [
              0.5555555555555556,
              "#d8576b"
             ],
             [
              0.6666666666666666,
              "#ed7953"
             ],
             [
              0.7777777777777778,
              "#fb9f3a"
             ],
             [
              0.8888888888888888,
              "#fdca26"
             ],
             [
              1,
              "#f0f921"
             ]
            ],
            "type": "contour"
           }
          ],
          "contourcarpet": [
           {
            "colorbar": {
             "outlinewidth": 0,
             "ticks": ""
            },
            "type": "contourcarpet"
           }
          ],
          "heatmap": [
           {
            "colorbar": {
             "outlinewidth": 0,
             "ticks": ""
            },
            "colorscale": [
             [
              0,
              "#0d0887"
             ],
             [
              0.1111111111111111,
              "#46039f"
             ],
             [
              0.2222222222222222,
              "#7201a8"
             ],
             [
              0.3333333333333333,
              "#9c179e"
             ],
             [
              0.4444444444444444,
              "#bd3786"
             ],
             [
              0.5555555555555556,
              "#d8576b"
             ],
             [
              0.6666666666666666,
              "#ed7953"
             ],
             [
              0.7777777777777778,
              "#fb9f3a"
             ],
             [
              0.8888888888888888,
              "#fdca26"
             ],
             [
              1,
              "#f0f921"
             ]
            ],
            "type": "heatmap"
           }
          ],
          "heatmapgl": [
           {
            "colorbar": {
             "outlinewidth": 0,
             "ticks": ""
            },
            "colorscale": [
             [
              0,
              "#0d0887"
             ],
             [
              0.1111111111111111,
              "#46039f"
             ],
             [
              0.2222222222222222,
              "#7201a8"
             ],
             [
              0.3333333333333333,
              "#9c179e"
             ],
             [
              0.4444444444444444,
              "#bd3786"
             ],
             [
              0.5555555555555556,
              "#d8576b"
             ],
             [
              0.6666666666666666,
              "#ed7953"
             ],
             [
              0.7777777777777778,
              "#fb9f3a"
             ],
             [
              0.8888888888888888,
              "#fdca26"
             ],
             [
              1,
              "#f0f921"
             ]
            ],
            "type": "heatmapgl"
           }
          ],
          "histogram": [
           {
            "marker": {
             "colorbar": {
              "outlinewidth": 0,
              "ticks": ""
             }
            },
            "type": "histogram"
           }
          ],
          "histogram2d": [
           {
            "colorbar": {
             "outlinewidth": 0,
             "ticks": ""
            },
            "colorscale": [
             [
              0,
              "#0d0887"
             ],
             [
              0.1111111111111111,
              "#46039f"
             ],
             [
              0.2222222222222222,
              "#7201a8"
             ],
             [
              0.3333333333333333,
              "#9c179e"
             ],
             [
              0.4444444444444444,
              "#bd3786"
             ],
             [
              0.5555555555555556,
              "#d8576b"
             ],
             [
              0.6666666666666666,
              "#ed7953"
             ],
             [
              0.7777777777777778,
              "#fb9f3a"
             ],
             [
              0.8888888888888888,
              "#fdca26"
             ],
             [
              1,
              "#f0f921"
             ]
            ],
            "type": "histogram2d"
           }
          ],
          "histogram2dcontour": [
           {
            "colorbar": {
             "outlinewidth": 0,
             "ticks": ""
            },
            "colorscale": [
             [
              0,
              "#0d0887"
             ],
             [
              0.1111111111111111,
              "#46039f"
             ],
             [
              0.2222222222222222,
              "#7201a8"
             ],
             [
              0.3333333333333333,
              "#9c179e"
             ],
             [
              0.4444444444444444,
              "#bd3786"
             ],
             [
              0.5555555555555556,
              "#d8576b"
             ],
             [
              0.6666666666666666,
              "#ed7953"
             ],
             [
              0.7777777777777778,
              "#fb9f3a"
             ],
             [
              0.8888888888888888,
              "#fdca26"
             ],
             [
              1,
              "#f0f921"
             ]
            ],
            "type": "histogram2dcontour"
           }
          ],
          "mesh3d": [
           {
            "colorbar": {
             "outlinewidth": 0,
             "ticks": ""
            },
            "type": "mesh3d"
           }
          ],
          "parcoords": [
           {
            "line": {
             "colorbar": {
              "outlinewidth": 0,
              "ticks": ""
             }
            },
            "type": "parcoords"
           }
          ],
          "pie": [
           {
            "automargin": true,
            "type": "pie"
           }
          ],
          "scatter": [
           {
            "marker": {
             "colorbar": {
              "outlinewidth": 0,
              "ticks": ""
             }
            },
            "type": "scatter"
           }
          ],
          "scatter3d": [
           {
            "line": {
             "colorbar": {
              "outlinewidth": 0,
              "ticks": ""
             }
            },
            "marker": {
             "colorbar": {
              "outlinewidth": 0,
              "ticks": ""
             }
            },
            "type": "scatter3d"
           }
          ],
          "scattercarpet": [
           {
            "marker": {
             "colorbar": {
              "outlinewidth": 0,
              "ticks": ""
             }
            },
            "type": "scattercarpet"
           }
          ],
          "scattergeo": [
           {
            "marker": {
             "colorbar": {
              "outlinewidth": 0,
              "ticks": ""
             }
            },
            "type": "scattergeo"
           }
          ],
          "scattergl": [
           {
            "marker": {
             "colorbar": {
              "outlinewidth": 0,
              "ticks": ""
             }
            },
            "type": "scattergl"
           }
          ],
          "scattermapbox": [
           {
            "marker": {
             "colorbar": {
              "outlinewidth": 0,
              "ticks": ""
             }
            },
            "type": "scattermapbox"
           }
          ],
          "scatterpolar": [
           {
            "marker": {
             "colorbar": {
              "outlinewidth": 0,
              "ticks": ""
             }
            },
            "type": "scatterpolar"
           }
          ],
          "scatterpolargl": [
           {
            "marker": {
             "colorbar": {
              "outlinewidth": 0,
              "ticks": ""
             }
            },
            "type": "scatterpolargl"
           }
          ],
          "scatterternary": [
           {
            "marker": {
             "colorbar": {
              "outlinewidth": 0,
              "ticks": ""
             }
            },
            "type": "scatterternary"
           }
          ],
          "surface": [
           {
            "colorbar": {
             "outlinewidth": 0,
             "ticks": ""
            },
            "colorscale": [
             [
              0,
              "#0d0887"
             ],
             [
              0.1111111111111111,
              "#46039f"
             ],
             [
              0.2222222222222222,
              "#7201a8"
             ],
             [
              0.3333333333333333,
              "#9c179e"
             ],
             [
              0.4444444444444444,
              "#bd3786"
             ],
             [
              0.5555555555555556,
              "#d8576b"
             ],
             [
              0.6666666666666666,
              "#ed7953"
             ],
             [
              0.7777777777777778,
              "#fb9f3a"
             ],
             [
              0.8888888888888888,
              "#fdca26"
             ],
             [
              1,
              "#f0f921"
             ]
            ],
            "type": "surface"
           }
          ],
          "table": [
           {
            "cells": {
             "fill": {
              "color": "#EBF0F8"
             },
             "line": {
              "color": "white"
             }
            },
            "header": {
             "fill": {
              "color": "#C8D4E3"
             },
             "line": {
              "color": "white"
             }
            },
            "type": "table"
           }
          ]
         },
         "layout": {
          "annotationdefaults": {
           "arrowcolor": "#2a3f5f",
           "arrowhead": 0,
           "arrowwidth": 1
          },
          "coloraxis": {
           "colorbar": {
            "outlinewidth": 0,
            "ticks": ""
           }
          },
          "colorscale": {
           "diverging": [
            [
             0,
             "#8e0152"
            ],
            [
             0.1,
             "#c51b7d"
            ],
            [
             0.2,
             "#de77ae"
            ],
            [
             0.3,
             "#f1b6da"
            ],
            [
             0.4,
             "#fde0ef"
            ],
            [
             0.5,
             "#f7f7f7"
            ],
            [
             0.6,
             "#e6f5d0"
            ],
            [
             0.7,
             "#b8e186"
            ],
            [
             0.8,
             "#7fbc41"
            ],
            [
             0.9,
             "#4d9221"
            ],
            [
             1,
             "#276419"
            ]
           ],
           "sequential": [
            [
             0,
             "#0d0887"
            ],
            [
             0.1111111111111111,
             "#46039f"
            ],
            [
             0.2222222222222222,
             "#7201a8"
            ],
            [
             0.3333333333333333,
             "#9c179e"
            ],
            [
             0.4444444444444444,
             "#bd3786"
            ],
            [
             0.5555555555555556,
             "#d8576b"
            ],
            [
             0.6666666666666666,
             "#ed7953"
            ],
            [
             0.7777777777777778,
             "#fb9f3a"
            ],
            [
             0.8888888888888888,
             "#fdca26"
            ],
            [
             1,
             "#f0f921"
            ]
           ],
           "sequentialminus": [
            [
             0,
             "#0d0887"
            ],
            [
             0.1111111111111111,
             "#46039f"
            ],
            [
             0.2222222222222222,
             "#7201a8"
            ],
            [
             0.3333333333333333,
             "#9c179e"
            ],
            [
             0.4444444444444444,
             "#bd3786"
            ],
            [
             0.5555555555555556,
             "#d8576b"
            ],
            [
             0.6666666666666666,
             "#ed7953"
            ],
            [
             0.7777777777777778,
             "#fb9f3a"
            ],
            [
             0.8888888888888888,
             "#fdca26"
            ],
            [
             1,
             "#f0f921"
            ]
           ]
          },
          "colorway": [
           "#636efa",
           "#EF553B",
           "#00cc96",
           "#ab63fa",
           "#FFA15A",
           "#19d3f3",
           "#FF6692",
           "#B6E880",
           "#FF97FF",
           "#FECB52"
          ],
          "font": {
           "color": "#2a3f5f"
          },
          "geo": {
           "bgcolor": "white",
           "lakecolor": "white",
           "landcolor": "#E5ECF6",
           "showlakes": true,
           "showland": true,
           "subunitcolor": "white"
          },
          "hoverlabel": {
           "align": "left"
          },
          "hovermode": "closest",
          "mapbox": {
           "style": "light"
          },
          "paper_bgcolor": "white",
          "plot_bgcolor": "#E5ECF6",
          "polar": {
           "angularaxis": {
            "gridcolor": "white",
            "linecolor": "white",
            "ticks": ""
           },
           "bgcolor": "#E5ECF6",
           "radialaxis": {
            "gridcolor": "white",
            "linecolor": "white",
            "ticks": ""
           }
          },
          "scene": {
           "xaxis": {
            "backgroundcolor": "#E5ECF6",
            "gridcolor": "white",
            "gridwidth": 2,
            "linecolor": "white",
            "showbackground": true,
            "ticks": "",
            "zerolinecolor": "white"
           },
           "yaxis": {
            "backgroundcolor": "#E5ECF6",
            "gridcolor": "white",
            "gridwidth": 2,
            "linecolor": "white",
            "showbackground": true,
            "ticks": "",
            "zerolinecolor": "white"
           },
           "zaxis": {
            "backgroundcolor": "#E5ECF6",
            "gridcolor": "white",
            "gridwidth": 2,
            "linecolor": "white",
            "showbackground": true,
            "ticks": "",
            "zerolinecolor": "white"
           }
          },
          "shapedefaults": {
           "line": {
            "color": "#2a3f5f"
           }
          },
          "ternary": {
           "aaxis": {
            "gridcolor": "white",
            "linecolor": "white",
            "ticks": ""
           },
           "baxis": {
            "gridcolor": "white",
            "linecolor": "white",
            "ticks": ""
           },
           "bgcolor": "#E5ECF6",
           "caxis": {
            "gridcolor": "white",
            "linecolor": "white",
            "ticks": ""
           }
          },
          "title": {
           "x": 0.05
          },
          "xaxis": {
           "automargin": true,
           "gridcolor": "white",
           "linecolor": "white",
           "ticks": "",
           "title": {
            "standoff": 15
           },
           "zerolinecolor": "white",
           "zerolinewidth": 2
          },
          "yaxis": {
           "automargin": true,
           "gridcolor": "white",
           "linecolor": "white",
           "ticks": "",
           "title": {
            "standoff": 15
           },
           "zerolinecolor": "white",
           "zerolinewidth": 2
          }
         }
        },
        "title": {
         "text": "Richmond VA - house flipping"
        },
        "xaxis": {
         "anchor": "y",
         "domain": [
          0,
          1
         ],
         "title": {
          "text": "Year"
         }
        },
        "yaxis": {
         "anchor": "x",
         "domain": [
          0,
          1
         ],
         "title": {
          "text": "mean"
         }
        }
       }
      },
      "text/html": [
       "<div>\n",
       "        \n",
       "        \n",
       "            <div id=\"0132d491-2bf4-48d1-b922-5cc88a27b61e\" class=\"plotly-graph-div\" style=\"height:525px; width:100%;\"></div>\n",
       "            <script type=\"text/javascript\">\n",
       "                require([\"plotly\"], function(Plotly) {\n",
       "                    window.PLOTLYENV=window.PLOTLYENV || {};\n",
       "                    \n",
       "                if (document.getElementById(\"0132d491-2bf4-48d1-b922-5cc88a27b61e\")) {\n",
       "                    Plotly.newPlot(\n",
       "                        '0132d491-2bf4-48d1-b922-5cc88a27b61e',\n",
       "                        [{\"hovertemplate\": \"Council district=1<br>Year=%{x}<br>mean=%{y}<extra></extra>\", \"legendgroup\": \"1\", \"line\": {\"color\": \"#636efa\", \"dash\": \"solid\"}, \"mode\": \"lines\", \"name\": \"1\", \"orientation\": \"v\", \"showlegend\": true, \"type\": \"scatter\", \"x\": [2014, 2015, 2016, 2017, 2018, 2019, 2020, 2021, 2022], \"xaxis\": \"x\", \"y\": [68.42154348811385, 56.13830139536067, 58.1262050123899, 60.35646188082571, 42.382580390966545, 94.21082059539157, 46.00609018726846, 57.17557631012452, 18.77482782769623], \"yaxis\": \"y\"}, {\"hovertemplate\": \"Council district=2<br>Year=%{x}<br>mean=%{y}<extra></extra>\", \"legendgroup\": \"2\", \"line\": {\"color\": \"#EF553B\", \"dash\": \"solid\"}, \"mode\": \"lines\", \"name\": \"2\", \"orientation\": \"v\", \"showlegend\": true, \"type\": \"scatter\", \"x\": [2014, 2015, 2016, 2017, 2018, 2019, 2020, 2021, 2022], \"xaxis\": \"x\", \"y\": [109.86066776995501, 36.708068277365484, 51.54128353590941, 58.69813302070403, 87.09543061002245, 125.4908617538119, 50.232625181642796, 117.1324080581647, 53.936277421076376], \"yaxis\": \"y\"}, {\"hovertemplate\": \"Council district=3<br>Year=%{x}<br>mean=%{y}<extra></extra>\", \"legendgroup\": \"3\", \"line\": {\"color\": \"#00cc96\", \"dash\": \"solid\"}, \"mode\": \"lines\", \"name\": \"3\", \"orientation\": \"v\", \"showlegend\": true, \"type\": \"scatter\", \"x\": [2014, 2015, 2016, 2017, 2018, 2019, 2020, 2021, 2022], \"xaxis\": \"x\", \"y\": [166.42243572808323, 188.55269566795323, 163.31957858652603, 149.55566279743286, 333.84341380985614, 168.9834811581716, 120.84619587205069, 120.78776386435567, 138.4258276357924], \"yaxis\": \"y\"}, {\"hovertemplate\": \"Council district=4<br>Year=%{x}<br>mean=%{y}<extra></extra>\", \"legendgroup\": \"4\", \"line\": {\"color\": \"#ab63fa\", \"dash\": \"solid\"}, \"mode\": \"lines\", \"name\": \"4\", \"orientation\": \"v\", \"showlegend\": true, \"type\": \"scatter\", \"x\": [2014, 2015, 2016, 2017, 2018, 2019, 2020, 2021, 2022], \"xaxis\": \"x\", \"y\": [122.97623101672677, 108.6934124954022, 63.66821952903322, 68.04132662248531, 73.77699329703474, 62.61339458274729, 60.565199732570846, 80.65003859398485, 80.94295764267922], \"yaxis\": \"y\"}, {\"hovertemplate\": \"Council district=5<br>Year=%{x}<br>mean=%{y}<extra></extra>\", \"legendgroup\": \"5\", \"line\": {\"color\": \"#FFA15A\", \"dash\": \"solid\"}, \"mode\": \"lines\", \"name\": \"5\", \"orientation\": \"v\", \"showlegend\": true, \"type\": \"scatter\", \"x\": [2014, 2015, 2016, 2017, 2018, 2019, 2020, 2021, 2022], \"xaxis\": \"x\", \"y\": [135.48411125838237, 99.20228772844699, 108.99521937870799, 185.30786881939807, 96.85993264552788, 124.23836165214213, 88.67286832313397, 128.0947678800813, 103.18264782519805], \"yaxis\": \"y\"}, {\"hovertemplate\": \"Council district=6<br>Year=%{x}<br>mean=%{y}<extra></extra>\", \"legendgroup\": \"6\", \"line\": {\"color\": \"#19d3f3\", \"dash\": \"solid\"}, \"mode\": \"lines\", \"name\": \"6\", \"orientation\": \"v\", \"showlegend\": true, \"type\": \"scatter\", \"x\": [2014, 2015, 2016, 2017, 2018, 2019, 2020, 2021, 2022], \"xaxis\": \"x\", \"y\": [151.30013246611935, 130.09567468290987, 196.43353963325544, 185.75921274511802, 185.54457647094307, 120.9306519556268, 173.36622572900575, 149.00201082711476, 105.4968419473883], \"yaxis\": \"y\"}, {\"hovertemplate\": \"Council district=7<br>Year=%{x}<br>mean=%{y}<extra></extra>\", \"legendgroup\": \"7\", \"line\": {\"color\": \"#FF6692\", \"dash\": \"solid\"}, \"mode\": \"lines\", \"name\": \"7\", \"orientation\": \"v\", \"showlegend\": true, \"type\": \"scatter\", \"x\": [2014, 2015, 2016, 2017, 2018, 2019, 2020, 2021, 2022], \"xaxis\": \"x\", \"y\": [268.2991693772807, 217.4130454060091, 173.29039266485572, 180.47851581723725, 173.47185632722415, 185.55052553995077, 156.22968789590703, 143.72112226675117, 106.6715075035815], \"yaxis\": \"y\"}, {\"hovertemplate\": \"Council district=8<br>Year=%{x}<br>mean=%{y}<extra></extra>\", \"legendgroup\": \"8\", \"line\": {\"color\": \"#B6E880\", \"dash\": \"solid\"}, \"mode\": \"lines\", \"name\": \"8\", \"orientation\": \"v\", \"showlegend\": true, \"type\": \"scatter\", \"x\": [2014, 2015, 2016, 2017, 2018, 2019, 2020, 2021, 2022], \"xaxis\": \"x\", \"y\": [323.63762563321137, 81.8212192612445, 108.07090363711391, 130.03743785575887, 263.3863414080652, 121.27574337796366, 193.87372862617025, 153.0752047916716, 100.82669179292152], \"yaxis\": \"y\"}, {\"hovertemplate\": \"Council district=9<br>Year=%{x}<br>mean=%{y}<extra></extra>\", \"legendgroup\": \"9\", \"line\": {\"color\": \"#FF97FF\", \"dash\": \"solid\"}, \"mode\": \"lines\", \"name\": \"9\", \"orientation\": \"v\", \"showlegend\": true, \"type\": \"scatter\", \"x\": [2014, 2015, 2016, 2017, 2018, 2019, 2020, 2021, 2022], \"xaxis\": \"x\", \"y\": [115.61389716496619, 108.2346448724015, 90.89381038984828, 115.81820402092933, 232.6534134053222, 92.96084652013816, 96.86382222713, 80.67852825047886, 211.13884557259328], \"yaxis\": \"y\"}],\n",
       "                        {\"legend\": {\"title\": {\"text\": \"Council district\"}, \"tracegroupgap\": 0}, \"template\": {\"data\": {\"bar\": [{\"error_x\": {\"color\": \"#2a3f5f\"}, \"error_y\": {\"color\": \"#2a3f5f\"}, \"marker\": {\"line\": {\"color\": \"#E5ECF6\", \"width\": 0.5}}, \"type\": \"bar\"}], \"barpolar\": [{\"marker\": {\"line\": {\"color\": \"#E5ECF6\", \"width\": 0.5}}, \"type\": \"barpolar\"}], \"carpet\": [{\"aaxis\": {\"endlinecolor\": \"#2a3f5f\", \"gridcolor\": \"white\", \"linecolor\": \"white\", \"minorgridcolor\": \"white\", \"startlinecolor\": \"#2a3f5f\"}, \"baxis\": {\"endlinecolor\": \"#2a3f5f\", \"gridcolor\": \"white\", \"linecolor\": \"white\", \"minorgridcolor\": \"white\", \"startlinecolor\": \"#2a3f5f\"}, \"type\": \"carpet\"}], \"choropleth\": [{\"colorbar\": {\"outlinewidth\": 0, \"ticks\": \"\"}, \"type\": \"choropleth\"}], \"contour\": [{\"colorbar\": {\"outlinewidth\": 0, \"ticks\": \"\"}, \"colorscale\": [[0.0, \"#0d0887\"], [0.1111111111111111, \"#46039f\"], [0.2222222222222222, \"#7201a8\"], [0.3333333333333333, \"#9c179e\"], [0.4444444444444444, \"#bd3786\"], [0.5555555555555556, \"#d8576b\"], [0.6666666666666666, \"#ed7953\"], [0.7777777777777778, \"#fb9f3a\"], [0.8888888888888888, \"#fdca26\"], [1.0, \"#f0f921\"]], \"type\": \"contour\"}], \"contourcarpet\": [{\"colorbar\": {\"outlinewidth\": 0, \"ticks\": \"\"}, \"type\": \"contourcarpet\"}], \"heatmap\": [{\"colorbar\": {\"outlinewidth\": 0, \"ticks\": \"\"}, \"colorscale\": [[0.0, \"#0d0887\"], [0.1111111111111111, \"#46039f\"], [0.2222222222222222, \"#7201a8\"], [0.3333333333333333, \"#9c179e\"], [0.4444444444444444, \"#bd3786\"], [0.5555555555555556, \"#d8576b\"], [0.6666666666666666, \"#ed7953\"], [0.7777777777777778, \"#fb9f3a\"], [0.8888888888888888, \"#fdca26\"], [1.0, \"#f0f921\"]], \"type\": \"heatmap\"}], \"heatmapgl\": [{\"colorbar\": {\"outlinewidth\": 0, \"ticks\": \"\"}, \"colorscale\": [[0.0, \"#0d0887\"], [0.1111111111111111, \"#46039f\"], [0.2222222222222222, \"#7201a8\"], [0.3333333333333333, \"#9c179e\"], [0.4444444444444444, \"#bd3786\"], [0.5555555555555556, \"#d8576b\"], [0.6666666666666666, \"#ed7953\"], [0.7777777777777778, \"#fb9f3a\"], [0.8888888888888888, \"#fdca26\"], [1.0, \"#f0f921\"]], \"type\": \"heatmapgl\"}], \"histogram\": [{\"marker\": {\"colorbar\": {\"outlinewidth\": 0, \"ticks\": \"\"}}, \"type\": \"histogram\"}], \"histogram2d\": [{\"colorbar\": {\"outlinewidth\": 0, \"ticks\": \"\"}, \"colorscale\": [[0.0, \"#0d0887\"], [0.1111111111111111, \"#46039f\"], [0.2222222222222222, \"#7201a8\"], [0.3333333333333333, \"#9c179e\"], [0.4444444444444444, \"#bd3786\"], [0.5555555555555556, \"#d8576b\"], [0.6666666666666666, \"#ed7953\"], [0.7777777777777778, \"#fb9f3a\"], [0.8888888888888888, \"#fdca26\"], [1.0, \"#f0f921\"]], \"type\": \"histogram2d\"}], \"histogram2dcontour\": [{\"colorbar\": {\"outlinewidth\": 0, \"ticks\": \"\"}, \"colorscale\": [[0.0, \"#0d0887\"], [0.1111111111111111, \"#46039f\"], [0.2222222222222222, \"#7201a8\"], [0.3333333333333333, \"#9c179e\"], [0.4444444444444444, \"#bd3786\"], [0.5555555555555556, \"#d8576b\"], [0.6666666666666666, \"#ed7953\"], [0.7777777777777778, \"#fb9f3a\"], [0.8888888888888888, \"#fdca26\"], [1.0, \"#f0f921\"]], \"type\": \"histogram2dcontour\"}], \"mesh3d\": [{\"colorbar\": {\"outlinewidth\": 0, \"ticks\": \"\"}, \"type\": \"mesh3d\"}], \"parcoords\": [{\"line\": {\"colorbar\": {\"outlinewidth\": 0, \"ticks\": \"\"}}, \"type\": \"parcoords\"}], \"pie\": [{\"automargin\": true, \"type\": \"pie\"}], \"scatter\": [{\"marker\": {\"colorbar\": {\"outlinewidth\": 0, \"ticks\": \"\"}}, \"type\": \"scatter\"}], \"scatter3d\": [{\"line\": {\"colorbar\": {\"outlinewidth\": 0, \"ticks\": \"\"}}, \"marker\": {\"colorbar\": {\"outlinewidth\": 0, \"ticks\": \"\"}}, \"type\": \"scatter3d\"}], \"scattercarpet\": [{\"marker\": {\"colorbar\": {\"outlinewidth\": 0, \"ticks\": \"\"}}, \"type\": \"scattercarpet\"}], \"scattergeo\": [{\"marker\": {\"colorbar\": {\"outlinewidth\": 0, \"ticks\": \"\"}}, \"type\": \"scattergeo\"}], \"scattergl\": [{\"marker\": {\"colorbar\": {\"outlinewidth\": 0, \"ticks\": \"\"}}, \"type\": \"scattergl\"}], \"scattermapbox\": [{\"marker\": {\"colorbar\": {\"outlinewidth\": 0, \"ticks\": \"\"}}, \"type\": \"scattermapbox\"}], \"scatterpolar\": [{\"marker\": {\"colorbar\": {\"outlinewidth\": 0, \"ticks\": \"\"}}, \"type\": \"scatterpolar\"}], \"scatterpolargl\": [{\"marker\": {\"colorbar\": {\"outlinewidth\": 0, \"ticks\": \"\"}}, \"type\": \"scatterpolargl\"}], \"scatterternary\": [{\"marker\": {\"colorbar\": {\"outlinewidth\": 0, \"ticks\": \"\"}}, \"type\": \"scatterternary\"}], \"surface\": [{\"colorbar\": {\"outlinewidth\": 0, \"ticks\": \"\"}, \"colorscale\": [[0.0, \"#0d0887\"], [0.1111111111111111, \"#46039f\"], [0.2222222222222222, \"#7201a8\"], [0.3333333333333333, \"#9c179e\"], [0.4444444444444444, \"#bd3786\"], [0.5555555555555556, \"#d8576b\"], [0.6666666666666666, \"#ed7953\"], [0.7777777777777778, \"#fb9f3a\"], [0.8888888888888888, \"#fdca26\"], [1.0, \"#f0f921\"]], \"type\": \"surface\"}], \"table\": [{\"cells\": {\"fill\": {\"color\": \"#EBF0F8\"}, \"line\": {\"color\": \"white\"}}, \"header\": {\"fill\": {\"color\": \"#C8D4E3\"}, \"line\": {\"color\": \"white\"}}, \"type\": \"table\"}]}, \"layout\": {\"annotationdefaults\": {\"arrowcolor\": \"#2a3f5f\", \"arrowhead\": 0, \"arrowwidth\": 1}, \"coloraxis\": {\"colorbar\": {\"outlinewidth\": 0, \"ticks\": \"\"}}, \"colorscale\": {\"diverging\": [[0, \"#8e0152\"], [0.1, \"#c51b7d\"], [0.2, \"#de77ae\"], [0.3, \"#f1b6da\"], [0.4, \"#fde0ef\"], [0.5, \"#f7f7f7\"], [0.6, \"#e6f5d0\"], [0.7, \"#b8e186\"], [0.8, \"#7fbc41\"], [0.9, \"#4d9221\"], [1, \"#276419\"]], \"sequential\": [[0.0, \"#0d0887\"], [0.1111111111111111, \"#46039f\"], [0.2222222222222222, \"#7201a8\"], [0.3333333333333333, \"#9c179e\"], [0.4444444444444444, \"#bd3786\"], [0.5555555555555556, \"#d8576b\"], [0.6666666666666666, \"#ed7953\"], [0.7777777777777778, \"#fb9f3a\"], [0.8888888888888888, \"#fdca26\"], [1.0, \"#f0f921\"]], \"sequentialminus\": [[0.0, \"#0d0887\"], [0.1111111111111111, \"#46039f\"], [0.2222222222222222, \"#7201a8\"], [0.3333333333333333, \"#9c179e\"], [0.4444444444444444, \"#bd3786\"], [0.5555555555555556, \"#d8576b\"], [0.6666666666666666, \"#ed7953\"], [0.7777777777777778, \"#fb9f3a\"], [0.8888888888888888, \"#fdca26\"], [1.0, \"#f0f921\"]]}, \"colorway\": [\"#636efa\", \"#EF553B\", \"#00cc96\", \"#ab63fa\", \"#FFA15A\", \"#19d3f3\", \"#FF6692\", \"#B6E880\", \"#FF97FF\", \"#FECB52\"], \"font\": {\"color\": \"#2a3f5f\"}, \"geo\": {\"bgcolor\": \"white\", \"lakecolor\": \"white\", \"landcolor\": \"#E5ECF6\", \"showlakes\": true, \"showland\": true, \"subunitcolor\": \"white\"}, \"hoverlabel\": {\"align\": \"left\"}, \"hovermode\": \"closest\", \"mapbox\": {\"style\": \"light\"}, \"paper_bgcolor\": \"white\", \"plot_bgcolor\": \"#E5ECF6\", \"polar\": {\"angularaxis\": {\"gridcolor\": \"white\", \"linecolor\": \"white\", \"ticks\": \"\"}, \"bgcolor\": \"#E5ECF6\", \"radialaxis\": {\"gridcolor\": \"white\", \"linecolor\": \"white\", \"ticks\": \"\"}}, \"scene\": {\"xaxis\": {\"backgroundcolor\": \"#E5ECF6\", \"gridcolor\": \"white\", \"gridwidth\": 2, \"linecolor\": \"white\", \"showbackground\": true, \"ticks\": \"\", \"zerolinecolor\": \"white\"}, \"yaxis\": {\"backgroundcolor\": \"#E5ECF6\", \"gridcolor\": \"white\", \"gridwidth\": 2, \"linecolor\": \"white\", \"showbackground\": true, \"ticks\": \"\", \"zerolinecolor\": \"white\"}, \"zaxis\": {\"backgroundcolor\": \"#E5ECF6\", \"gridcolor\": \"white\", \"gridwidth\": 2, \"linecolor\": \"white\", \"showbackground\": true, \"ticks\": \"\", \"zerolinecolor\": \"white\"}}, \"shapedefaults\": {\"line\": {\"color\": \"#2a3f5f\"}}, \"ternary\": {\"aaxis\": {\"gridcolor\": \"white\", \"linecolor\": \"white\", \"ticks\": \"\"}, \"baxis\": {\"gridcolor\": \"white\", \"linecolor\": \"white\", \"ticks\": \"\"}, \"bgcolor\": \"#E5ECF6\", \"caxis\": {\"gridcolor\": \"white\", \"linecolor\": \"white\", \"ticks\": \"\"}}, \"title\": {\"x\": 0.05}, \"xaxis\": {\"automargin\": true, \"gridcolor\": \"white\", \"linecolor\": \"white\", \"ticks\": \"\", \"title\": {\"standoff\": 15}, \"zerolinecolor\": \"white\", \"zerolinewidth\": 2}, \"yaxis\": {\"automargin\": true, \"gridcolor\": \"white\", \"linecolor\": \"white\", \"ticks\": \"\", \"title\": {\"standoff\": 15}, \"zerolinecolor\": \"white\", \"zerolinewidth\": 2}}}, \"title\": {\"text\": \"Richmond VA - house flipping\"}, \"xaxis\": {\"anchor\": \"y\", \"domain\": [0.0, 1.0], \"title\": {\"text\": \"Year\"}}, \"yaxis\": {\"anchor\": \"x\", \"domain\": [0.0, 1.0], \"title\": {\"text\": \"mean\"}}},\n",
       "                        {\"responsive\": true}\n",
       "                    ).then(function(){\n",
       "                            \n",
       "var gd = document.getElementById('0132d491-2bf4-48d1-b922-5cc88a27b61e');\n",
       "var x = new MutationObserver(function (mutations, observer) {{\n",
       "        var display = window.getComputedStyle(gd).display;\n",
       "        if (!display || display === 'none') {{\n",
       "            console.log([gd, 'removed!']);\n",
       "            Plotly.purge(gd);\n",
       "            observer.disconnect();\n",
       "        }}\n",
       "}});\n",
       "\n",
       "// Listen for the removal of the full notebook cells\n",
       "var notebookContainer = gd.closest('#notebook-container');\n",
       "if (notebookContainer) {{\n",
       "    x.observe(notebookContainer, {childList: true});\n",
       "}}\n",
       "\n",
       "// Listen for the clearing of the current output cell\n",
       "var outputEl = gd.closest('.output');\n",
       "if (outputEl) {{\n",
       "    x.observe(outputEl, {childList: true});\n",
       "}}\n",
       "\n",
       "                        })\n",
       "                };\n",
       "                });\n",
       "            </script>\n",
       "        </div>"
      ]
     },
     "metadata": {},
     "output_type": "display_data"
    }
   ],
   "source": [
    "# Found and removed a big outlier this way\n",
    "px.line(fynr, x='year', y='mean', color='dist',\n",
    "       title='Richmond VA - house flipping',\n",
    "       labels={\n",
    "                     \"year\": \"Year\",\n",
    "                     \"median\": \"Mean gross ROI\",\n",
    "                     \"dist\": \"Council district\"\n",
    "                 })"
   ]
  },
  {
   "cell_type": "code",
   "execution_count": 190,
   "id": "5722bb85",
   "metadata": {},
   "outputs": [
    {
     "data": {
      "application/vnd.plotly.v1+json": {
       "config": {
        "plotlyServerURL": "https://plot.ly"
       },
       "data": [
        {
         "hovertemplate": "Council district=1<br>Year=%{x}<br>count=%{y}<extra></extra>",
         "legendgroup": "1",
         "line": {
          "color": "#636efa",
          "dash": "solid"
         },
         "mode": "lines",
         "name": "1",
         "orientation": "v",
         "showlegend": true,
         "type": "scatter",
         "x": [
          2014,
          2015,
          2016,
          2017,
          2018,
          2019,
          2020,
          2021,
          2022
         ],
         "xaxis": "x",
         "y": [
          11,
          27,
          61,
          53,
          51,
          36,
          34,
          51,
          8
         ],
         "yaxis": "y"
        },
        {
         "hovertemplate": "Council district=2<br>Year=%{x}<br>count=%{y}<extra></extra>",
         "legendgroup": "2",
         "line": {
          "color": "#EF553B",
          "dash": "solid"
         },
         "mode": "lines",
         "name": "2",
         "orientation": "v",
         "showlegend": true,
         "type": "scatter",
         "x": [
          2014,
          2015,
          2016,
          2017,
          2018,
          2019,
          2020,
          2021,
          2022
         ],
         "xaxis": "x",
         "y": [
          4,
          14,
          25,
          21,
          25,
          12,
          17,
          18,
          7
         ],
         "yaxis": "y"
        },
        {
         "hovertemplate": "Council district=3<br>Year=%{x}<br>count=%{y}<extra></extra>",
         "legendgroup": "3",
         "line": {
          "color": "#00cc96",
          "dash": "solid"
         },
         "mode": "lines",
         "name": "3",
         "orientation": "v",
         "showlegend": true,
         "type": "scatter",
         "x": [
          2014,
          2015,
          2016,
          2017,
          2018,
          2019,
          2020,
          2021,
          2022
         ],
         "xaxis": "x",
         "y": [
          14,
          46,
          69,
          92,
          83,
          72,
          80,
          69,
          21
         ],
         "yaxis": "y"
        },
        {
         "hovertemplate": "Council district=4<br>Year=%{x}<br>count=%{y}<extra></extra>",
         "legendgroup": "4",
         "line": {
          "color": "#ab63fa",
          "dash": "solid"
         },
         "mode": "lines",
         "name": "4",
         "orientation": "v",
         "showlegend": true,
         "type": "scatter",
         "x": [
          2014,
          2015,
          2016,
          2017,
          2018,
          2019,
          2020,
          2021,
          2022
         ],
         "xaxis": "x",
         "y": [
          7,
          37,
          57,
          72,
          73,
          42,
          68,
          43,
          7
         ],
         "yaxis": "y"
        },
        {
         "hovertemplate": "Council district=5<br>Year=%{x}<br>count=%{y}<extra></extra>",
         "legendgroup": "5",
         "line": {
          "color": "#FFA15A",
          "dash": "solid"
         },
         "mode": "lines",
         "name": "5",
         "orientation": "v",
         "showlegend": true,
         "type": "scatter",
         "x": [
          2014,
          2015,
          2016,
          2017,
          2018,
          2019,
          2020,
          2021,
          2022
         ],
         "xaxis": "x",
         "y": [
          10,
          44,
          48,
          55,
          68,
          65,
          47,
          53,
          11
         ],
         "yaxis": "y"
        },
        {
         "hovertemplate": "Council district=6<br>Year=%{x}<br>count=%{y}<extra></extra>",
         "legendgroup": "6",
         "line": {
          "color": "#19d3f3",
          "dash": "solid"
         },
         "mode": "lines",
         "name": "6",
         "orientation": "v",
         "showlegend": true,
         "type": "scatter",
         "x": [
          2014,
          2015,
          2016,
          2017,
          2018,
          2019,
          2020,
          2021,
          2022
         ],
         "xaxis": "x",
         "y": [
          14,
          34,
          46,
          84,
          99,
          72,
          77,
          91,
          19
         ],
         "yaxis": "y"
        },
        {
         "hovertemplate": "Council district=7<br>Year=%{x}<br>count=%{y}<extra></extra>",
         "legendgroup": "7",
         "line": {
          "color": "#FF6692",
          "dash": "solid"
         },
         "mode": "lines",
         "name": "7",
         "orientation": "v",
         "showlegend": true,
         "type": "scatter",
         "x": [
          2014,
          2015,
          2016,
          2017,
          2018,
          2019,
          2020,
          2021,
          2022
         ],
         "xaxis": "x",
         "y": [
          18,
          50,
          78,
          103,
          110,
          98,
          87,
          100,
          25
         ],
         "yaxis": "y"
        },
        {
         "hovertemplate": "Council district=8<br>Year=%{x}<br>count=%{y}<extra></extra>",
         "legendgroup": "8",
         "line": {
          "color": "#B6E880",
          "dash": "solid"
         },
         "mode": "lines",
         "name": "8",
         "orientation": "v",
         "showlegend": true,
         "type": "scatter",
         "x": [
          2014,
          2015,
          2016,
          2017,
          2018,
          2019,
          2020,
          2021,
          2022
         ],
         "xaxis": "x",
         "y": [
          9,
          46,
          47,
          52,
          47,
          45,
          52,
          91,
          19
         ],
         "yaxis": "y"
        },
        {
         "hovertemplate": "Council district=9<br>Year=%{x}<br>count=%{y}<extra></extra>",
         "legendgroup": "9",
         "line": {
          "color": "#FF97FF",
          "dash": "solid"
         },
         "mode": "lines",
         "name": "9",
         "orientation": "v",
         "showlegend": true,
         "type": "scatter",
         "x": [
          2014,
          2015,
          2016,
          2017,
          2018,
          2019,
          2020,
          2021,
          2022
         ],
         "xaxis": "x",
         "y": [
          6,
          32,
          35,
          34,
          29,
          31,
          28,
          30,
          3
         ],
         "yaxis": "y"
        }
       ],
       "layout": {
        "legend": {
         "title": {
          "text": "Council district"
         },
         "tracegroupgap": 0
        },
        "template": {
         "data": {
          "bar": [
           {
            "error_x": {
             "color": "#2a3f5f"
            },
            "error_y": {
             "color": "#2a3f5f"
            },
            "marker": {
             "line": {
              "color": "#E5ECF6",
              "width": 0.5
             }
            },
            "type": "bar"
           }
          ],
          "barpolar": [
           {
            "marker": {
             "line": {
              "color": "#E5ECF6",
              "width": 0.5
             }
            },
            "type": "barpolar"
           }
          ],
          "carpet": [
           {
            "aaxis": {
             "endlinecolor": "#2a3f5f",
             "gridcolor": "white",
             "linecolor": "white",
             "minorgridcolor": "white",
             "startlinecolor": "#2a3f5f"
            },
            "baxis": {
             "endlinecolor": "#2a3f5f",
             "gridcolor": "white",
             "linecolor": "white",
             "minorgridcolor": "white",
             "startlinecolor": "#2a3f5f"
            },
            "type": "carpet"
           }
          ],
          "choropleth": [
           {
            "colorbar": {
             "outlinewidth": 0,
             "ticks": ""
            },
            "type": "choropleth"
           }
          ],
          "contour": [
           {
            "colorbar": {
             "outlinewidth": 0,
             "ticks": ""
            },
            "colorscale": [
             [
              0,
              "#0d0887"
             ],
             [
              0.1111111111111111,
              "#46039f"
             ],
             [
              0.2222222222222222,
              "#7201a8"
             ],
             [
              0.3333333333333333,
              "#9c179e"
             ],
             [
              0.4444444444444444,
              "#bd3786"
             ],
             [
              0.5555555555555556,
              "#d8576b"
             ],
             [
              0.6666666666666666,
              "#ed7953"
             ],
             [
              0.7777777777777778,
              "#fb9f3a"
             ],
             [
              0.8888888888888888,
              "#fdca26"
             ],
             [
              1,
              "#f0f921"
             ]
            ],
            "type": "contour"
           }
          ],
          "contourcarpet": [
           {
            "colorbar": {
             "outlinewidth": 0,
             "ticks": ""
            },
            "type": "contourcarpet"
           }
          ],
          "heatmap": [
           {
            "colorbar": {
             "outlinewidth": 0,
             "ticks": ""
            },
            "colorscale": [
             [
              0,
              "#0d0887"
             ],
             [
              0.1111111111111111,
              "#46039f"
             ],
             [
              0.2222222222222222,
              "#7201a8"
             ],
             [
              0.3333333333333333,
              "#9c179e"
             ],
             [
              0.4444444444444444,
              "#bd3786"
             ],
             [
              0.5555555555555556,
              "#d8576b"
             ],
             [
              0.6666666666666666,
              "#ed7953"
             ],
             [
              0.7777777777777778,
              "#fb9f3a"
             ],
             [
              0.8888888888888888,
              "#fdca26"
             ],
             [
              1,
              "#f0f921"
             ]
            ],
            "type": "heatmap"
           }
          ],
          "heatmapgl": [
           {
            "colorbar": {
             "outlinewidth": 0,
             "ticks": ""
            },
            "colorscale": [
             [
              0,
              "#0d0887"
             ],
             [
              0.1111111111111111,
              "#46039f"
             ],
             [
              0.2222222222222222,
              "#7201a8"
             ],
             [
              0.3333333333333333,
              "#9c179e"
             ],
             [
              0.4444444444444444,
              "#bd3786"
             ],
             [
              0.5555555555555556,
              "#d8576b"
             ],
             [
              0.6666666666666666,
              "#ed7953"
             ],
             [
              0.7777777777777778,
              "#fb9f3a"
             ],
             [
              0.8888888888888888,
              "#fdca26"
             ],
             [
              1,
              "#f0f921"
             ]
            ],
            "type": "heatmapgl"
           }
          ],
          "histogram": [
           {
            "marker": {
             "colorbar": {
              "outlinewidth": 0,
              "ticks": ""
             }
            },
            "type": "histogram"
           }
          ],
          "histogram2d": [
           {
            "colorbar": {
             "outlinewidth": 0,
             "ticks": ""
            },
            "colorscale": [
             [
              0,
              "#0d0887"
             ],
             [
              0.1111111111111111,
              "#46039f"
             ],
             [
              0.2222222222222222,
              "#7201a8"
             ],
             [
              0.3333333333333333,
              "#9c179e"
             ],
             [
              0.4444444444444444,
              "#bd3786"
             ],
             [
              0.5555555555555556,
              "#d8576b"
             ],
             [
              0.6666666666666666,
              "#ed7953"
             ],
             [
              0.7777777777777778,
              "#fb9f3a"
             ],
             [
              0.8888888888888888,
              "#fdca26"
             ],
             [
              1,
              "#f0f921"
             ]
            ],
            "type": "histogram2d"
           }
          ],
          "histogram2dcontour": [
           {
            "colorbar": {
             "outlinewidth": 0,
             "ticks": ""
            },
            "colorscale": [
             [
              0,
              "#0d0887"
             ],
             [
              0.1111111111111111,
              "#46039f"
             ],
             [
              0.2222222222222222,
              "#7201a8"
             ],
             [
              0.3333333333333333,
              "#9c179e"
             ],
             [
              0.4444444444444444,
              "#bd3786"
             ],
             [
              0.5555555555555556,
              "#d8576b"
             ],
             [
              0.6666666666666666,
              "#ed7953"
             ],
             [
              0.7777777777777778,
              "#fb9f3a"
             ],
             [
              0.8888888888888888,
              "#fdca26"
             ],
             [
              1,
              "#f0f921"
             ]
            ],
            "type": "histogram2dcontour"
           }
          ],
          "mesh3d": [
           {
            "colorbar": {
             "outlinewidth": 0,
             "ticks": ""
            },
            "type": "mesh3d"
           }
          ],
          "parcoords": [
           {
            "line": {
             "colorbar": {
              "outlinewidth": 0,
              "ticks": ""
             }
            },
            "type": "parcoords"
           }
          ],
          "pie": [
           {
            "automargin": true,
            "type": "pie"
           }
          ],
          "scatter": [
           {
            "marker": {
             "colorbar": {
              "outlinewidth": 0,
              "ticks": ""
             }
            },
            "type": "scatter"
           }
          ],
          "scatter3d": [
           {
            "line": {
             "colorbar": {
              "outlinewidth": 0,
              "ticks": ""
             }
            },
            "marker": {
             "colorbar": {
              "outlinewidth": 0,
              "ticks": ""
             }
            },
            "type": "scatter3d"
           }
          ],
          "scattercarpet": [
           {
            "marker": {
             "colorbar": {
              "outlinewidth": 0,
              "ticks": ""
             }
            },
            "type": "scattercarpet"
           }
          ],
          "scattergeo": [
           {
            "marker": {
             "colorbar": {
              "outlinewidth": 0,
              "ticks": ""
             }
            },
            "type": "scattergeo"
           }
          ],
          "scattergl": [
           {
            "marker": {
             "colorbar": {
              "outlinewidth": 0,
              "ticks": ""
             }
            },
            "type": "scattergl"
           }
          ],
          "scattermapbox": [
           {
            "marker": {
             "colorbar": {
              "outlinewidth": 0,
              "ticks": ""
             }
            },
            "type": "scattermapbox"
           }
          ],
          "scatterpolar": [
           {
            "marker": {
             "colorbar": {
              "outlinewidth": 0,
              "ticks": ""
             }
            },
            "type": "scatterpolar"
           }
          ],
          "scatterpolargl": [
           {
            "marker": {
             "colorbar": {
              "outlinewidth": 0,
              "ticks": ""
             }
            },
            "type": "scatterpolargl"
           }
          ],
          "scatterternary": [
           {
            "marker": {
             "colorbar": {
              "outlinewidth": 0,
              "ticks": ""
             }
            },
            "type": "scatterternary"
           }
          ],
          "surface": [
           {
            "colorbar": {
             "outlinewidth": 0,
             "ticks": ""
            },
            "colorscale": [
             [
              0,
              "#0d0887"
             ],
             [
              0.1111111111111111,
              "#46039f"
             ],
             [
              0.2222222222222222,
              "#7201a8"
             ],
             [
              0.3333333333333333,
              "#9c179e"
             ],
             [
              0.4444444444444444,
              "#bd3786"
             ],
             [
              0.5555555555555556,
              "#d8576b"
             ],
             [
              0.6666666666666666,
              "#ed7953"
             ],
             [
              0.7777777777777778,
              "#fb9f3a"
             ],
             [
              0.8888888888888888,
              "#fdca26"
             ],
             [
              1,
              "#f0f921"
             ]
            ],
            "type": "surface"
           }
          ],
          "table": [
           {
            "cells": {
             "fill": {
              "color": "#EBF0F8"
             },
             "line": {
              "color": "white"
             }
            },
            "header": {
             "fill": {
              "color": "#C8D4E3"
             },
             "line": {
              "color": "white"
             }
            },
            "type": "table"
           }
          ]
         },
         "layout": {
          "annotationdefaults": {
           "arrowcolor": "#2a3f5f",
           "arrowhead": 0,
           "arrowwidth": 1
          },
          "coloraxis": {
           "colorbar": {
            "outlinewidth": 0,
            "ticks": ""
           }
          },
          "colorscale": {
           "diverging": [
            [
             0,
             "#8e0152"
            ],
            [
             0.1,
             "#c51b7d"
            ],
            [
             0.2,
             "#de77ae"
            ],
            [
             0.3,
             "#f1b6da"
            ],
            [
             0.4,
             "#fde0ef"
            ],
            [
             0.5,
             "#f7f7f7"
            ],
            [
             0.6,
             "#e6f5d0"
            ],
            [
             0.7,
             "#b8e186"
            ],
            [
             0.8,
             "#7fbc41"
            ],
            [
             0.9,
             "#4d9221"
            ],
            [
             1,
             "#276419"
            ]
           ],
           "sequential": [
            [
             0,
             "#0d0887"
            ],
            [
             0.1111111111111111,
             "#46039f"
            ],
            [
             0.2222222222222222,
             "#7201a8"
            ],
            [
             0.3333333333333333,
             "#9c179e"
            ],
            [
             0.4444444444444444,
             "#bd3786"
            ],
            [
             0.5555555555555556,
             "#d8576b"
            ],
            [
             0.6666666666666666,
             "#ed7953"
            ],
            [
             0.7777777777777778,
             "#fb9f3a"
            ],
            [
             0.8888888888888888,
             "#fdca26"
            ],
            [
             1,
             "#f0f921"
            ]
           ],
           "sequentialminus": [
            [
             0,
             "#0d0887"
            ],
            [
             0.1111111111111111,
             "#46039f"
            ],
            [
             0.2222222222222222,
             "#7201a8"
            ],
            [
             0.3333333333333333,
             "#9c179e"
            ],
            [
             0.4444444444444444,
             "#bd3786"
            ],
            [
             0.5555555555555556,
             "#d8576b"
            ],
            [
             0.6666666666666666,
             "#ed7953"
            ],
            [
             0.7777777777777778,
             "#fb9f3a"
            ],
            [
             0.8888888888888888,
             "#fdca26"
            ],
            [
             1,
             "#f0f921"
            ]
           ]
          },
          "colorway": [
           "#636efa",
           "#EF553B",
           "#00cc96",
           "#ab63fa",
           "#FFA15A",
           "#19d3f3",
           "#FF6692",
           "#B6E880",
           "#FF97FF",
           "#FECB52"
          ],
          "font": {
           "color": "#2a3f5f"
          },
          "geo": {
           "bgcolor": "white",
           "lakecolor": "white",
           "landcolor": "#E5ECF6",
           "showlakes": true,
           "showland": true,
           "subunitcolor": "white"
          },
          "hoverlabel": {
           "align": "left"
          },
          "hovermode": "closest",
          "mapbox": {
           "style": "light"
          },
          "paper_bgcolor": "white",
          "plot_bgcolor": "#E5ECF6",
          "polar": {
           "angularaxis": {
            "gridcolor": "white",
            "linecolor": "white",
            "ticks": ""
           },
           "bgcolor": "#E5ECF6",
           "radialaxis": {
            "gridcolor": "white",
            "linecolor": "white",
            "ticks": ""
           }
          },
          "scene": {
           "xaxis": {
            "backgroundcolor": "#E5ECF6",
            "gridcolor": "white",
            "gridwidth": 2,
            "linecolor": "white",
            "showbackground": true,
            "ticks": "",
            "zerolinecolor": "white"
           },
           "yaxis": {
            "backgroundcolor": "#E5ECF6",
            "gridcolor": "white",
            "gridwidth": 2,
            "linecolor": "white",
            "showbackground": true,
            "ticks": "",
            "zerolinecolor": "white"
           },
           "zaxis": {
            "backgroundcolor": "#E5ECF6",
            "gridcolor": "white",
            "gridwidth": 2,
            "linecolor": "white",
            "showbackground": true,
            "ticks": "",
            "zerolinecolor": "white"
           }
          },
          "shapedefaults": {
           "line": {
            "color": "#2a3f5f"
           }
          },
          "ternary": {
           "aaxis": {
            "gridcolor": "white",
            "linecolor": "white",
            "ticks": ""
           },
           "baxis": {
            "gridcolor": "white",
            "linecolor": "white",
            "ticks": ""
           },
           "bgcolor": "#E5ECF6",
           "caxis": {
            "gridcolor": "white",
            "linecolor": "white",
            "ticks": ""
           }
          },
          "title": {
           "x": 0.05
          },
          "xaxis": {
           "automargin": true,
           "gridcolor": "white",
           "linecolor": "white",
           "ticks": "",
           "title": {
            "standoff": 15
           },
           "zerolinecolor": "white",
           "zerolinewidth": 2
          },
          "yaxis": {
           "automargin": true,
           "gridcolor": "white",
           "linecolor": "white",
           "ticks": "",
           "title": {
            "standoff": 15
           },
           "zerolinecolor": "white",
           "zerolinewidth": 2
          }
         }
        },
        "title": {
         "text": "Richmond VA - house flipping count"
        },
        "xaxis": {
         "anchor": "y",
         "domain": [
          0,
          1
         ],
         "title": {
          "text": "Year"
         }
        },
        "yaxis": {
         "anchor": "x",
         "domain": [
          0,
          1
         ],
         "title": {
          "text": "count"
         }
        }
       }
      },
      "text/html": [
       "<div>\n",
       "        \n",
       "        \n",
       "            <div id=\"af4a4c9d-0a4c-4329-888d-08de31af913d\" class=\"plotly-graph-div\" style=\"height:525px; width:100%;\"></div>\n",
       "            <script type=\"text/javascript\">\n",
       "                require([\"plotly\"], function(Plotly) {\n",
       "                    window.PLOTLYENV=window.PLOTLYENV || {};\n",
       "                    \n",
       "                if (document.getElementById(\"af4a4c9d-0a4c-4329-888d-08de31af913d\")) {\n",
       "                    Plotly.newPlot(\n",
       "                        'af4a4c9d-0a4c-4329-888d-08de31af913d',\n",
       "                        [{\"hovertemplate\": \"Council district=1<br>Year=%{x}<br>count=%{y}<extra></extra>\", \"legendgroup\": \"1\", \"line\": {\"color\": \"#636efa\", \"dash\": \"solid\"}, \"mode\": \"lines\", \"name\": \"1\", \"orientation\": \"v\", \"showlegend\": true, \"type\": \"scatter\", \"x\": [2014, 2015, 2016, 2017, 2018, 2019, 2020, 2021, 2022], \"xaxis\": \"x\", \"y\": [11, 27, 61, 53, 51, 36, 34, 51, 8], \"yaxis\": \"y\"}, {\"hovertemplate\": \"Council district=2<br>Year=%{x}<br>count=%{y}<extra></extra>\", \"legendgroup\": \"2\", \"line\": {\"color\": \"#EF553B\", \"dash\": \"solid\"}, \"mode\": \"lines\", \"name\": \"2\", \"orientation\": \"v\", \"showlegend\": true, \"type\": \"scatter\", \"x\": [2014, 2015, 2016, 2017, 2018, 2019, 2020, 2021, 2022], \"xaxis\": \"x\", \"y\": [4, 14, 25, 21, 25, 12, 17, 18, 7], \"yaxis\": \"y\"}, {\"hovertemplate\": \"Council district=3<br>Year=%{x}<br>count=%{y}<extra></extra>\", \"legendgroup\": \"3\", \"line\": {\"color\": \"#00cc96\", \"dash\": \"solid\"}, \"mode\": \"lines\", \"name\": \"3\", \"orientation\": \"v\", \"showlegend\": true, \"type\": \"scatter\", \"x\": [2014, 2015, 2016, 2017, 2018, 2019, 2020, 2021, 2022], \"xaxis\": \"x\", \"y\": [14, 46, 69, 92, 83, 72, 80, 69, 21], \"yaxis\": \"y\"}, {\"hovertemplate\": \"Council district=4<br>Year=%{x}<br>count=%{y}<extra></extra>\", \"legendgroup\": \"4\", \"line\": {\"color\": \"#ab63fa\", \"dash\": \"solid\"}, \"mode\": \"lines\", \"name\": \"4\", \"orientation\": \"v\", \"showlegend\": true, \"type\": \"scatter\", \"x\": [2014, 2015, 2016, 2017, 2018, 2019, 2020, 2021, 2022], \"xaxis\": \"x\", \"y\": [7, 37, 57, 72, 73, 42, 68, 43, 7], \"yaxis\": \"y\"}, {\"hovertemplate\": \"Council district=5<br>Year=%{x}<br>count=%{y}<extra></extra>\", \"legendgroup\": \"5\", \"line\": {\"color\": \"#FFA15A\", \"dash\": \"solid\"}, \"mode\": \"lines\", \"name\": \"5\", \"orientation\": \"v\", \"showlegend\": true, \"type\": \"scatter\", \"x\": [2014, 2015, 2016, 2017, 2018, 2019, 2020, 2021, 2022], \"xaxis\": \"x\", \"y\": [10, 44, 48, 55, 68, 65, 47, 53, 11], \"yaxis\": \"y\"}, {\"hovertemplate\": \"Council district=6<br>Year=%{x}<br>count=%{y}<extra></extra>\", \"legendgroup\": \"6\", \"line\": {\"color\": \"#19d3f3\", \"dash\": \"solid\"}, \"mode\": \"lines\", \"name\": \"6\", \"orientation\": \"v\", \"showlegend\": true, \"type\": \"scatter\", \"x\": [2014, 2015, 2016, 2017, 2018, 2019, 2020, 2021, 2022], \"xaxis\": \"x\", \"y\": [14, 34, 46, 84, 99, 72, 77, 91, 19], \"yaxis\": \"y\"}, {\"hovertemplate\": \"Council district=7<br>Year=%{x}<br>count=%{y}<extra></extra>\", \"legendgroup\": \"7\", \"line\": {\"color\": \"#FF6692\", \"dash\": \"solid\"}, \"mode\": \"lines\", \"name\": \"7\", \"orientation\": \"v\", \"showlegend\": true, \"type\": \"scatter\", \"x\": [2014, 2015, 2016, 2017, 2018, 2019, 2020, 2021, 2022], \"xaxis\": \"x\", \"y\": [18, 50, 78, 103, 110, 98, 87, 100, 25], \"yaxis\": \"y\"}, {\"hovertemplate\": \"Council district=8<br>Year=%{x}<br>count=%{y}<extra></extra>\", \"legendgroup\": \"8\", \"line\": {\"color\": \"#B6E880\", \"dash\": \"solid\"}, \"mode\": \"lines\", \"name\": \"8\", \"orientation\": \"v\", \"showlegend\": true, \"type\": \"scatter\", \"x\": [2014, 2015, 2016, 2017, 2018, 2019, 2020, 2021, 2022], \"xaxis\": \"x\", \"y\": [9, 46, 47, 52, 47, 45, 52, 91, 19], \"yaxis\": \"y\"}, {\"hovertemplate\": \"Council district=9<br>Year=%{x}<br>count=%{y}<extra></extra>\", \"legendgroup\": \"9\", \"line\": {\"color\": \"#FF97FF\", \"dash\": \"solid\"}, \"mode\": \"lines\", \"name\": \"9\", \"orientation\": \"v\", \"showlegend\": true, \"type\": \"scatter\", \"x\": [2014, 2015, 2016, 2017, 2018, 2019, 2020, 2021, 2022], \"xaxis\": \"x\", \"y\": [6, 32, 35, 34, 29, 31, 28, 30, 3], \"yaxis\": \"y\"}],\n",
       "                        {\"legend\": {\"title\": {\"text\": \"Council district\"}, \"tracegroupgap\": 0}, \"template\": {\"data\": {\"bar\": [{\"error_x\": {\"color\": \"#2a3f5f\"}, \"error_y\": {\"color\": \"#2a3f5f\"}, \"marker\": {\"line\": {\"color\": \"#E5ECF6\", \"width\": 0.5}}, \"type\": \"bar\"}], \"barpolar\": [{\"marker\": {\"line\": {\"color\": \"#E5ECF6\", \"width\": 0.5}}, \"type\": \"barpolar\"}], \"carpet\": [{\"aaxis\": {\"endlinecolor\": \"#2a3f5f\", \"gridcolor\": \"white\", \"linecolor\": \"white\", \"minorgridcolor\": \"white\", \"startlinecolor\": \"#2a3f5f\"}, \"baxis\": {\"endlinecolor\": \"#2a3f5f\", \"gridcolor\": \"white\", \"linecolor\": \"white\", \"minorgridcolor\": \"white\", \"startlinecolor\": \"#2a3f5f\"}, \"type\": \"carpet\"}], \"choropleth\": [{\"colorbar\": {\"outlinewidth\": 0, \"ticks\": \"\"}, \"type\": \"choropleth\"}], \"contour\": [{\"colorbar\": {\"outlinewidth\": 0, \"ticks\": \"\"}, \"colorscale\": [[0.0, \"#0d0887\"], [0.1111111111111111, \"#46039f\"], [0.2222222222222222, \"#7201a8\"], [0.3333333333333333, \"#9c179e\"], [0.4444444444444444, \"#bd3786\"], [0.5555555555555556, \"#d8576b\"], [0.6666666666666666, \"#ed7953\"], [0.7777777777777778, \"#fb9f3a\"], [0.8888888888888888, \"#fdca26\"], [1.0, \"#f0f921\"]], \"type\": \"contour\"}], \"contourcarpet\": [{\"colorbar\": {\"outlinewidth\": 0, \"ticks\": \"\"}, \"type\": \"contourcarpet\"}], \"heatmap\": [{\"colorbar\": {\"outlinewidth\": 0, \"ticks\": \"\"}, \"colorscale\": [[0.0, \"#0d0887\"], [0.1111111111111111, \"#46039f\"], [0.2222222222222222, \"#7201a8\"], [0.3333333333333333, \"#9c179e\"], [0.4444444444444444, \"#bd3786\"], [0.5555555555555556, \"#d8576b\"], [0.6666666666666666, \"#ed7953\"], [0.7777777777777778, \"#fb9f3a\"], [0.8888888888888888, \"#fdca26\"], [1.0, \"#f0f921\"]], \"type\": \"heatmap\"}], \"heatmapgl\": [{\"colorbar\": {\"outlinewidth\": 0, \"ticks\": \"\"}, \"colorscale\": [[0.0, \"#0d0887\"], [0.1111111111111111, \"#46039f\"], [0.2222222222222222, \"#7201a8\"], [0.3333333333333333, \"#9c179e\"], [0.4444444444444444, \"#bd3786\"], [0.5555555555555556, \"#d8576b\"], [0.6666666666666666, \"#ed7953\"], [0.7777777777777778, \"#fb9f3a\"], [0.8888888888888888, \"#fdca26\"], [1.0, \"#f0f921\"]], \"type\": \"heatmapgl\"}], \"histogram\": [{\"marker\": {\"colorbar\": {\"outlinewidth\": 0, \"ticks\": \"\"}}, \"type\": \"histogram\"}], \"histogram2d\": [{\"colorbar\": {\"outlinewidth\": 0, \"ticks\": \"\"}, \"colorscale\": [[0.0, \"#0d0887\"], [0.1111111111111111, \"#46039f\"], [0.2222222222222222, \"#7201a8\"], [0.3333333333333333, \"#9c179e\"], [0.4444444444444444, \"#bd3786\"], [0.5555555555555556, \"#d8576b\"], [0.6666666666666666, \"#ed7953\"], [0.7777777777777778, \"#fb9f3a\"], [0.8888888888888888, \"#fdca26\"], [1.0, \"#f0f921\"]], \"type\": \"histogram2d\"}], \"histogram2dcontour\": [{\"colorbar\": {\"outlinewidth\": 0, \"ticks\": \"\"}, \"colorscale\": [[0.0, \"#0d0887\"], [0.1111111111111111, \"#46039f\"], [0.2222222222222222, \"#7201a8\"], [0.3333333333333333, \"#9c179e\"], [0.4444444444444444, \"#bd3786\"], [0.5555555555555556, \"#d8576b\"], [0.6666666666666666, \"#ed7953\"], [0.7777777777777778, \"#fb9f3a\"], [0.8888888888888888, \"#fdca26\"], [1.0, \"#f0f921\"]], \"type\": \"histogram2dcontour\"}], \"mesh3d\": [{\"colorbar\": {\"outlinewidth\": 0, \"ticks\": \"\"}, \"type\": \"mesh3d\"}], \"parcoords\": [{\"line\": {\"colorbar\": {\"outlinewidth\": 0, \"ticks\": \"\"}}, \"type\": \"parcoords\"}], \"pie\": [{\"automargin\": true, \"type\": \"pie\"}], \"scatter\": [{\"marker\": {\"colorbar\": {\"outlinewidth\": 0, \"ticks\": \"\"}}, \"type\": \"scatter\"}], \"scatter3d\": [{\"line\": {\"colorbar\": {\"outlinewidth\": 0, \"ticks\": \"\"}}, \"marker\": {\"colorbar\": {\"outlinewidth\": 0, \"ticks\": \"\"}}, \"type\": \"scatter3d\"}], \"scattercarpet\": [{\"marker\": {\"colorbar\": {\"outlinewidth\": 0, \"ticks\": \"\"}}, \"type\": \"scattercarpet\"}], \"scattergeo\": [{\"marker\": {\"colorbar\": {\"outlinewidth\": 0, \"ticks\": \"\"}}, \"type\": \"scattergeo\"}], \"scattergl\": [{\"marker\": {\"colorbar\": {\"outlinewidth\": 0, \"ticks\": \"\"}}, \"type\": \"scattergl\"}], \"scattermapbox\": [{\"marker\": {\"colorbar\": {\"outlinewidth\": 0, \"ticks\": \"\"}}, \"type\": \"scattermapbox\"}], \"scatterpolar\": [{\"marker\": {\"colorbar\": {\"outlinewidth\": 0, \"ticks\": \"\"}}, \"type\": \"scatterpolar\"}], \"scatterpolargl\": [{\"marker\": {\"colorbar\": {\"outlinewidth\": 0, \"ticks\": \"\"}}, \"type\": \"scatterpolargl\"}], \"scatterternary\": [{\"marker\": {\"colorbar\": {\"outlinewidth\": 0, \"ticks\": \"\"}}, \"type\": \"scatterternary\"}], \"surface\": [{\"colorbar\": {\"outlinewidth\": 0, \"ticks\": \"\"}, \"colorscale\": [[0.0, \"#0d0887\"], [0.1111111111111111, \"#46039f\"], [0.2222222222222222, \"#7201a8\"], [0.3333333333333333, \"#9c179e\"], [0.4444444444444444, \"#bd3786\"], [0.5555555555555556, \"#d8576b\"], [0.6666666666666666, \"#ed7953\"], [0.7777777777777778, \"#fb9f3a\"], [0.8888888888888888, \"#fdca26\"], [1.0, \"#f0f921\"]], \"type\": \"surface\"}], \"table\": [{\"cells\": {\"fill\": {\"color\": \"#EBF0F8\"}, \"line\": {\"color\": \"white\"}}, \"header\": {\"fill\": {\"color\": \"#C8D4E3\"}, \"line\": {\"color\": \"white\"}}, \"type\": \"table\"}]}, \"layout\": {\"annotationdefaults\": {\"arrowcolor\": \"#2a3f5f\", \"arrowhead\": 0, \"arrowwidth\": 1}, \"coloraxis\": {\"colorbar\": {\"outlinewidth\": 0, \"ticks\": \"\"}}, \"colorscale\": {\"diverging\": [[0, \"#8e0152\"], [0.1, \"#c51b7d\"], [0.2, \"#de77ae\"], [0.3, \"#f1b6da\"], [0.4, \"#fde0ef\"], [0.5, \"#f7f7f7\"], [0.6, \"#e6f5d0\"], [0.7, \"#b8e186\"], [0.8, \"#7fbc41\"], [0.9, \"#4d9221\"], [1, \"#276419\"]], \"sequential\": [[0.0, \"#0d0887\"], [0.1111111111111111, \"#46039f\"], [0.2222222222222222, \"#7201a8\"], [0.3333333333333333, \"#9c179e\"], [0.4444444444444444, \"#bd3786\"], [0.5555555555555556, \"#d8576b\"], [0.6666666666666666, \"#ed7953\"], [0.7777777777777778, \"#fb9f3a\"], [0.8888888888888888, \"#fdca26\"], [1.0, \"#f0f921\"]], \"sequentialminus\": [[0.0, \"#0d0887\"], [0.1111111111111111, \"#46039f\"], [0.2222222222222222, \"#7201a8\"], [0.3333333333333333, \"#9c179e\"], [0.4444444444444444, \"#bd3786\"], [0.5555555555555556, \"#d8576b\"], [0.6666666666666666, \"#ed7953\"], [0.7777777777777778, \"#fb9f3a\"], [0.8888888888888888, \"#fdca26\"], [1.0, \"#f0f921\"]]}, \"colorway\": [\"#636efa\", \"#EF553B\", \"#00cc96\", \"#ab63fa\", \"#FFA15A\", \"#19d3f3\", \"#FF6692\", \"#B6E880\", \"#FF97FF\", \"#FECB52\"], \"font\": {\"color\": \"#2a3f5f\"}, \"geo\": {\"bgcolor\": \"white\", \"lakecolor\": \"white\", \"landcolor\": \"#E5ECF6\", \"showlakes\": true, \"showland\": true, \"subunitcolor\": \"white\"}, \"hoverlabel\": {\"align\": \"left\"}, \"hovermode\": \"closest\", \"mapbox\": {\"style\": \"light\"}, \"paper_bgcolor\": \"white\", \"plot_bgcolor\": \"#E5ECF6\", \"polar\": {\"angularaxis\": {\"gridcolor\": \"white\", \"linecolor\": \"white\", \"ticks\": \"\"}, \"bgcolor\": \"#E5ECF6\", \"radialaxis\": {\"gridcolor\": \"white\", \"linecolor\": \"white\", \"ticks\": \"\"}}, \"scene\": {\"xaxis\": {\"backgroundcolor\": \"#E5ECF6\", \"gridcolor\": \"white\", \"gridwidth\": 2, \"linecolor\": \"white\", \"showbackground\": true, \"ticks\": \"\", \"zerolinecolor\": \"white\"}, \"yaxis\": {\"backgroundcolor\": \"#E5ECF6\", \"gridcolor\": \"white\", \"gridwidth\": 2, \"linecolor\": \"white\", \"showbackground\": true, \"ticks\": \"\", \"zerolinecolor\": \"white\"}, \"zaxis\": {\"backgroundcolor\": \"#E5ECF6\", \"gridcolor\": \"white\", \"gridwidth\": 2, \"linecolor\": \"white\", \"showbackground\": true, \"ticks\": \"\", \"zerolinecolor\": \"white\"}}, \"shapedefaults\": {\"line\": {\"color\": \"#2a3f5f\"}}, \"ternary\": {\"aaxis\": {\"gridcolor\": \"white\", \"linecolor\": \"white\", \"ticks\": \"\"}, \"baxis\": {\"gridcolor\": \"white\", \"linecolor\": \"white\", \"ticks\": \"\"}, \"bgcolor\": \"#E5ECF6\", \"caxis\": {\"gridcolor\": \"white\", \"linecolor\": \"white\", \"ticks\": \"\"}}, \"title\": {\"x\": 0.05}, \"xaxis\": {\"automargin\": true, \"gridcolor\": \"white\", \"linecolor\": \"white\", \"ticks\": \"\", \"title\": {\"standoff\": 15}, \"zerolinecolor\": \"white\", \"zerolinewidth\": 2}, \"yaxis\": {\"automargin\": true, \"gridcolor\": \"white\", \"linecolor\": \"white\", \"ticks\": \"\", \"title\": {\"standoff\": 15}, \"zerolinecolor\": \"white\", \"zerolinewidth\": 2}}}, \"title\": {\"text\": \"Richmond VA - house flipping count\"}, \"xaxis\": {\"anchor\": \"y\", \"domain\": [0.0, 1.0], \"title\": {\"text\": \"Year\"}}, \"yaxis\": {\"anchor\": \"x\", \"domain\": [0.0, 1.0], \"title\": {\"text\": \"count\"}}},\n",
       "                        {\"responsive\": true}\n",
       "                    ).then(function(){\n",
       "                            \n",
       "var gd = document.getElementById('af4a4c9d-0a4c-4329-888d-08de31af913d');\n",
       "var x = new MutationObserver(function (mutations, observer) {{\n",
       "        var display = window.getComputedStyle(gd).display;\n",
       "        if (!display || display === 'none') {{\n",
       "            console.log([gd, 'removed!']);\n",
       "            Plotly.purge(gd);\n",
       "            observer.disconnect();\n",
       "        }}\n",
       "}});\n",
       "\n",
       "// Listen for the removal of the full notebook cells\n",
       "var notebookContainer = gd.closest('#notebook-container');\n",
       "if (notebookContainer) {{\n",
       "    x.observe(notebookContainer, {childList: true});\n",
       "}}\n",
       "\n",
       "// Listen for the clearing of the current output cell\n",
       "var outputEl = gd.closest('.output');\n",
       "if (outputEl) {{\n",
       "    x.observe(outputEl, {childList: true});\n",
       "}}\n",
       "\n",
       "                        })\n",
       "                };\n",
       "                });\n",
       "            </script>\n",
       "        </div>"
      ]
     },
     "metadata": {},
     "output_type": "display_data"
    }
   ],
   "source": [
    "# try with count\n",
    "flips['council'] = flips['district_number_x'].astype('str').str[:1]\n",
    "fynr = flips.groupby(['year','council']).agg({'roi':['mean','median','std','count']}).reset_index()\n",
    "fynr.columns = ['year','dist','mean','median','std','count']\n",
    "px.line(fynr, x='year', y='count', color='dist',\n",
    "       title='Richmond VA - house flipping count',\n",
    "       labels={\n",
    "                     \"year\": \"Year\",\n",
    "                     \"median\": \"Number of flips sold\",\n",
    "                     \"dist\": \"Council district\"\n",
    "                 })"
   ]
  },
  {
   "cell_type": "code",
   "execution_count": 204,
   "id": "e6df2256",
   "metadata": {},
   "outputs": [],
   "source": [
    "flips.to_csv('data/flips.csv')"
   ]
  },
  {
   "cell_type": "code",
   "execution_count": null,
   "id": "17a1c25e",
   "metadata": {},
   "outputs": [],
   "source": []
  }
 ],
 "metadata": {
  "kernelspec": {
   "display_name": "Python [conda env:python38] *",
   "language": "python",
   "name": "conda-env-python38-py"
  },
  "language_info": {
   "codemirror_mode": {
    "name": "ipython",
    "version": 3
   },
   "file_extension": ".py",
   "mimetype": "text/x-python",
   "name": "python",
   "nbconvert_exporter": "python",
   "pygments_lexer": "ipython3",
   "version": "3.8.3"
  }
 },
 "nbformat": 4,
 "nbformat_minor": 5
}
