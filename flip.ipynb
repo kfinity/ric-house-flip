{
 "cells": [
  {
   "cell_type": "code",
   "execution_count": 1,
   "id": "103c9e08",
   "metadata": {},
   "outputs": [],
   "source": [
    "import pandas as pd\n",
    "import arcgis_scrape # local library"
   ]
  },
  {
   "cell_type": "code",
   "execution_count": 2,
   "id": "c2b0cb6b",
   "metadata": {},
   "outputs": [],
   "source": [
    "# Source: https://cor.maps.arcgis.com/apps/webappviewer/index.html?id=5dea94b6112a45eeadf5d25bba47d28a\n",
    "# View layers, Show Item Details for primary layer, click layer, copy url\n",
    "# \n",
    "base_url = 'https://services1.arcgis.com/k3vhq11XkBNeeOfM/arcgis/rest/services/AssessorProValGPINRecTransPublish/FeatureServer/0'"
   ]
  },
  {
   "cell_type": "code",
   "execution_count": 3,
   "id": "23561c49",
   "metadata": {},
   "outputs": [
    {
     "name": "stdout",
     "output_type": "stream",
     "text": [
      "Rowcount: 17601, pages: 18\n",
      "Request 0: 0\n",
      "Request 1: 1000\n",
      "Request 2: 2000\n",
      "Request 3: 3000\n",
      "Request 4: 4000\n",
      "Request 5: 5000\n",
      "Request 6: 6000\n",
      "Request 7: 7000\n",
      "Request 8: 8000\n",
      "Request 9: 9000\n",
      "Request 10: 10000\n",
      "Request 11: 11000\n",
      "Request 12: 12000\n",
      "Request 13: 13000\n",
      "Request 14: 14000\n",
      "Request 15: 15000\n",
      "Request 16: 16000\n",
      "Request 17: 17000\n",
      "Final shape: (17601, 36)\n"
     ]
    }
   ],
   "source": [
    "df = arcgis_scrape.to_df(base_url, {'orderByFields':'parcel_id ASC'})"
   ]
  },
  {
   "cell_type": "code",
   "execution_count": 15,
   "id": "021955e2",
   "metadata": {},
   "outputs": [],
   "source": [
    "# save to file\n",
    "df.to_csv('data/transfers_2019-2022.csv',index=False)"
   ]
  },
  {
   "cell_type": "code",
   "execution_count": 6,
   "id": "8a6ff7fc",
   "metadata": {},
   "outputs": [
    {
     "data": {
      "text/html": [
       "<div>\n",
       "<style scoped>\n",
       "    .dataframe tbody tr th:only-of-type {\n",
       "        vertical-align: middle;\n",
       "    }\n",
       "\n",
       "    .dataframe tbody tr th {\n",
       "        vertical-align: top;\n",
       "    }\n",
       "\n",
       "    .dataframe thead th {\n",
       "        text-align: right;\n",
       "    }\n",
       "</style>\n",
       "<table border=\"1\" class=\"dataframe\">\n",
       "  <thead>\n",
       "    <tr style=\"text-align: right;\">\n",
       "      <th></th>\n",
       "      <th>OBJECTID2</th>\n",
       "      <th>OBJECTID1</th>\n",
       "      <th>OBJECTID</th>\n",
       "      <th>GPIN</th>\n",
       "      <th>ParcelID</th>\n",
       "      <th>join_OBJECTID</th>\n",
       "      <th>lrsn</th>\n",
       "      <th>parcel_id</th>\n",
       "      <th>gisParcelID</th>\n",
       "      <th>Land</th>\n",
       "      <th>...</th>\n",
       "      <th>join_tot</th>\n",
       "      <th>asmt_year</th>\n",
       "      <th>sale_date</th>\n",
       "      <th>sale_price</th>\n",
       "      <th>val_code_1</th>\n",
       "      <th>val_code_2</th>\n",
       "      <th>ratio</th>\n",
       "      <th>DocNum</th>\n",
       "      <th>x</th>\n",
       "      <th>y</th>\n",
       "    </tr>\n",
       "  </thead>\n",
       "  <tbody>\n",
       "    <tr>\n",
       "      <th>5959</th>\n",
       "      <td>10130</td>\n",
       "      <td>68615</td>\n",
       "      <td>67017</td>\n",
       "      <td>657397</td>\n",
       "      <td>97988</td>\n",
       "      <td>69943</td>\n",
       "      <td>76499</td>\n",
       "      <td>E0001763076</td>\n",
       "      <td>97988</td>\n",
       "      <td>14000</td>\n",
       "      <td>...</td>\n",
       "      <td>68000</td>\n",
       "      <td>20220101</td>\n",
       "      <td>1556251200000</td>\n",
       "      <td>116000</td>\n",
       "      <td>1 - VALID SALE</td>\n",
       "      <td>Sale Includes Multiple Parcels</td>\n",
       "      <td>0.586</td>\n",
       "      <td>BS</td>\n",
       "      <td>1.180329e+07</td>\n",
       "      <td>3.719001e+06</td>\n",
       "    </tr>\n",
       "    <tr>\n",
       "      <th>6725</th>\n",
       "      <td>9878</td>\n",
       "      <td>20254</td>\n",
       "      <td>2419</td>\n",
       "      <td>44446</td>\n",
       "      <td>6124</td>\n",
       "      <td>26076</td>\n",
       "      <td>26879</td>\n",
       "      <td>N0000088022</td>\n",
       "      <td>6124</td>\n",
       "      <td>8000.0</td>\n",
       "      <td>...</td>\n",
       "      <td>8000.0</td>\n",
       "      <td>20220101.0</td>\n",
       "      <td>1556251200000</td>\n",
       "      <td>6488</td>\n",
       "      <td>2 - INVALID SALE</td>\n",
       "      <td>Foreclosure, Forced Sale, etc.</td>\n",
       "      <td>1.233</td>\n",
       "      <td>SC</td>\n",
       "      <td>1.179227e+07</td>\n",
       "      <td>3.725682e+06</td>\n",
       "    </tr>\n",
       "  </tbody>\n",
       "</table>\n",
       "<p>2 rows × 36 columns</p>\n",
       "</div>"
      ],
      "text/plain": [
       "     OBJECTID2 OBJECTID1 OBJECTID    GPIN ParcelID join_OBJECTID   lrsn  \\\n",
       "5959     10130     68615    67017  657397    97988         69943  76499   \n",
       "6725      9878     20254     2419   44446     6124         26076  26879   \n",
       "\n",
       "                       parcel_id gisParcelID    Land  ... join_tot  \\\n",
       "5959  E0001763076                      97988   14000  ...    68000   \n",
       "6725  N0000088022                       6124  8000.0  ...   8000.0   \n",
       "\n",
       "       asmt_year      sale_date sale_price                      val_code_1  \\\n",
       "5959    20220101  1556251200000     116000  1 - VALID SALE                   \n",
       "6725  20220101.0  1556251200000       6488  2 - INVALID SALE                 \n",
       "\n",
       "                          val_code_2  ratio                            DocNum  \\\n",
       "5959  Sale Includes Multiple Parcels  0.586  BS                                 \n",
       "6725  Foreclosure, Forced Sale, etc.  1.233  SC                                 \n",
       "\n",
       "                 x             y  \n",
       "5959  1.180329e+07  3.719001e+06  \n",
       "6725  1.179227e+07  3.725682e+06  \n",
       "\n",
       "[2 rows x 36 columns]"
      ]
     },
     "execution_count": 6,
     "metadata": {},
     "output_type": "execute_result"
    }
   ],
   "source": [
    "df.sort_values('sale_date').head(2)"
   ]
  },
  {
   "cell_type": "code",
   "execution_count": 12,
   "id": "a4ca92f6",
   "metadata": {},
   "outputs": [
    {
     "data": {
      "text/plain": [
       "0       2020-06-23 04:00:00\n",
       "1       2021-02-22 05:00:00\n",
       "2       2021-11-04 04:00:00\n",
       "3       2020-06-23 04:00:00\n",
       "4       2020-06-23 04:00:00\n",
       "                ...        \n",
       "17596   2019-07-25 04:00:00\n",
       "17597   2019-11-18 05:00:00\n",
       "17598   2021-08-12 04:00:00\n",
       "17599   2021-08-12 04:00:00\n",
       "17600   2021-12-07 05:00:00\n",
       "Name: sale_date, Length: 17601, dtype: datetime64[ns]"
      ]
     },
     "execution_count": 12,
     "metadata": {},
     "output_type": "execute_result"
    }
   ],
   "source": [
    "df['sale_date'] = pd.to_datetime(df['sale_date'],unit='ms')"
   ]
  },
  {
   "cell_type": "code",
   "execution_count": null,
   "id": "783c6381",
   "metadata": {},
   "outputs": [],
   "source": [
    "df['sale_date']/1000"
   ]
  }
 ],
 "metadata": {
  "kernelspec": {
   "display_name": "Python [conda env:python38] *",
   "language": "python",
   "name": "conda-env-python38-py"
  },
  "language_info": {
   "codemirror_mode": {
    "name": "ipython",
    "version": 3
   },
   "file_extension": ".py",
   "mimetype": "text/x-python",
   "name": "python",
   "nbconvert_exporter": "python",
   "pygments_lexer": "ipython3",
   "version": "3.8.3"
  }
 },
 "nbformat": 4,
 "nbformat_minor": 5
}
